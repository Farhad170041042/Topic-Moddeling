{
  "nbformat": 4,
  "nbformat_minor": 0,
  "metadata": {
    "colab": {
      "name": "Topic_modeling_for_Bangla(B-SQUAD).ipynb",
      "provenance": []
    },
    "kernelspec": {
      "display_name": "Python 3",
      "name": "python3"
    },
    "language_info": {
      "name": "python"
    }
  },
  "cells": [
    {
      "cell_type": "markdown",
      "metadata": {
        "id": "g34Nvtd5gyJL"
      },
      "source": [
        "# **Downloading Dataset**"
      ]
    },
    {
      "cell_type": "code",
      "metadata": {
        "colab": {
          "base_uri": "https://localhost:8080/"
        },
        "id": "AEl0m0Zxg6tQ",
        "outputId": "0c1e5abc-dcc3-43de-d183-a498f4bc4822"
      },
      "source": [
        "# Downloading dataset\n",
        "#!gdown --id '1ByiHjCUy9xpiA8Nn3pW74P1LrT9WFe30'    #tydiqa 1.1 gold train link\n",
        "#!gdown --id '1bHhPwViBmboHKRcqW8eL0YusurJ7ZCgq'    #tydiqa 1.1 gold dev link\n",
        "# !gdown --id '1mnI8sl8hJAIWF2iU8Tufh8SA5BWQZFYs'    #tydiqa 1.0 train link\n",
        "# !gdown --id '1JO3WhQ6py1wamjDfybKnrpTY-hnIXoNl'    #tydiqa 1.0 dev link\n",
        "!gdown --id '1cFs3AOV17g-QUniSjfjpHkEQ07UWTdUN'      #bengali-squad train link"
      ],
      "execution_count": null,
      "outputs": [
        {
          "output_type": "stream",
          "text": [
            "Downloading...\n",
            "From: https://drive.google.com/uc?id=1cFs3AOV17g-QUniSjfjpHkEQ07UWTdUN\n",
            "To: /content/train_bangla_samples_fixed_preprocessed.csv\n",
            "33.3MB [00:00, 91.5MB/s]\n"
          ],
          "name": "stdout"
        }
      ]
    },
    {
      "cell_type": "markdown",
      "metadata": {
        "id": "mXvEJFcrhKMV"
      },
      "source": [
        "# **Loading Dataset**"
      ]
    },
    {
      "cell_type": "code",
      "metadata": {
        "colab": {
          "base_uri": "https://localhost:8080/"
        },
        "id": "3-i69LAtg_2U",
        "outputId": "6da8b721-d3b7-45b3-d28f-df3637c885f5"
      },
      "source": [
        "import pandas as pd\n",
        "\n",
        "df = pd.read_csv('/content/train_bangla_samples_fixed_preprocessed.csv')\n",
        "context = df['context']\n",
        "len(context)\n"
      ],
      "execution_count": null,
      "outputs": [
        {
          "output_type": "execute_result",
          "data": {
            "text/plain": [
              "13284"
            ]
          },
          "metadata": {
            "tags": []
          },
          "execution_count": 5
        }
      ]
    },
    {
      "cell_type": "markdown",
      "metadata": {
        "id": "XY2uR4gIhncQ"
      },
      "source": [
        "# **Downloading Packages**"
      ]
    },
    {
      "cell_type": "code",
      "metadata": {
        "id": "nyhTjbCghcbe",
        "colab": {
          "base_uri": "https://localhost:8080/",
          "height": 1000
        },
        "outputId": "9f4efc6b-7984-4114-f5bc-1fafdbb64f40"
      },
      "source": [
        "\n",
        "# bangla spcay model\n",
        "!pip install -U spacy==2.3.2\n",
        "!pip install https://github.com/banglakit/spacy-models/releases/download/bn_core_news_sm-0.1.0/bn_core_news_sm-0.1.0.tar.gz\n",
        "!pip install -U spacy==2.3.2\n",
        "\n"
      ],
      "execution_count": null,
      "outputs": [
        {
          "output_type": "stream",
          "text": [
            "Collecting spacy==2.3.2\n",
            "\u001b[?25l  Downloading https://files.pythonhosted.org/packages/55/24/70c615f5b22440c679a4132b81eee67d1dfd70d159505a28ff949c78a1ac/spacy-2.3.2-cp37-cp37m-manylinux1_x86_64.whl (9.9MB)\n",
            "\u001b[K     |████████████████████████████████| 9.9MB 2.8MB/s \n",
            "\u001b[?25hCollecting srsly<1.1.0,>=1.0.2\n",
            "\u001b[?25l  Downloading https://files.pythonhosted.org/packages/cc/48/44bd8693a7a705976884cabd52a516fe5cbcecf5f45be732f8f04ad2605b/srsly-1.0.5-cp37-cp37m-manylinux2014_x86_64.whl (184kB)\n",
            "\u001b[K     |████████████████████████████████| 184kB 33.8MB/s \n",
            "\u001b[?25hRequirement already satisfied, skipping upgrade: preshed<3.1.0,>=3.0.2 in /usr/local/lib/python3.7/dist-packages (from spacy==2.3.2) (3.0.5)\n",
            "Collecting catalogue<1.1.0,>=0.0.7\n",
            "  Downloading https://files.pythonhosted.org/packages/6c/f9/9a5658e2f56932e41eb264941f9a2cb7f3ce41a80cb36b2af6ab78e2f8af/catalogue-1.0.0-py2.py3-none-any.whl\n",
            "Requirement already satisfied, skipping upgrade: requests<3.0.0,>=2.13.0 in /usr/local/lib/python3.7/dist-packages (from spacy==2.3.2) (2.23.0)\n",
            "Requirement already satisfied, skipping upgrade: cymem<2.1.0,>=2.0.2 in /usr/local/lib/python3.7/dist-packages (from spacy==2.3.2) (2.0.5)\n",
            "Requirement already satisfied, skipping upgrade: plac<1.2.0,>=0.9.6 in /usr/local/lib/python3.7/dist-packages (from spacy==2.3.2) (1.1.3)\n",
            "Requirement already satisfied, skipping upgrade: blis<0.5.0,>=0.4.0 in /usr/local/lib/python3.7/dist-packages (from spacy==2.3.2) (0.4.1)\n",
            "Requirement already satisfied, skipping upgrade: setuptools in /usr/local/lib/python3.7/dist-packages (from spacy==2.3.2) (56.1.0)\n",
            "Requirement already satisfied, skipping upgrade: wasabi<1.1.0,>=0.4.0 in /usr/local/lib/python3.7/dist-packages (from spacy==2.3.2) (0.8.2)\n",
            "Requirement already satisfied, skipping upgrade: numpy>=1.15.0 in /usr/local/lib/python3.7/dist-packages (from spacy==2.3.2) (1.20.3)\n",
            "Requirement already satisfied, skipping upgrade: tqdm<5.0.0,>=4.38.0 in /usr/local/lib/python3.7/dist-packages (from spacy==2.3.2) (4.41.1)\n",
            "Requirement already satisfied, skipping upgrade: murmurhash<1.1.0,>=0.28.0 in /usr/local/lib/python3.7/dist-packages (from spacy==2.3.2) (1.0.5)\n",
            "Collecting thinc==7.4.1\n",
            "\u001b[?25l  Downloading https://files.pythonhosted.org/packages/1b/4e/6f16cfebb0dd68cc8a9a973eba8e01ee7b960dc563edb12a3ee397473e32/thinc-7.4.1-cp37-cp37m-manylinux1_x86_64.whl (2.1MB)\n",
            "\u001b[K     |████████████████████████████████| 2.1MB 32.6MB/s \n",
            "\u001b[?25hRequirement already satisfied, skipping upgrade: importlib-metadata>=0.20; python_version < \"3.8\" in /usr/local/lib/python3.7/dist-packages (from catalogue<1.1.0,>=0.0.7->spacy==2.3.2) (4.0.1)\n",
            "Requirement already satisfied, skipping upgrade: idna<3,>=2.5 in /usr/local/lib/python3.7/dist-packages (from requests<3.0.0,>=2.13.0->spacy==2.3.2) (2.10)\n",
            "Requirement already satisfied, skipping upgrade: urllib3!=1.25.0,!=1.25.1,<1.26,>=1.21.1 in /usr/local/lib/python3.7/dist-packages (from requests<3.0.0,>=2.13.0->spacy==2.3.2) (1.24.3)\n",
            "Requirement already satisfied, skipping upgrade: chardet<4,>=3.0.2 in /usr/local/lib/python3.7/dist-packages (from requests<3.0.0,>=2.13.0->spacy==2.3.2) (3.0.4)\n",
            "Requirement already satisfied, skipping upgrade: certifi>=2017.4.17 in /usr/local/lib/python3.7/dist-packages (from requests<3.0.0,>=2.13.0->spacy==2.3.2) (2020.12.5)\n",
            "Requirement already satisfied, skipping upgrade: zipp>=0.5 in /usr/local/lib/python3.7/dist-packages (from importlib-metadata>=0.20; python_version < \"3.8\"->catalogue<1.1.0,>=0.0.7->spacy==2.3.2) (3.4.1)\n",
            "Requirement already satisfied, skipping upgrade: typing-extensions>=3.6.4; python_version < \"3.8\" in /usr/local/lib/python3.7/dist-packages (from importlib-metadata>=0.20; python_version < \"3.8\"->catalogue<1.1.0,>=0.0.7->spacy==2.3.2) (3.7.4.3)\n",
            "Installing collected packages: srsly, catalogue, thinc, spacy\n",
            "  Found existing installation: srsly 2.4.1\n",
            "    Uninstalling srsly-2.4.1:\n",
            "      Successfully uninstalled srsly-2.4.1\n",
            "  Found existing installation: catalogue 2.0.4\n",
            "    Uninstalling catalogue-2.0.4:\n",
            "      Successfully uninstalled catalogue-2.0.4\n",
            "  Found existing installation: thinc 8.0.3\n",
            "    Uninstalling thinc-8.0.3:\n",
            "      Successfully uninstalled thinc-8.0.3\n",
            "  Found existing installation: spacy 3.0.6\n",
            "    Uninstalling spacy-3.0.6:\n",
            "      Successfully uninstalled spacy-3.0.6\n",
            "Successfully installed catalogue-1.0.0 spacy-2.3.2 srsly-1.0.5 thinc-7.4.1\n"
          ],
          "name": "stdout"
        },
        {
          "output_type": "display_data",
          "data": {
            "application/vnd.colab-display-data+json": {
              "pip_warning": {
                "packages": [
                  "catalogue",
                  "spacy",
                  "srsly",
                  "thinc"
                ]
              }
            }
          },
          "metadata": {
            "tags": []
          }
        },
        {
          "output_type": "stream",
          "text": [
            "Collecting https://github.com/banglakit/spacy-models/releases/download/bn_core_news_sm-0.1.0/bn_core_news_sm-0.1.0.tar.gz\n",
            "\u001b[?25l  Downloading https://github.com/banglakit/spacy-models/releases/download/bn_core_news_sm-0.1.0/bn_core_news_sm-0.1.0.tar.gz (304.5MB)\n",
            "\u001b[K     |████████████████████████████████| 304.6MB 42kB/s \n",
            "\u001b[?25hRequirement already satisfied (use --upgrade to upgrade): bn-core-news-sm==0.1.0 from https://github.com/banglakit/spacy-models/releases/download/bn_core_news_sm-0.1.0/bn_core_news_sm-0.1.0.tar.gz in /usr/local/lib/python3.7/dist-packages\n",
            "Requirement already satisfied: spacy>=2.3.2 in /usr/local/lib/python3.7/dist-packages (from bn-core-news-sm==0.1.0) (2.3.2)\n",
            "Requirement already satisfied: cymem<2.1.0,>=2.0.2 in /usr/local/lib/python3.7/dist-packages (from spacy>=2.3.2->bn-core-news-sm==0.1.0) (2.0.5)\n",
            "Requirement already satisfied: murmurhash<1.1.0,>=0.28.0 in /usr/local/lib/python3.7/dist-packages (from spacy>=2.3.2->bn-core-news-sm==0.1.0) (1.0.5)\n",
            "Requirement already satisfied: requests<3.0.0,>=2.13.0 in /usr/local/lib/python3.7/dist-packages (from spacy>=2.3.2->bn-core-news-sm==0.1.0) (2.23.0)\n",
            "Requirement already satisfied: srsly<1.1.0,>=1.0.2 in /usr/local/lib/python3.7/dist-packages (from spacy>=2.3.2->bn-core-news-sm==0.1.0) (1.0.5)\n",
            "Requirement already satisfied: preshed<3.1.0,>=3.0.2 in /usr/local/lib/python3.7/dist-packages (from spacy>=2.3.2->bn-core-news-sm==0.1.0) (3.0.5)\n",
            "Requirement already satisfied: blis<0.5.0,>=0.4.0 in /usr/local/lib/python3.7/dist-packages (from spacy>=2.3.2->bn-core-news-sm==0.1.0) (0.4.1)\n",
            "Requirement already satisfied: setuptools in /usr/local/lib/python3.7/dist-packages (from spacy>=2.3.2->bn-core-news-sm==0.1.0) (56.1.0)\n",
            "Requirement already satisfied: tqdm<5.0.0,>=4.38.0 in /usr/local/lib/python3.7/dist-packages (from spacy>=2.3.2->bn-core-news-sm==0.1.0) (4.41.1)\n",
            "Requirement already satisfied: plac<1.2.0,>=0.9.6 in /usr/local/lib/python3.7/dist-packages (from spacy>=2.3.2->bn-core-news-sm==0.1.0) (1.1.3)\n",
            "Requirement already satisfied: thinc==7.4.1 in /usr/local/lib/python3.7/dist-packages (from spacy>=2.3.2->bn-core-news-sm==0.1.0) (7.4.1)\n",
            "Requirement already satisfied: catalogue<1.1.0,>=0.0.7 in /usr/local/lib/python3.7/dist-packages (from spacy>=2.3.2->bn-core-news-sm==0.1.0) (1.0.0)\n",
            "Requirement already satisfied: numpy>=1.15.0 in /usr/local/lib/python3.7/dist-packages (from spacy>=2.3.2->bn-core-news-sm==0.1.0) (1.20.3)\n",
            "Requirement already satisfied: wasabi<1.1.0,>=0.4.0 in /usr/local/lib/python3.7/dist-packages (from spacy>=2.3.2->bn-core-news-sm==0.1.0) (0.8.2)\n",
            "Requirement already satisfied: certifi>=2017.4.17 in /usr/local/lib/python3.7/dist-packages (from requests<3.0.0,>=2.13.0->spacy>=2.3.2->bn-core-news-sm==0.1.0) (2020.12.5)\n",
            "Requirement already satisfied: idna<3,>=2.5 in /usr/local/lib/python3.7/dist-packages (from requests<3.0.0,>=2.13.0->spacy>=2.3.2->bn-core-news-sm==0.1.0) (2.10)\n",
            "Requirement already satisfied: urllib3!=1.25.0,!=1.25.1,<1.26,>=1.21.1 in /usr/local/lib/python3.7/dist-packages (from requests<3.0.0,>=2.13.0->spacy>=2.3.2->bn-core-news-sm==0.1.0) (1.24.3)\n",
            "Requirement already satisfied: chardet<4,>=3.0.2 in /usr/local/lib/python3.7/dist-packages (from requests<3.0.0,>=2.13.0->spacy>=2.3.2->bn-core-news-sm==0.1.0) (3.0.4)\n",
            "Requirement already satisfied: importlib-metadata>=0.20; python_version < \"3.8\" in /usr/local/lib/python3.7/dist-packages (from catalogue<1.1.0,>=0.0.7->spacy>=2.3.2->bn-core-news-sm==0.1.0) (4.0.1)\n",
            "Requirement already satisfied: zipp>=0.5 in /usr/local/lib/python3.7/dist-packages (from importlib-metadata>=0.20; python_version < \"3.8\"->catalogue<1.1.0,>=0.0.7->spacy>=2.3.2->bn-core-news-sm==0.1.0) (3.4.1)\n",
            "Requirement already satisfied: typing-extensions>=3.6.4; python_version < \"3.8\" in /usr/local/lib/python3.7/dist-packages (from importlib-metadata>=0.20; python_version < \"3.8\"->catalogue<1.1.0,>=0.0.7->spacy>=2.3.2->bn-core-news-sm==0.1.0) (3.7.4.3)\n",
            "Building wheels for collected packages: bn-core-news-sm\n",
            "  Building wheel for bn-core-news-sm (setup.py) ... \u001b[?25l\u001b[?25hdone\n",
            "  Created wheel for bn-core-news-sm: filename=bn_core_news_sm-0.1.0-cp37-none-any.whl size=305049355 sha256=8f11e89e9e1bf9e3f831a33f1939607c57d2db4049a943b2ae2cae5be4728126\n",
            "  Stored in directory: /root/.cache/pip/wheels/6f/e8/e9/6cb984a40fcc0e1cdc533f86e0a483141f6def904e0ca2a024\n",
            "Successfully built bn-core-news-sm\n",
            "Requirement already up-to-date: spacy==2.3.2 in /usr/local/lib/python3.7/dist-packages (2.3.2)\n",
            "Requirement already satisfied, skipping upgrade: tqdm<5.0.0,>=4.38.0 in /usr/local/lib/python3.7/dist-packages (from spacy==2.3.2) (4.41.1)\n",
            "Requirement already satisfied, skipping upgrade: thinc==7.4.1 in /usr/local/lib/python3.7/dist-packages (from spacy==2.3.2) (7.4.1)\n",
            "Requirement already satisfied, skipping upgrade: wasabi<1.1.0,>=0.4.0 in /usr/local/lib/python3.7/dist-packages (from spacy==2.3.2) (0.8.2)\n",
            "Requirement already satisfied, skipping upgrade: cymem<2.1.0,>=2.0.2 in /usr/local/lib/python3.7/dist-packages (from spacy==2.3.2) (2.0.5)\n",
            "Requirement already satisfied, skipping upgrade: srsly<1.1.0,>=1.0.2 in /usr/local/lib/python3.7/dist-packages (from spacy==2.3.2) (1.0.5)\n",
            "Requirement already satisfied, skipping upgrade: murmurhash<1.1.0,>=0.28.0 in /usr/local/lib/python3.7/dist-packages (from spacy==2.3.2) (1.0.5)\n",
            "Requirement already satisfied, skipping upgrade: numpy>=1.15.0 in /usr/local/lib/python3.7/dist-packages (from spacy==2.3.2) (1.20.3)\n",
            "Requirement already satisfied, skipping upgrade: preshed<3.1.0,>=3.0.2 in /usr/local/lib/python3.7/dist-packages (from spacy==2.3.2) (3.0.5)\n",
            "Requirement already satisfied, skipping upgrade: catalogue<1.1.0,>=0.0.7 in /usr/local/lib/python3.7/dist-packages (from spacy==2.3.2) (1.0.0)\n",
            "Requirement already satisfied, skipping upgrade: plac<1.2.0,>=0.9.6 in /usr/local/lib/python3.7/dist-packages (from spacy==2.3.2) (1.1.3)\n",
            "Requirement already satisfied, skipping upgrade: setuptools in /usr/local/lib/python3.7/dist-packages (from spacy==2.3.2) (56.1.0)\n",
            "Requirement already satisfied, skipping upgrade: requests<3.0.0,>=2.13.0 in /usr/local/lib/python3.7/dist-packages (from spacy==2.3.2) (2.23.0)\n",
            "Requirement already satisfied, skipping upgrade: blis<0.5.0,>=0.4.0 in /usr/local/lib/python3.7/dist-packages (from spacy==2.3.2) (0.4.1)\n",
            "Requirement already satisfied, skipping upgrade: importlib-metadata>=0.20; python_version < \"3.8\" in /usr/local/lib/python3.7/dist-packages (from catalogue<1.1.0,>=0.0.7->spacy==2.3.2) (4.0.1)\n",
            "Requirement already satisfied, skipping upgrade: idna<3,>=2.5 in /usr/local/lib/python3.7/dist-packages (from requests<3.0.0,>=2.13.0->spacy==2.3.2) (2.10)\n",
            "Requirement already satisfied, skipping upgrade: chardet<4,>=3.0.2 in /usr/local/lib/python3.7/dist-packages (from requests<3.0.0,>=2.13.0->spacy==2.3.2) (3.0.4)\n",
            "Requirement already satisfied, skipping upgrade: urllib3!=1.25.0,!=1.25.1,<1.26,>=1.21.1 in /usr/local/lib/python3.7/dist-packages (from requests<3.0.0,>=2.13.0->spacy==2.3.2) (1.24.3)\n",
            "Requirement already satisfied, skipping upgrade: certifi>=2017.4.17 in /usr/local/lib/python3.7/dist-packages (from requests<3.0.0,>=2.13.0->spacy==2.3.2) (2020.12.5)\n",
            "Requirement already satisfied, skipping upgrade: zipp>=0.5 in /usr/local/lib/python3.7/dist-packages (from importlib-metadata>=0.20; python_version < \"3.8\"->catalogue<1.1.0,>=0.0.7->spacy==2.3.2) (3.4.1)\n",
            "Requirement already satisfied, skipping upgrade: typing-extensions>=3.6.4; python_version < \"3.8\" in /usr/local/lib/python3.7/dist-packages (from importlib-metadata>=0.20; python_version < \"3.8\"->catalogue<1.1.0,>=0.0.7->spacy==2.3.2) (3.7.4.3)\n"
          ],
          "name": "stdout"
        }
      ]
    },
    {
      "cell_type": "code",
      "metadata": {
        "id": "z4JeDhSRJRh_"
      },
      "source": [
        "import bn_core_news_sm"
      ],
      "execution_count": null,
      "outputs": []
    },
    {
      "cell_type": "code",
      "metadata": {
        "id": "0elb9geGh-y1"
      },
      "source": [
        "ban_spacy = bn_core_news_sm.load()\n",
        "ban_spacy."
      ],
      "execution_count": null,
      "outputs": []
    },
    {
      "cell_type": "code",
      "metadata": {
        "colab": {
          "base_uri": "https://localhost:8080/"
        },
        "id": "2uD96asjpwwQ",
        "outputId": "d91c4db6-c76a-47cf-fa0e-e4532c1e7620"
      },
      "source": [
        "!pip install -U bnlp_toolkit"
      ],
      "execution_count": null,
      "outputs": [
        {
          "output_type": "stream",
          "text": [
            "Requirement already up-to-date: bnlp_toolkit in /usr/local/lib/python3.7/dist-packages (3.1.1)\n",
            "Requirement already satisfied, skipping upgrade: numpy in /usr/local/lib/python3.7/dist-packages (from bnlp_toolkit) (1.20.3)\n",
            "Requirement already satisfied, skipping upgrade: sentencepiece in /usr/local/lib/python3.7/dist-packages (from bnlp_toolkit) (0.1.95)\n",
            "Requirement already satisfied, skipping upgrade: scipy in /usr/local/lib/python3.7/dist-packages (from bnlp_toolkit) (1.4.1)\n",
            "Requirement already satisfied, skipping upgrade: gensim==4.0.1 in /usr/local/lib/python3.7/dist-packages (from bnlp_toolkit) (4.0.1)\n",
            "Requirement already satisfied, skipping upgrade: sklearn-crfsuite in /usr/local/lib/python3.7/dist-packages (from bnlp_toolkit) (0.3.6)\n",
            "Requirement already satisfied, skipping upgrade: wasabi in /usr/local/lib/python3.7/dist-packages (from bnlp_toolkit) (0.8.2)\n",
            "Requirement already satisfied, skipping upgrade: nltk in /usr/local/lib/python3.7/dist-packages (from bnlp_toolkit) (3.2.5)\n",
            "Requirement already satisfied, skipping upgrade: smart-open>=1.8.1 in /usr/local/lib/python3.7/dist-packages (from gensim==4.0.1->bnlp_toolkit) (3.0.0)\n",
            "Requirement already satisfied, skipping upgrade: tqdm>=2.0 in /usr/local/lib/python3.7/dist-packages (from sklearn-crfsuite->bnlp_toolkit) (4.41.1)\n",
            "Requirement already satisfied, skipping upgrade: python-crfsuite>=0.8.3 in /usr/local/lib/python3.7/dist-packages (from sklearn-crfsuite->bnlp_toolkit) (0.9.7)\n",
            "Requirement already satisfied, skipping upgrade: tabulate in /usr/local/lib/python3.7/dist-packages (from sklearn-crfsuite->bnlp_toolkit) (0.8.9)\n",
            "Requirement already satisfied, skipping upgrade: six in /usr/local/lib/python3.7/dist-packages (from sklearn-crfsuite->bnlp_toolkit) (1.15.0)\n",
            "Requirement already satisfied, skipping upgrade: requests in /usr/local/lib/python3.7/dist-packages (from smart-open>=1.8.1->gensim==4.0.1->bnlp_toolkit) (2.23.0)\n",
            "Requirement already satisfied, skipping upgrade: urllib3!=1.25.0,!=1.25.1,<1.26,>=1.21.1 in /usr/local/lib/python3.7/dist-packages (from requests->smart-open>=1.8.1->gensim==4.0.1->bnlp_toolkit) (1.24.3)\n",
            "Requirement already satisfied, skipping upgrade: chardet<4,>=3.0.2 in /usr/local/lib/python3.7/dist-packages (from requests->smart-open>=1.8.1->gensim==4.0.1->bnlp_toolkit) (3.0.4)\n",
            "Requirement already satisfied, skipping upgrade: certifi>=2017.4.17 in /usr/local/lib/python3.7/dist-packages (from requests->smart-open>=1.8.1->gensim==4.0.1->bnlp_toolkit) (2020.12.5)\n",
            "Requirement already satisfied, skipping upgrade: idna<3,>=2.5 in /usr/local/lib/python3.7/dist-packages (from requests->smart-open>=1.8.1->gensim==4.0.1->bnlp_toolkit) (2.10)\n"
          ],
          "name": "stdout"
        }
      ]
    },
    {
      "cell_type": "code",
      "metadata": {
        "id": "UIe-9cJcp7Qo",
        "colab": {
          "base_uri": "https://localhost:8080/"
        },
        "outputId": "d876f6a7-a585-4e1a-8c2e-05b1c432717b"
      },
      "source": [
        "from bnlp import NLTKTokenizer\n",
        "from bnlp import SentencepieceTokenizer\n",
        "from bnlp.corpus import stopwords, punctuations, letters, digits\n",
        "from bnlp.corpus.util import remove_stopwords\n",
        "bnltk = NLTKTokenizer()\n",
        "bsp = SentencepieceTokenizer()"
      ],
      "execution_count": null,
      "outputs": [
        {
          "output_type": "stream",
          "text": [
            "/usr/local/lib/python3.7/dist-packages/gensim/similarities/__init__.py:15: UserWarning: The gensim.similarities.levenshtein submodule is disabled, because the optional Levenshtein package <https://pypi.org/project/python-Levenshtein/> is unavailable. Install Levenhstein (e.g. `pip install python-Levenshtein`) to suppress this warning.\n",
            "  warnings.warn(msg)\n"
          ],
          "name": "stderr"
        }
      ]
    },
    {
      "cell_type": "code",
      "metadata": {
        "colab": {
          "base_uri": "https://localhost:8080/"
        },
        "id": "XjzjlVGCIdMx",
        "outputId": "c28da3d1-9df5-4497-890a-2de0d9f919ff"
      },
      "source": [
        "!pip install BnLemma\n",
        "import BnLemma as lm\n",
        "bl = lm.Lemmatizer()"
      ],
      "execution_count": null,
      "outputs": [
        {
          "output_type": "stream",
          "text": [
            "Requirement already satisfied: BnLemma in /usr/local/lib/python3.7/dist-packages (2.1)\n"
          ],
          "name": "stdout"
        }
      ]
    },
    {
      "cell_type": "code",
      "metadata": {
        "id": "HhGO2Cx9JkrD"
      },
      "source": [
        ""
      ],
      "execution_count": null,
      "outputs": []
    },
    {
      "cell_type": "code",
      "metadata": {
        "colab": {
          "base_uri": "https://localhost:8080/"
        },
        "id": "JReNCAIYqY7-",
        "outputId": "40cf4423-e828-4ac7-e726-dd7fbc8902fd"
      },
      "source": [
        "!gdown --id '1GrU9f0D0i7ytlXjBBC1aBo3rme6qkoOb'  #download pos model\n",
        "from bnlp import POS\n",
        "bn_pos = POS()\n",
        "model_path = \"/content/bn_pos.pkl\""
      ],
      "execution_count": null,
      "outputs": [
        {
          "output_type": "stream",
          "text": [
            "Downloading...\n",
            "From: https://drive.google.com/uc?id=1GrU9f0D0i7ytlXjBBC1aBo3rme6qkoOb\n",
            "To: /content/bn_pos.pkl\n",
            "\r0.00B [00:00, ?B/s]\r3.90MB [00:00, 61.0MB/s]\n"
          ],
          "name": "stdout"
        }
      ]
    },
    {
      "cell_type": "code",
      "metadata": {
        "colab": {
          "base_uri": "https://localhost:8080/"
        },
        "id": "Oz8NrzVUoHgN",
        "outputId": "5ddd03c2-3717-4f2f-e679-0f1f0a0251e1"
      },
      "source": [
        "!pip install nltk\n",
        "import nltk\n",
        "nltk.download('punkt')"
      ],
      "execution_count": null,
      "outputs": [
        {
          "output_type": "stream",
          "text": [
            "Requirement already satisfied: nltk in /usr/local/lib/python3.7/dist-packages (3.2.5)\n",
            "Requirement already satisfied: six in /usr/local/lib/python3.7/dist-packages (from nltk) (1.15.0)\n",
            "[nltk_data] Downloading package punkt to /root/nltk_data...\n",
            "[nltk_data]   Package punkt is already up-to-date!\n"
          ],
          "name": "stdout"
        },
        {
          "output_type": "execute_result",
          "data": {
            "text/plain": [
              "True"
            ]
          },
          "metadata": {
            "tags": []
          },
          "execution_count": 9
        }
      ]
    },
    {
      "cell_type": "code",
      "metadata": {
        "colab": {
          "base_uri": "https://localhost:8080/"
        },
        "id": "44wQ0SDXjaM6",
        "outputId": "37db4b53-a8de-447d-df31-2a5008684787"
      },
      "source": [
        "import numpy as np\n",
        "! pip install pyLDAvis\n",
        "! pip install --upgrade gensim\n",
        "\n",
        "import re, spacy, gensim\n",
        "\n",
        "# Sklearn\n",
        "from sklearn.decomposition import LatentDirichletAllocation, TruncatedSVD\n",
        "from sklearn.feature_extraction.text import CountVectorizer, TfidfVectorizer\n",
        "from sklearn.model_selection import GridSearchCV\n",
        "from pprint import pprint\n",
        "\n",
        "# Plotting tools\n",
        "import pyLDAvis\n",
        "import pyLDAvis.sklearn\n",
        "import matplotlib.pyplot as plt\n",
        "%matplotlib inline\n",
        "\n",
        "import warnings\n",
        "warnings.filterwarnings(\"ignore\",category=DeprecationWarning)"
      ],
      "execution_count": null,
      "outputs": [
        {
          "output_type": "stream",
          "text": [
            "Requirement already satisfied: pyLDAvis in /usr/local/lib/python3.7/dist-packages (3.3.1)\n",
            "Requirement already satisfied: future in /usr/local/lib/python3.7/dist-packages (from pyLDAvis) (0.16.0)\n",
            "Requirement already satisfied: numpy>=1.20.0 in /usr/local/lib/python3.7/dist-packages (from pyLDAvis) (1.20.3)\n",
            "Requirement already satisfied: scikit-learn in /usr/local/lib/python3.7/dist-packages (from pyLDAvis) (0.22.2.post1)\n",
            "Requirement already satisfied: gensim in /usr/local/lib/python3.7/dist-packages (from pyLDAvis) (4.0.1)\n",
            "Requirement already satisfied: scipy in /usr/local/lib/python3.7/dist-packages (from pyLDAvis) (1.4.1)\n",
            "Requirement already satisfied: sklearn in /usr/local/lib/python3.7/dist-packages (from pyLDAvis) (0.0)\n",
            "Requirement already satisfied: joblib in /usr/local/lib/python3.7/dist-packages (from pyLDAvis) (1.0.1)\n",
            "Requirement already satisfied: setuptools in /usr/local/lib/python3.7/dist-packages (from pyLDAvis) (56.1.0)\n",
            "Requirement already satisfied: funcy in /usr/local/lib/python3.7/dist-packages (from pyLDAvis) (1.16)\n",
            "Requirement already satisfied: pandas>=1.2.0 in /usr/local/lib/python3.7/dist-packages (from pyLDAvis) (1.2.4)\n",
            "Requirement already satisfied: jinja2 in /usr/local/lib/python3.7/dist-packages (from pyLDAvis) (2.11.3)\n",
            "Requirement already satisfied: numexpr in /usr/local/lib/python3.7/dist-packages (from pyLDAvis) (2.7.3)\n",
            "Requirement already satisfied: smart-open>=1.8.1 in /usr/local/lib/python3.7/dist-packages (from gensim->pyLDAvis) (5.0.0)\n",
            "Requirement already satisfied: python-dateutil>=2.7.3 in /usr/local/lib/python3.7/dist-packages (from pandas>=1.2.0->pyLDAvis) (2.8.1)\n",
            "Requirement already satisfied: pytz>=2017.3 in /usr/local/lib/python3.7/dist-packages (from pandas>=1.2.0->pyLDAvis) (2018.9)\n",
            "Requirement already satisfied: MarkupSafe>=0.23 in /usr/local/lib/python3.7/dist-packages (from jinja2->pyLDAvis) (2.0.1)\n",
            "Requirement already satisfied: six>=1.5 in /usr/local/lib/python3.7/dist-packages (from python-dateutil>=2.7.3->pandas>=1.2.0->pyLDAvis) (1.15.0)\n",
            "Requirement already up-to-date: gensim in /usr/local/lib/python3.7/dist-packages (4.0.1)\n",
            "Requirement already satisfied, skipping upgrade: scipy>=0.18.1 in /usr/local/lib/python3.7/dist-packages (from gensim) (1.4.1)\n",
            "Requirement already satisfied, skipping upgrade: numpy>=1.11.3 in /usr/local/lib/python3.7/dist-packages (from gensim) (1.20.3)\n",
            "Requirement already satisfied, skipping upgrade: smart-open>=1.8.1 in /usr/local/lib/python3.7/dist-packages (from gensim) (5.0.0)\n"
          ],
          "name": "stdout"
        },
        {
          "output_type": "stream",
          "text": [
            "/usr/local/lib/python3.7/dist-packages/past/types/oldstr.py:5: DeprecationWarning: Using or importing the ABCs from 'collections' instead of from 'collections.abc' is deprecated since Python 3.3,and in 3.9 it will stop working\n",
            "  from collections import Iterable\n",
            "/usr/local/lib/python3.7/dist-packages/past/builtins/misc.py:4: DeprecationWarning: Using or importing the ABCs from 'collections' instead of from 'collections.abc' is deprecated since Python 3.3,and in 3.9 it will stop working\n",
            "  from collections import Mapping\n"
          ],
          "name": "stderr"
        }
      ]
    },
    {
      "cell_type": "markdown",
      "metadata": {
        "id": "VgKV3sNqooO1"
      },
      "source": [
        "# **Clean the text**"
      ]
    },
    {
      "cell_type": "code",
      "metadata": {
        "colab": {
          "base_uri": "https://localhost:8080/"
        },
        "id": "x1WfwXpyosic",
        "outputId": "e89a9831-8363-4c8e-bb11-55fc14c2520e"
      },
      "source": [
        "# Convert to list\n",
        "data = df.context.values.tolist()\n",
        "\n",
        "def clean_text(text):\n",
        "  text = text.replace(\"]\",\" ] \")\n",
        "  text = text.replace(\"[\",\" [ \")\n",
        "  text = text.replace(\"\\n\", \" \")\n",
        "  text = text.replace(\"''\",'\" ').replace(\"``\",'\" ')\n",
        "  return text\n",
        "\n",
        "# Remove new line characters\n",
        "data = [clean_text(sent) for sent in data]\n",
        "\n",
        "# Remove distracting single quotes\n",
        "#data = [re.sub(\"\\'\", \"\", sent) for sent in data]\n",
        "\n",
        "pprint(data[:1])"
      ],
      "execution_count": null,
      "outputs": [
        {
          "output_type": "stream",
          "text": [
            "['তিহাসিকরা ইচ্ছাকৃত সাম্রাজ্য গঠনের বিষয় হিসাবে পশ্চিমা দেশগুলির মতো '\n",
            " 'পূর্বদিকে ক্রমবর্ধমান রোমানদের প্রভাব দেখছেন , তবে ধ্রুবক সংকট ব্যবস্থাপনার '\n",
            " 'স্বল্প - অস্থির , অবিশ্বাস্য এবং জোটের আন্তঃনির্ভরশীল নেটওয়ার্কের মধ্যে '\n",
            " 'স্বল্প - মেয়াদী লক্ষ্যগুলিতে সংকীর্ণভাবে দৃষ্টি নিবদ্ধ করা হয়েছে এবং '\n",
            " 'নির্ভরতা । সুস্পষ্ট সামরিক শাসনের কিছু বড় ব্যতিক্রম ব্যতীত রোমান '\n",
            " 'প্রজাতন্ত্র স্বাধীন নগর - রাজ্য এবং রাজ্যগুলির একটি জোট রইল স্বাধীনতার '\n",
            " 'বিভিন্ন ডিগ্রি সহ , ডি জুরে এবং ডি ফ্যাক্টো উভয়ই রোমান সাম্রাজ্যে '\n",
            " 'রূপান্তরিত হওয়া অবধি । রোমান সাম্রাজ্যের সময় পর্যন্ত পুরো রোমান বিশ্ব '\n",
            " 'সুস্পষ্ট রোমান নিয়ন্ত্রণে প্রদেশগুলিতে সংগঠিত হয়েছিল ।']\n"
          ],
          "name": "stdout"
        }
      ]
    },
    {
      "cell_type": "code",
      "metadata": {
        "id": "Q0aDcbZupZY6"
      },
      "source": [
        "def valid_bengali_letters(char):\n",
        "    return ord(char) >= 2433 and ord(char) <= 2543 \n",
        "\n",
        "def get_replacement(char):\n",
        "    if valid_bengali_letters(char):\n",
        "        return char\n",
        "    newlines = [10, 2404, 2405, 2551, 9576]\n",
        "    if ord(char) in newlines: \n",
        "        return ' '\n",
        "    return ' ';\n",
        "\n",
        "def get_valid_lines(line):\n",
        "    copy_line = ''\n",
        "    for letter in line:\n",
        "        copy_line += get_replacement(letter)\n",
        "    return copy_line"
      ],
      "execution_count": null,
      "outputs": []
    },
    {
      "cell_type": "code",
      "metadata": {
        "colab": {
          "base_uri": "https://localhost:8080/"
        },
        "id": "UjyEav5KqGY7",
        "outputId": "83ad5c41-8470-4cc8-a802-7bfab368e06c"
      },
      "source": [
        "# Tokenize\n",
        "def my_word_tokenize(text):\n",
        "  tokens = [token for token in bnltk.word_tokenize(text) if token]\n",
        "  tokens = [t for t in tokens if t.strip(\"\\n\").strip()]\n",
        "  return tokens\n",
        "\n",
        "data_words = [my_word_tokenize(i) for i in data]\n",
        "\n",
        "print(data_words[:1])"
      ],
      "execution_count": null,
      "outputs": [
        {
          "output_type": "stream",
          "text": [
            "[['তিহাসিকরা', 'ইচ্ছাকৃত', 'সাম্রাজ্য', 'গঠনের', 'বিষয়', 'হিসাবে', 'পশ্চিমা', 'দেশগুলির', 'মতো', 'পূর্বদিকে', 'ক্রমবর্ধমান', 'রোমানদের', 'প্রভাব', 'দেখছেন', ',', 'তবে', 'ধ্রুবক', 'সংকট', 'ব্যবস্থাপনার', 'স্বল্প', '-', 'অস্থির', ',', 'অবিশ্বাস্য', 'এবং', 'জোটের', 'আন্তঃনির্ভরশীল', 'নেটওয়ার্কের', 'মধ্যে', 'স্বল্প', '-', 'মেয়াদী', 'লক্ষ্যগুলিতে', 'সংকীর্ণভাবে', 'দৃষ্টি', 'নিবদ্ধ', 'করা', 'হয়েছে', 'এবং', 'নির্ভরতা', '।', 'সুস্পষ্ট', 'সামরিক', 'শাসনের', 'কিছু', 'বড়', 'ব্যতিক্রম', 'ব্যতীত', 'রোমান', 'প্রজাতন্ত্র', 'স্বাধীন', 'নগর', '-', 'রাজ্য', 'এবং', 'রাজ্যগুলির', 'একটি', 'জোট', 'রইল', 'স্বাধীনতার', 'বিভিন্ন', 'ডিগ্রি', 'সহ', ',', 'ডি', 'জুরে', 'এবং', 'ডি', 'ফ্যাক্টো', 'উভয়ই', 'রোমান', 'সাম্রাজ্যে', 'রূপান্তরিত', 'হওয়া', 'অবধি', '।', 'রোমান', 'সাম্রাজ্যের', 'সময়', 'পর্যন্ত', 'পুরো', 'রোমান', 'বিশ্ব', 'সুস্পষ্ট', 'রোমান', 'নিয়ন্ত্রণে', 'প্রদেশগুলিতে', 'সংগঠিত', 'হয়েছিল', '।']]\n"
          ],
          "name": "stdout"
        }
      ]
    },
    {
      "cell_type": "code",
      "metadata": {
        "colab": {
          "base_uri": "https://localhost:8080/"
        },
        "id": "HxrRw_zPqOZ5",
        "outputId": "e98abdeb-a492-4a66-e3f5-ad4453d4c730"
      },
      "source": [
        "def lemmatization(text,allowed_tags):\n",
        "  lemm = []\n",
        "  new_sent = []\n",
        "  for sent in text:\n",
        "    valid_line = get_valid_lines(\" \".join(sent))\n",
        "    valid_line = \" \".join(valid_line.split())\n",
        "    doc = bn_pos.tag(model_path,valid_line)\n",
        "    lemm.append(\" \".join([token[0] for token in doc if token[1] in allowed_tags ]))\n",
        "  return lemm\n",
        "\n",
        "data_lemmatized = lemmatization(data_words,['NC','VM','JJ','NP','RDF','JQ'])\n",
        "print(data_lemmatized[:2])\n",
        "  "
      ],
      "execution_count": null,
      "outputs": [
        {
          "output_type": "stream",
          "text": [
            "['ইচ্ছাকৃত সাম্রাজ্য গঠনের বিষয় পশ্চিমা দেশগুলির পূর্বদিকে ক্রমবর্ধমান রোমানদের প্রভাব দেখছেন ধ্রুবক সংকট ব্যবস্থাপনার স্বল্প অস্থির অবিশ্বাস্য জোটের আন্তঃনির্ভরশীল নেটওয়ার্কের স্বল্প মেয়াদী লক্ষ্যগুলিতে দৃষ্টি নিবদ্ধ হয়েছে নির্ভরতা সুস্পষ্ট সামরিক শাসনের কিছু বড় ব্যতিক্রম ব্যতীত রোমান প্রজাতন্ত্র স্বাধীন নগর রাজ্য রাজ্যগুলির একটি জোট রইল স্বাধীনতার বিভিন্ন ডিগ্রি ডি জুরে ডি ফ্যাক্টো উভয়ই রোমান সাম্রাজ্যে রূপান্তরিত হওয়া রোমান সাম্রাজ্যের সময় পুরো রোমান বিশ্ব সুস্পষ্ট রোমান নিয়ন্ত্রণে প্রদেশগুলিতে সংগঠিত হয়েছিল', 'ইচ্ছাকৃত সাম্রাজ্য গঠনের বিষয় পশ্চিমা দেশগুলির পূর্বদিকে ক্রমবর্ধমান রোমানদের প্রভাব দেখছেন ধ্রুবক সংকট ব্যবস্থাপনার স্বল্প অস্থির অবিশ্বাস্য জোটের আন্তঃনির্ভরশীল নেটওয়ার্কের স্বল্প মেয়াদী লক্ষ্যগুলিতে দৃষ্টি নিবদ্ধ হয়েছে নির্ভরতা সুস্পষ্ট সামরিক শাসনের কিছু বড় ব্যতিক্রম ব্যতীত রোমান প্রজাতন্ত্র স্বাধীন নগর রাজ্য রাজ্যগুলির একটি জোট রইল স্বাধীনতার বিভিন্ন ডিগ্রি ডি জুরে ডি ফ্যাক্টো উভয়ই রোমান সাম্রাজ্যে রূপান্তরিত হওয়া রোমান সাম্রাজ্যের সময় পুরো রোমান বিশ্ব সুস্পষ্ট রোমান নিয়ন্ত্রণে প্রদেশগুলিতে সংগঠিত হয়েছিল']\n"
          ],
          "name": "stdout"
        }
      ]
    },
    {
      "cell_type": "code",
      "metadata": {
        "colab": {
          "base_uri": "https://localhost:8080/"
        },
        "id": "0YnZSAj6rRC1",
        "outputId": "81bba101-2891-4c3e-9321-d9c5d185f538"
      },
      "source": [
        "data_clear = [\" \".join(remove_stopwords(sent,stopwords)) for sent in data_lemmatized]\n",
        "print(data_clear[:2])"
      ],
      "execution_count": null,
      "outputs": [
        {
          "output_type": "stream",
          "text": [
            "['ইচ্ছাকৃত সাম্রাজ্য গঠনের বিষয় পশ্চিমা দেশগুলির পূর্বদিকে ক্রমবর্ধমান রোমানদের প্রভাব দেখছেন ধ্রুবক সংকট ব্যবস্থাপনার স্বল্প অস্থির অবিশ্বাস্য জোটের আন্তঃনির্ভরশীল নেটওয়ার্কের স্বল্প মেয়াদী লক্ষ্যগুলিতে দৃষ্টি নিবদ্ধ নির্ভরতা সুস্পষ্ট সামরিক শাসনের বড় ব্যতিক্রম ব্যতীত রোমান প্রজাতন্ত্র স্বাধীন নগর রাজ্য রাজ্যগুলির জোট রইল স্বাধীনতার ডিগ্রি ডি জুরে ডি ফ্যাক্টো উভয়ই রোমান সাম্রাজ্যে রূপান্তরিত রোমান সাম্রাজ্যের সময় পুরো রোমান বিশ্ব সুস্পষ্ট রোমান নিয়ন্ত্রণে প্রদেশগুলিতে সংগঠিত', 'ইচ্ছাকৃত সাম্রাজ্য গঠনের বিষয় পশ্চিমা দেশগুলির পূর্বদিকে ক্রমবর্ধমান রোমানদের প্রভাব দেখছেন ধ্রুবক সংকট ব্যবস্থাপনার স্বল্প অস্থির অবিশ্বাস্য জোটের আন্তঃনির্ভরশীল নেটওয়ার্কের স্বল্প মেয়াদী লক্ষ্যগুলিতে দৃষ্টি নিবদ্ধ নির্ভরতা সুস্পষ্ট সামরিক শাসনের বড় ব্যতিক্রম ব্যতীত রোমান প্রজাতন্ত্র স্বাধীন নগর রাজ্য রাজ্যগুলির জোট রইল স্বাধীনতার ডিগ্রি ডি জুরে ডি ফ্যাক্টো উভয়ই রোমান সাম্রাজ্যে রূপান্তরিত রোমান সাম্রাজ্যের সময় পুরো রোমান বিশ্ব সুস্পষ্ট রোমান নিয়ন্ত্রণে প্রদেশগুলিতে সংগঠিত']\n"
          ],
          "name": "stdout"
        }
      ]
    },
    {
      "cell_type": "markdown",
      "metadata": {
        "id": "z8YEfXDXrCqb"
      },
      "source": [
        "# **Document word matrix**"
      ]
    },
    {
      "cell_type": "code",
      "metadata": {
        "id": "d4QOXlLCqoge"
      },
      "source": [
        "\n",
        "voc = []\n",
        "temp = {}\n",
        "for c in data_clear:\n",
        "  test = c.strip().split()\n",
        "  for i in test:\n",
        "    temp[i]=1\n",
        "voc = list(temp.keys())"
      ],
      "execution_count": null,
      "outputs": []
    },
    {
      "cell_type": "code",
      "metadata": {
        "colab": {
          "base_uri": "https://localhost:8080/"
        },
        "id": "9kcvM9CECZA8",
        "outputId": "1e1bc4de-2678-4117-ecfc-c779d1f8c0c1"
      },
      "source": [
        "len(voc)"
      ],
      "execution_count": null,
      "outputs": [
        {
          "output_type": "execute_result",
          "data": {
            "text/plain": [
              "37836"
            ]
          },
          "metadata": {
            "tags": []
          },
          "execution_count": 50
        }
      ]
    },
    {
      "cell_type": "code",
      "metadata": {
        "id": "wNeMIlpirO_X"
      },
      "source": [
        "vectorizer = CountVectorizer(vocabulary = voc, analyzer='word',        \n",
        "                             min_df=20,\n",
        "                             token_pattern = '[(?u)\\\\b\\\\w\\\\w+\\\\b]{3,}'           \n",
        "                             )            \n",
        "                          "
      ],
      "execution_count": null,
      "outputs": []
    },
    {
      "cell_type": "code",
      "metadata": {
        "id": "Cc37LecCtBpb"
      },
      "source": [
        "data_vectorized = vectorizer.fit_transform(data_clear)"
      ],
      "execution_count": null,
      "outputs": []
    },
    {
      "cell_type": "code",
      "metadata": {
        "colab": {
          "base_uri": "https://localhost:8080/",
          "height": 52
        },
        "id": "AYDUEAgqrr7U",
        "outputId": "d5d1e63f-78af-4b20-d8d2-c20e350112f3"
      },
      "source": [
        "'''\n",
        "# Materialize the sparse data\n",
        "data_dense = data_vectorized.todense()\n",
        "\n",
        "# Compute Sparsicity = Percentage of Non-Zero cells\n",
        "print(\"Sparsity: \", ((data_dense > 0).sum()/data_dense.size)*100, \"%\")\n",
        "'''"
      ],
      "execution_count": null,
      "outputs": [
        {
          "output_type": "execute_result",
          "data": {
            "application/vnd.google.colaboratory.intrinsic+json": {
              "type": "string"
            },
            "text/plain": [
              "'\\n# Materialize the sparse data\\ndata_dense = data_vectorized.todense()\\n\\n# Compute Sparsicity = Percentage of Non-Zero cells\\nprint(\"Sparsity: \", ((data_dense > 0).sum()/data_dense.size)*100, \"%\")\\n'"
            ]
          },
          "metadata": {
            "tags": []
          },
          "execution_count": 19
        }
      ]
    },
    {
      "cell_type": "markdown",
      "metadata": {
        "id": "iY85OUapt3PS"
      },
      "source": [
        "# **Topic Model**"
      ]
    },
    {
      "cell_type": "code",
      "metadata": {
        "colab": {
          "base_uri": "https://localhost:8080/"
        },
        "id": "zcuXmWwcsJnY",
        "outputId": "bfff2fcd-1fbd-497a-85a5-6acba7154031"
      },
      "source": [
        "# Build LDA Model\n",
        "lda_model = LatentDirichletAllocation(n_components=10,               # Number of topics\n",
        "                                      max_iter=10,               # Max learning iterations\n",
        "                                      learning_method='online',   \n",
        "                                      random_state=100,          # Random state\n",
        "                                      batch_size=512,            # n docs in each learning iter\n",
        "                                      evaluate_every = -1,       # compute perplexity every n iters, default: Don't\n",
        "                                      n_jobs = -1,               # Use all available CPUs\n",
        "                                     )\n",
        "\n",
        "lda_output = lda_model.fit_transform(data_vectorized)\n",
        "\n",
        "print(lda_model)  # Model attributes"
      ],
      "execution_count": null,
      "outputs": [
        {
          "output_type": "stream",
          "text": [
            "LatentDirichletAllocation(batch_size=512, doc_topic_prior=None,\n",
            "                          evaluate_every=-1, learning_decay=0.7,\n",
            "                          learning_method='online', learning_offset=10.0,\n",
            "                          max_doc_update_iter=100, max_iter=10,\n",
            "                          mean_change_tol=0.001, n_components=10, n_jobs=-1,\n",
            "                          perp_tol=0.1, random_state=100, topic_word_prior=None,\n",
            "                          total_samples=1000000.0, verbose=0)\n"
          ],
          "name": "stdout"
        }
      ]
    },
    {
      "cell_type": "markdown",
      "metadata": {
        "id": "YFmHo3uWuEnR"
      },
      "source": [
        "# **Evaluation**"
      ]
    },
    {
      "cell_type": "code",
      "metadata": {
        "colab": {
          "base_uri": "https://localhost:8080/"
        },
        "id": "56Fdk_YTuDuy",
        "outputId": "f62708e1-602f-49a8-9334-a99527e586c3"
      },
      "source": [
        "# Log Likelyhood: Higher the better\n",
        "print(\"Log Likelihood: \", lda_model.score(data_vectorized))\n",
        "\n",
        "# Perplexity: Lower the better. Perplexity = exp(-1. * log-likelihood per word)\n",
        "print(\"Perplexity: \", lda_model.perplexity(data_vectorized))\n",
        "\n",
        "# See model parameters\n",
        "pprint(lda_model.get_params())"
      ],
      "execution_count": null,
      "outputs": [
        {
          "output_type": "stream",
          "text": [
            "Log Likelihood:  -300518.81410558155\n",
            "Perplexity:  1078.983654031298\n",
            "{'batch_size': 512,\n",
            " 'doc_topic_prior': None,\n",
            " 'evaluate_every': -1,\n",
            " 'learning_decay': 0.7,\n",
            " 'learning_method': 'online',\n",
            " 'learning_offset': 10.0,\n",
            " 'max_doc_update_iter': 100,\n",
            " 'max_iter': 10,\n",
            " 'mean_change_tol': 0.001,\n",
            " 'n_components': 10,\n",
            " 'n_jobs': -1,\n",
            " 'perp_tol': 0.1,\n",
            " 'random_state': 100,\n",
            " 'topic_word_prior': None,\n",
            " 'total_samples': 1000000.0,\n",
            " 'verbose': 0}\n"
          ],
          "name": "stdout"
        }
      ]
    },
    {
      "cell_type": "markdown",
      "metadata": {
        "id": "TM7Nih02ufcB"
      },
      "source": [
        "# **Find best LDA model**"
      ]
    },
    {
      "cell_type": "code",
      "metadata": {
        "colab": {
          "base_uri": "https://localhost:8080/"
        },
        "id": "ecs2KGbJsuIZ",
        "outputId": "95580bdf-518a-4e9d-a35b-77a546e3152c"
      },
      "source": [
        "# Define Search Param\n",
        "search_params = {'n_components': [10, 15], 'learning_decay': [.5, .7, .9]}\n",
        "\n",
        "# Init the Model\n",
        "lda = LatentDirichletAllocation()\n",
        "\n",
        "# Init Grid Search Class\n",
        "model = GridSearchCV(lda, param_grid=search_params)\n",
        "\n",
        "# Do the Grid Search\n",
        "model.fit(data_vectorized)"
      ],
      "execution_count": null,
      "outputs": [
        {
          "output_type": "execute_result",
          "data": {
            "text/plain": [
              "GridSearchCV(cv=None, error_score=nan,\n",
              "             estimator=LatentDirichletAllocation(batch_size=128,\n",
              "                                                 doc_topic_prior=None,\n",
              "                                                 evaluate_every=-1,\n",
              "                                                 learning_decay=0.7,\n",
              "                                                 learning_method='batch',\n",
              "                                                 learning_offset=10.0,\n",
              "                                                 max_doc_update_iter=100,\n",
              "                                                 max_iter=10,\n",
              "                                                 mean_change_tol=0.001,\n",
              "                                                 n_components=10, n_jobs=None,\n",
              "                                                 perp_tol=0.1,\n",
              "                                                 random_state=None,\n",
              "                                                 topic_word_prior=None,\n",
              "                                                 total_samples=1000000.0,\n",
              "                                                 verbose=0),\n",
              "             iid='deprecated', n_jobs=None,\n",
              "             param_grid={'learning_decay': [0.5, 0.7, 0.9],\n",
              "                         'n_components': [10, 15]},\n",
              "             pre_dispatch='2*n_jobs', refit=True, return_train_score=False,\n",
              "             scoring=None, verbose=0)"
            ]
          },
          "metadata": {
            "tags": []
          },
          "execution_count": 22
        }
      ]
    },
    {
      "cell_type": "code",
      "metadata": {
        "colab": {
          "base_uri": "https://localhost:8080/"
        },
        "id": "-r-22j2wun9Q",
        "outputId": "f16cb2ba-9f25-499e-978c-6ecc7623ef6c"
      },
      "source": [
        "# Best Model\n",
        "best_lda_model = model.best_estimator_\n",
        "\n",
        "# Model Parameters\n",
        "print(\"Best Model's Params: \", model.best_params_)\n",
        "\n",
        "# Log Likelihood Score\n",
        "print(\"Best Log Likelihood Score: \", model.best_score_)\n",
        "\n",
        "# Perplexity\n",
        "print(\"Model Perplexity: \", best_lda_model.perplexity(data_vectorized))"
      ],
      "execution_count": null,
      "outputs": [
        {
          "output_type": "stream",
          "text": [
            "Best Model's Params:  {'learning_decay': 0.9, 'n_components': 10}\n",
            "Best Log Likelihood Score:  -92145.19539635375\n",
            "Model Perplexity:  1028.1164695650082\n"
          ],
          "name": "stdout"
        }
      ]
    },
    {
      "cell_type": "code",
      "metadata": {
        "id": "0NSfyecFvLJo"
      },
      "source": [
        "# Create Document - Topic Matrix\n",
        "lda_output = best_lda_model.transform(data_vectorized)\n",
        "\n",
        "# column names\n",
        "topicnames = [\"Topic\" + str(i) for i in range(best_lda_model.n_components)]\n",
        "\n",
        "# index names\n",
        "docnames = [\"Doc\" + str(i) for i in range(len(data))]\n",
        "\n",
        "# Make the pandas dataframe\n",
        "df_document_topic = pd.DataFrame(np.round(lda_output, 2), columns=topicnames, index=docnames)\n",
        "\n",
        "# Get dominant topic for each document\n",
        "dominant_topic = np.argmax(df_document_topic.values, axis=1)\n",
        "df_document_topic['dominant_topic'] = dominant_topic\n"
      ],
      "execution_count": null,
      "outputs": []
    },
    {
      "cell_type": "code",
      "metadata": {
        "colab": {
          "base_uri": "https://localhost:8080/",
          "height": 402
        },
        "id": "x6U9PkBwvSkA",
        "outputId": "775d567f-3645-4d72-9152-852eda32b05a"
      },
      "source": [
        "df_document_topic"
      ],
      "execution_count": null,
      "outputs": [
        {
          "output_type": "execute_result",
          "data": {
            "text/html": [
              "<div>\n",
              "<style scoped>\n",
              "    .dataframe tbody tr th:only-of-type {\n",
              "        vertical-align: middle;\n",
              "    }\n",
              "\n",
              "    .dataframe tbody tr th {\n",
              "        vertical-align: top;\n",
              "    }\n",
              "\n",
              "    .dataframe thead th {\n",
              "        text-align: right;\n",
              "    }\n",
              "</style>\n",
              "<table border=\"1\" class=\"dataframe\">\n",
              "  <thead>\n",
              "    <tr style=\"text-align: right;\">\n",
              "      <th></th>\n",
              "      <th>Topic0</th>\n",
              "      <th>Topic1</th>\n",
              "      <th>Topic2</th>\n",
              "      <th>Topic3</th>\n",
              "      <th>Topic4</th>\n",
              "      <th>Topic5</th>\n",
              "      <th>Topic6</th>\n",
              "      <th>Topic7</th>\n",
              "      <th>Topic8</th>\n",
              "      <th>Topic9</th>\n",
              "      <th>dominant_topic</th>\n",
              "    </tr>\n",
              "  </thead>\n",
              "  <tbody>\n",
              "    <tr>\n",
              "      <th>Doc0</th>\n",
              "      <td>0.26</td>\n",
              "      <td>0.03</td>\n",
              "      <td>0.03</td>\n",
              "      <td>0.03</td>\n",
              "      <td>0.29</td>\n",
              "      <td>0.03</td>\n",
              "      <td>0.27</td>\n",
              "      <td>0.03</td>\n",
              "      <td>0.03</td>\n",
              "      <td>0.03</td>\n",
              "      <td>4</td>\n",
              "    </tr>\n",
              "    <tr>\n",
              "      <th>Doc1</th>\n",
              "      <td>0.26</td>\n",
              "      <td>0.03</td>\n",
              "      <td>0.03</td>\n",
              "      <td>0.03</td>\n",
              "      <td>0.29</td>\n",
              "      <td>0.03</td>\n",
              "      <td>0.27</td>\n",
              "      <td>0.03</td>\n",
              "      <td>0.03</td>\n",
              "      <td>0.03</td>\n",
              "      <td>4</td>\n",
              "    </tr>\n",
              "    <tr>\n",
              "      <th>Doc2</th>\n",
              "      <td>0.26</td>\n",
              "      <td>0.03</td>\n",
              "      <td>0.03</td>\n",
              "      <td>0.03</td>\n",
              "      <td>0.29</td>\n",
              "      <td>0.03</td>\n",
              "      <td>0.27</td>\n",
              "      <td>0.03</td>\n",
              "      <td>0.03</td>\n",
              "      <td>0.03</td>\n",
              "      <td>4</td>\n",
              "    </tr>\n",
              "    <tr>\n",
              "      <th>Doc3</th>\n",
              "      <td>0.26</td>\n",
              "      <td>0.03</td>\n",
              "      <td>0.03</td>\n",
              "      <td>0.03</td>\n",
              "      <td>0.29</td>\n",
              "      <td>0.03</td>\n",
              "      <td>0.27</td>\n",
              "      <td>0.03</td>\n",
              "      <td>0.03</td>\n",
              "      <td>0.03</td>\n",
              "      <td>4</td>\n",
              "    </tr>\n",
              "    <tr>\n",
              "      <th>Doc4</th>\n",
              "      <td>0.03</td>\n",
              "      <td>0.03</td>\n",
              "      <td>0.03</td>\n",
              "      <td>0.03</td>\n",
              "      <td>0.03</td>\n",
              "      <td>0.03</td>\n",
              "      <td>0.70</td>\n",
              "      <td>0.03</td>\n",
              "      <td>0.03</td>\n",
              "      <td>0.03</td>\n",
              "      <td>6</td>\n",
              "    </tr>\n",
              "    <tr>\n",
              "      <th>...</th>\n",
              "      <td>...</td>\n",
              "      <td>...</td>\n",
              "      <td>...</td>\n",
              "      <td>...</td>\n",
              "      <td>...</td>\n",
              "      <td>...</td>\n",
              "      <td>...</td>\n",
              "      <td>...</td>\n",
              "      <td>...</td>\n",
              "      <td>...</td>\n",
              "      <td>...</td>\n",
              "    </tr>\n",
              "    <tr>\n",
              "      <th>Doc13279</th>\n",
              "      <td>0.03</td>\n",
              "      <td>0.03</td>\n",
              "      <td>0.03</td>\n",
              "      <td>0.03</td>\n",
              "      <td>0.03</td>\n",
              "      <td>0.70</td>\n",
              "      <td>0.03</td>\n",
              "      <td>0.03</td>\n",
              "      <td>0.03</td>\n",
              "      <td>0.03</td>\n",
              "      <td>5</td>\n",
              "    </tr>\n",
              "    <tr>\n",
              "      <th>Doc13280</th>\n",
              "      <td>0.01</td>\n",
              "      <td>0.01</td>\n",
              "      <td>0.01</td>\n",
              "      <td>0.01</td>\n",
              "      <td>0.44</td>\n",
              "      <td>0.01</td>\n",
              "      <td>0.01</td>\n",
              "      <td>0.01</td>\n",
              "      <td>0.44</td>\n",
              "      <td>0.01</td>\n",
              "      <td>4</td>\n",
              "    </tr>\n",
              "    <tr>\n",
              "      <th>Doc13281</th>\n",
              "      <td>0.01</td>\n",
              "      <td>0.01</td>\n",
              "      <td>0.01</td>\n",
              "      <td>0.01</td>\n",
              "      <td>0.44</td>\n",
              "      <td>0.01</td>\n",
              "      <td>0.01</td>\n",
              "      <td>0.01</td>\n",
              "      <td>0.44</td>\n",
              "      <td>0.01</td>\n",
              "      <td>4</td>\n",
              "    </tr>\n",
              "    <tr>\n",
              "      <th>Doc13282</th>\n",
              "      <td>0.01</td>\n",
              "      <td>0.01</td>\n",
              "      <td>0.01</td>\n",
              "      <td>0.01</td>\n",
              "      <td>0.44</td>\n",
              "      <td>0.01</td>\n",
              "      <td>0.01</td>\n",
              "      <td>0.01</td>\n",
              "      <td>0.44</td>\n",
              "      <td>0.01</td>\n",
              "      <td>4</td>\n",
              "    </tr>\n",
              "    <tr>\n",
              "      <th>Doc13283</th>\n",
              "      <td>0.01</td>\n",
              "      <td>0.01</td>\n",
              "      <td>0.01</td>\n",
              "      <td>0.01</td>\n",
              "      <td>0.44</td>\n",
              "      <td>0.01</td>\n",
              "      <td>0.01</td>\n",
              "      <td>0.01</td>\n",
              "      <td>0.44</td>\n",
              "      <td>0.01</td>\n",
              "      <td>4</td>\n",
              "    </tr>\n",
              "  </tbody>\n",
              "</table>\n",
              "<p>13284 rows × 11 columns</p>\n",
              "</div>"
            ],
            "text/plain": [
              "          Topic0  Topic1  Topic2  ...  Topic8  Topic9  dominant_topic\n",
              "Doc0        0.26    0.03    0.03  ...    0.03    0.03               4\n",
              "Doc1        0.26    0.03    0.03  ...    0.03    0.03               4\n",
              "Doc2        0.26    0.03    0.03  ...    0.03    0.03               4\n",
              "Doc3        0.26    0.03    0.03  ...    0.03    0.03               4\n",
              "Doc4        0.03    0.03    0.03  ...    0.03    0.03               6\n",
              "...          ...     ...     ...  ...     ...     ...             ...\n",
              "Doc13279    0.03    0.03    0.03  ...    0.03    0.03               5\n",
              "Doc13280    0.01    0.01    0.01  ...    0.44    0.01               4\n",
              "Doc13281    0.01    0.01    0.01  ...    0.44    0.01               4\n",
              "Doc13282    0.01    0.01    0.01  ...    0.44    0.01               4\n",
              "Doc13283    0.01    0.01    0.01  ...    0.44    0.01               4\n",
              "\n",
              "[13284 rows x 11 columns]"
            ]
          },
          "metadata": {
            "tags": []
          },
          "execution_count": 33
        }
      ]
    },
    {
      "cell_type": "code",
      "metadata": {
        "colab": {
          "base_uri": "https://localhost:8080/"
        },
        "id": "cyuluS4gvUB0",
        "outputId": "b5eb7c9e-5d53-4d24-dcf3-26100f6e4130"
      },
      "source": [
        "df_topic_distribution = df_document_topic['dominant_topic'].value_counts().reset_index(name=\"Num Documents\")\n",
        "df_topic_distribution.columns = ['Topic Num', 'Num Documents']\n",
        "print(df_topic_distribution)"
      ],
      "execution_count": null,
      "outputs": [
        {
          "output_type": "stream",
          "text": [
            "   Topic Num  Num Documents\n",
            "0          0           3477\n",
            "1          9           1610\n",
            "2          4           1459\n",
            "3          8           1293\n",
            "4          1           1092\n",
            "5          2           1053\n",
            "6          7            905\n",
            "7          5            866\n",
            "8          3            803\n",
            "9          6            726\n"
          ],
          "name": "stdout"
        }
      ]
    },
    {
      "cell_type": "code",
      "metadata": {
        "colab": {
          "base_uri": "https://localhost:8080/",
          "height": 881
        },
        "id": "5ANEAwRdvk4m",
        "outputId": "1503a1e3-2be6-4b12-fa41-3f99b7b87c45"
      },
      "source": [
        "pyLDAvis.enable_notebook()\n",
        "panel = pyLDAvis.sklearn.prepare(best_lda_model, data_vectorized, vectorizer, mds='tsne')\n",
        "panel"
      ],
      "execution_count": null,
      "outputs": [
        {
          "output_type": "execute_result",
          "data": {
            "text/html": [
              "\n",
              "<link rel=\"stylesheet\" type=\"text/css\" href=\"https://cdn.jsdelivr.net/gh/bmabey/pyLDAvis@3.3.1/pyLDAvis/js/ldavis.v1.0.0.css\">\n",
              "\n",
              "\n",
              "<div id=\"ldavis_el4691406619537065762443817195\"></div>\n",
              "<script type=\"text/javascript\">\n",
              "\n",
              "var ldavis_el4691406619537065762443817195_data = {\"mdsDat\": {\"x\": [32.42095184326172, 0.648955225944519, 71.01968383789062, 3.7859814167022705, -42.666500091552734, -3.6216893196105957, -3.632401704788208, -36.58440017700195, 44.391380310058594, 40.235809326171875], \"y\": [8.115229606628418, 71.70709991455078, 9.971006393432617, 33.18513488769531, -9.22206974029541, -43.52651596069336, -4.171707630157471, 35.804412841796875, 50.61538314819336, -31.591665267944336], \"topics\": [1, 2, 3, 4, 5, 6, 7, 8, 9, 10], \"cluster\": [1, 1, 1, 1, 1, 1, 1, 1, 1, 1], \"Freq\": [15.948105284133, 15.26415863903158, 11.867273617590355, 10.586590879188885, 9.806441216231047, 7.931193817094968, 7.747505320829909, 7.6032319697057416, 6.667136104511674, 6.578363151682848]}, \"tinfo\": {\"Term\": [\"\\u09ac\\u099b\\u09b0\", \"\\u09b6\\u09b9\\u09b0\", \"\\u0986\\u0987\\u09a8\", \"\\u099c\\u09a8\\u09b8\", \"\\u09a6\\u09b6\\u0995\", \"\\u09e6\\u09e6\\u09e6\", \"\\u0995\\u09b0\\u09a3\", \"\\u0997\\u09a0\\u09a8\", \"\\u09a7\\u09b0\\u09a3\", \"\\u09b9\\u09e9\\u09ef\", \"\\u09b6\\u09a4\\u0995\", \"\\u0987\\u09a8\\u09b8\", \"\\u0986\\u09b0\\u09ac\", \"\\u09e8\\u09e6\\u09e6\", \"\\u098f\\u0995\\u0995\", \"\\u09ab\\u09b2\\u09b8\", \"\\u09e8\\u09e6\\u09e7\\u09eb\", \"\\u0985\\u09aa\\u09b0\", \"\\u09e8\\u09e6\\u09e7\\u09e9\", \"\\u09e8\\u09e6\\u09e6\\u09ef\", \"\\u09aa\\u09a6\\u0995\", \"\\u098f\\u0995\\u099c\\u09a8\", \"\\u0986\\u09a6\\u09b0\", \"\\u09e8\\u09e6\\u09e7\\u09e7\", \"\\u09ac\\u09b9\\u09a8\", \"\\u09e8\\u09e6\\u09e6\\u09ea\", \"\\u09a8\\u0997\\u09b0\", \"\\u09e7\\u09ef\\u09ee\\u09e6\", \"\\u09e8\\u09e6\\u09e7\\u09ea\", \"\\u09e7\\u09ef\\u09ef\\u09e6\", \"\\u09e6\\u09e6\\u09e6\", \"\\u0987\\u09a8\\u09b8\", \"\\u09b6\\u09b9\\u09b0\", \"\\u09ef\\u09e6\\u09e6\", \"\\u09eb\\u09e6\\u09e6\", \"\\u0986\\u09aa\\u09b8\", \"\\u09e7\\u09ef\\u09e8\\u09ea\", \"\\u09ed\\u09e6\\u09e6\\u09e6\\u09e6\", \"\\u098f\\u0995\\u09a6\\u09b2\", \"\\u0989\\u09aa\\u09b6\\u09ae\", \"\\u098f\\u09a8\\u098f\\u0987\\u099a\\u098f\\u09b8\", \"\\u0986\\u09b8\\u09a4\", \"\\u09e7\\u09e6\\u09e7\", \"\\u09e7\\u09ea\\u09e9\", \"\\u09e7\\u09e7\\u09ef\", \"\\u0986\\u0987\\u09a8\\u09a4\", \"\\u09e7\\u09e9\\u09ea\\u09ec\", \"\\u09eb\\u09e7\\u09e8\", \"\\u09ea\\u09eb\\u09ed\", \"\\u09e7\\u09ea\\u09ec\", \"\\u09a6\\u09ab\\u09a4\\u09b0\", \"\\u09e8\\u09e7\\u09e8\", \"\\u09ec\\u09ea\\u09ea\\u09e9\", \"\\u09e7\\u09e9\\u09ea\", \"\\u09eb\\u09ef\\u09ef\\u09ef\", \"\\u09eb\\u09eb\\u09e9\", \"\\u09b8\\u09a6\\u09b0\", \"\\u0987\\u0989\\u098f\\u09a8\\u098f\\u098f\\u09ae\", \"\\u09e7\\u09ed\\u09e9\\u09eb\", \"\\u09e7\\u09ed\\u09ec\\u09eb\\u09eb\", \"\\u09ee\\u09e6\\u09e6\", \"\\u0986\\u09b9\\u09a4\", \"\\u0986\\u0987\\u0995\", \"\\u09ea\\u09e6\\u09e6\", \"\\u09e7\\u09ef\\u09ea\\u09e8\", \"\\u09a8\\u0997\\u09b0\", \"\\u098f\\u0995\\u099c\\u09a8\", \"\\u09e8\\u09eb\\u09e6\", \"\\u0996\\u09ac\\u09b0\", \"\\u09e9\\u09e6\\u09e6\", \"\\u0986\\u09ac\\u09a6\", \"\\u09aa\\u09b0\\u09aa\\u09b0\\u0987\", \"\\u09a6\\u09b6\\u09ae\", \"\\u09ed\\u09e6\\u09e6\", \"\\u09e7\\u09ee\\u09ea\\u09ef\", \"\\u09e8\\u09e6\\u09e7\\u09e8\", \"\\u09ad\\u09ac\\u09a8\", \"\\u09e8\\u09e6\\u09e6\", \"\\u09e8\\u09e6\\u09e7\\u09ea\", \"\\u09a6\\u0996\\u09b2\", \"\\u09ac\\u09b8\\u09a4\", \"\\u09e8\\u09e6\\u09e7\\u09e7\", \"\\u09e8\\u09e6\\u09e7\\u09e6\", \"\\u09e7\\u09e6\\u09e6\", \"\\u09e8\\u09e6\\u09e6\\u09ee\", \"\\u09b9\\u099c\\u09ae\", \"\\u09ac\\u099b\\u09b0\", \"\\u09e7\\u09ef\\u09ee\\u09ea\", \"\\u09a8\\u0995\\u09b2\", \"\\u09e8\\u09ef\\u09ef\", \"\\u098f\\u09a8\\u098f\\u09b8\", \"\\u09ab\\u09b8\\u09b2\", \"\\u098f\\u09ab\\u098f\", \"\\u09aa\\u09b6\\u09ae\", \"\\u09e7\\u09ef\\u09ec\\u09ea\\u09ea\", \"\\u09eb\\u09e9\\u09eb\", \"\\u09e7\\u09ee\\u09ea\\u09ec\", \"\\u09e8\\u09ea\\u09ed\", \"\\u09b0\\u09b8\\u09a6\", \"\\u09ef\\u09e6\\u09ed\", \"\\u09ec\\u09e6\\u09e6\\u09e6\\u09e6\", \"\\u0989\\u09aa\\u0995\\u09b0\\u09a3\", \"\\u09e8\\u09e9\\u09ed\", \"\\u09e7\\u09eb\\u09e9\", \"\\u098f\\u09ab\\u098f\\u0993\", \"\\u09e8\\u09e7\\u09ef\", \"\\u09ea\\u09ec\\u09ef\", \"\\u09e8\\u09e6\\u09e9\\u09e6\", \"\\u0987\\u098f\\u09b8\\u098f\", \"\\u09e7\\u09ee\\u09ec\\u09e6\\u09e6\", \"\\u09e8\\u09e6\\u09e6\\u09ed\", \"\\u09ea\\u09ec\\u09e6\", \"\\u09b8\\u09b9\\u099a\\u09b0\", \"\\u0989\\u0987\\u09b2\\u09ae\\u099f\", \"\\u09ef\\u09e9\\u09ed\\u09e9\\u09ed\", \"\\u09ac\\u09b9\\u09a8\", \"\\u09e8\\u09e6\\u09e6\\u09ec\", \"\\u09e8\\u09e6\\u09e6\", \"\\u09a8\\u0997\\u09a6\", \"\\u09e8\\u09e6\\u09e7\\u09e7\", \"\\u09e7\\u09ef\\u09ee\\u09eb\", \"\\u09e8\\u09e6\\u09e7\\u09ea\", \"\\u09b8\\u09ae\\u09a8\", \"\\u09e7\\u09ef\\u09ee\\u09e8\", \"\\u09e7\\u09ef\\u09eb\\u09ee\", \"\\u099c\\u0997\\u09a4\", \"\\u09e8\\u09e6\\u09e6\\u09e9\", \"\\u09e7\\u09ef\\u09ef\\u09ec\", \"\\u0986\\u09b0\\u098f\\u09ae\\u098f\\u09b8\", \"\\u09e8\\u09e8\\u09e8\", \"\\u09e7\\u09ec\\u09e6\", \"\\u09e8\\u09e6\\u09e6\\u09ea\", \"\\u09e8\\u09e6\\u09e7\\u09e8\", \"\\u09e7\\u09e6\\u09e6\", \"\\u09e8\\u09e6\\u09e6\\u09eb\", \"\\u09e8\\u09e6\\u09e6\\u09ee\", \"\\u09e8\\u09e6\\u09e7\\u09e9\", \"\\u09e8\\u09e6\\u09e7\\u09e6\", \"\\u09e7\\u09ef\\u09ef\\u09ef\", \"\\u098f\\u0995\\u099c\\u09a8\", \"\\u09e8\\u09e6\\u09e6\\u09e6\", \"\\u09e8\\u09e6\\u09e6\\u09e8\", \"\\u0986\\u09b8\\u09a8\", \"\\u09a8\\u0997\\u09b0\", \"\\u0989\\u0987\\u0995\", \"\\u098f\\u0995\\u0995\", \"\\u09a6\\u09b6\\u0995\", \"\\u09e7\\u09ef\\u09ee\\u09e6\", \"\\u09e7\\u09ef\\u09eb\\u09e6\", \"\\u0986\\u09ae\\u09b2\", \"\\u09e7\\u09ef\\u09ed\\u09e6\", \"\\u0986\\u09b0\\u098f\\u09a8\\u098f\", \"\\u09a6\\u09ae\\u09a8\", \"\\u09e7\\u09ef\\u09e8\\u09e6\", \"\\u09e7\\u09ee\\u09e7\\u09ea\", \"\\u0995\\u09b0\\u09b2\", \"\\u0986\\u09ac\\u09b0\\u09a3\", \"\\u09e7\\u09ee\\u09ef\\u09ec\", \"\\u09e7\\u09ef\\u09e9\\u09e6\", \"\\u09e7\\u09ef\\u09ec\\u09eb\\u09eb\", \"\\u09e7\\u09ef\\u09ed\", \"\\u09e7\\u09ee\\u09ed\\u09e6\", \"\\u0993\\u09e9\\u09ef\", \"\\u09e7\\u09ef\\u09e8\\u09ed\", \"\\u09e7\\u09e6\\u09eb\", \"\\u09e7\\u09ec\\u09e9\\u09e9\", \"\\u09e7\\u09ed\\u09ef\\u09ee\", \"\\u09e9\\u09eb\\u09ea\", \"\\u09e7\\u09e7\\u09e7\", \"\\u09e7\\u09ef\\u09ec\\u09e6\", \"\\u09e7\\u09ea\\u09e8\\u09e6\\u09e9\\u09e6\\u09e7\\u09ec\\u09e9\\u09e6\", \"\\u0986\\u09b0\\u098f\\u09a8\\u098f\\u09b0\", \"\\u098f\\u098f\\u09ae\", \"\\u09e7\\u09eb\\u09e8\\u09e6\", \"\\u09e7\\u09ee\\u09ef\\u09e8\", \"\\u09e7\\u09ef\\u09ed\\u09ef\", \"\\u09e7\\u09ef\\u09ee\\u09ee\", \"\\u09e7\\u09ee\\u09e6\\u09e6\", \"\\u09e7\\u09ef\\u09ef\\u09e6\", \"\\u09e7\\u09ef\\u09ed\\u09e6\\u09e6\", \"\\u09b6\\u09a4\\u0995\", \"\\u09e7\\u09ef\\u09ea\\u09e7\", \"\\u09e7\\u09ef\\u09ea\\u09ee\", \"\\u09e7\\u09ee\\u09ef\\u09e6\", \"\\u09e7\\u09ef\\u09ea\\u09e6\", \"\\u09e7\\u09ef\\u09ee\\u09ed\", \"\\u09e7\\u09ee\\u09eb\\u09ef\", \"\\u09aa\\u09a4\\u09a8\", \"\\u09e7\\u09ef\\u09ee\\u09e7\", \"\\u09ad\\u09ac\\u09a8\", \"\\u09e7\\u09ee\\u09e9\\u09e6\", \"\\u0986\\u0997\\u09ae\\u09a8\", \"\\u09e7\\u09ef\\u09ee\\u09ef\", \"\\u09e7\\u09ef\\u09ef\\u09eb\", \"\\u09e7\\u09ef\\u09ed\\u09e8\", \"\\u09e7\\u09ee\\u09ee\\u09e6\", \"\\u099c\\u09a8\\u0997\\u09a3\", \"\\u09e8\\u09e6\\u09e6\\u09e6\", \"\\u09e7\\u09ef\\u09ef\", \"\\u09e7\\u09ef\\u09ef\\u09e7\", \"\\u09ac\\u09b9\\u09a8\", \"\\u099c\\u09a8\\u09b8\", \"\\u09a6\\u0996\\u09b2\", \"\\u0995\\u09b0\\u09a3\", \"\\u09e7\\u09ee\\u09ea\\u09e6\", \"\\u09e7\\u09ee\\u09e9\\u09eb\", \"\\u09e7\\u09ef\\u09e6\\u09e7\", \"\\u09e7\\u09ef\\u09ed\\u09eb\", \"\\u09e9\\u09ee\\u09e6\", \"\\u09e7\\u09ef\\u09e7\\u09e7\\u09ec\", \"\\u09e7\\u09ee\\u09e9\\u09e7\", \"\\u09e7\\u09ee\\u09e6\\u09e7\", \"\\u09e7\\u09ee\\u09ec\\u09e7\", \"\\u0986\\u09b0\\u098f\\u09ab\", \"\\u09e7\\u09ee\\u09ee\\u09e9\", \"\\u09e7\\u09ed\\u09ef\\u09e6\", \"\\u09e7\\u09ef\\u09e6\\u09e8\", \"\\u09e7\\u09ec\\u09ec\\u09ea\", \"\\u098f\\u0987\\u099a\\u098f\\u09b2\", \"\\u09e7\\u09ef\\u09e8\\u09e7\", \"\\u09e7\\u09ef\\u09e7\\u09ed\\u09e7\", \"\\u09e7\\u09ee\\u09e9\\u09ed\", \"\\u0996\\u09b0\\u099a\", \"\\u098f\\u09b8\\u098f\\u09b8\", \"\\u098f\\u09a8\\u0986\\u0987\\u0986\\u09b0\", \"\\u09e7\\u09ea\\u09ee\", \"\\u09e7\\u09ee\\u09ed\\u09e8\\u09e8\", \"\\u09e8\\u09eb\\u09ed\", \"\\u0986\\u09b0\\u098f\\u09ab\\u098f\\u09ab\", \"\\u09e9\\u09e9\\u09ec\", \"\\u0986\\u09b0\\u0987\\u098f\\u09ab\", \"\\u09e7\\u09ee\\u09ee\\u09ed\", \"\\u09eb\\u09ed\\u09ee\", \"\\u09e7\\u09ef\\u09e6\\u09ef\", \"\\u0986\\u0987\\u09b8\", \"\\u09a8\\u09ae\\u09a8\", \"\\u09e7\\u09ef\\u09e6\\u09eb\", \"\\u098f\\u0987\\u099a\", \"\\u098f\\u098f\\u09ab\", \"\\u09e7\\u09ef\\u09ef\\u09e8\", \"\\u09e7\\u09ef\\u09ea\\u09ea\", \"\\u09e7\\u09ef\\u09ef\\u09e7\", \"\\u0987\\u099f\\u09b8\", \"\\u0995\\u09b0\\u09a4\", \"\\u0986\\u0987\\u099c\", \"\\u09e7\\u09ee\\u09ef\\u09ee\", \"\\u09a6\\u0996\\u09b2\", \"\\u098f\\u0987\\u099a\\u098f\\u09ae\\u098f\\u09b8\", \"\\u09e7\\u09ee\\u09ef\\u09ef\", \"\\u0989\\u09a0\\u09b2\", \"\\u09e7\\u09ef\\u09e7\\u09e8\", \"\\u09e8\\u09e6\\u09e6\\u09ee\", \"\\u099a\\u09b0\\u09ae\", \"\\u09e7\\u09ef\\u09e7\\u09ea\", \"\\u09b6\\u09a4\\u0995\", \"\\u09e7\\u09ef\\u09e6\\u09ea\", \"\\u098f\\u09b8\\u098f\\u09ab\\u098f\\u09b8\\u0986\\u09b0\", \"\\u09e7\\u09eb\\u09e6\", \"\\u09aa\\u09a4\\u09a8\", \"\\u09e8\\u09e6\\u09e6\\u09e9\", \"\\u09e7\\u09e6\\u09e6\\u09e6\", \"\\u09e7\\u09e6\\u09e6\", \"\\u09e8\\u09e6\\u09e6\\u09ea\", \"\\u09a4\\u09b0\\u09b2\", \"\\u099c\\u09a8\\u09b8\\u09a8\", \"\\u098f\\u0986\\u09b0\", \"\\u09e7\\u09ee\\u09eb\\u09ed\", \"\\u09e7\\u09ef\\u09eb\\u09ef\", \"\\u09e7\\u09ef\\u09e7\\u09ef\", \"\\u09e8\\u09e6\\u09e6\\u09ef\", \"\\u09b9\\u09b0\\u09b0\", \"\\u099c\\u09a8\\u09b8\", \"\\u098f\\u09b2\\u09ae\", \"\\u09e7\\u09ee\\u09eb\\u09ee\", \"\\u099c\\u09a8\\u0987\", \"\\u09e7\\u09eb\\u09ea\", \"\\u09e7\\u09ee\\u09eb\\u09ec\", \"\\u09e7\\u09ef\\u09ec\\u09ec\\u09ec\\u09ec\", \"\\u09ac\\u099f\\u09ae\", \"\\u09e7\\u09ed\\u09ec\\u09e8\", \"\\u09e7\\u09ec\\u09ef\\u09e6\", \"\\u09e7\\u09e8\\u09ed\\u09ed\", \"\\u09e7\\u09ea\\u09ee\\u09e6\", \"\\u09eb\\u09ea\\u09e8\", \"\\u09e9\\u09e7\\u09ee\", \"\\u0997\\u09b0\\u09ae\", \"\\u09ec\\u09ef\\u09e8\", \"\\u09ed\\u09eb\\u09ee\", \"\\u09e7\\u09ef\\u09ed\\u09e7\", \"\\u09ef\\u09ee\\u09ef\\u09ec\", \"\\u09e7\\u09e8\\u09ed\\u09ec\", \"\\u09e7\\u09e8\\u09ed\\u09eb\", \"\\u09e7\\u09e8\\u09ed\\u09ef\", \"\\u09e7\\u09ee\\u09eb\\u09ea\", \"\\u09b2\\u09b8\\u09a8\", \"\\u09e7\\u09ee\\u09eb\\u09e8\", \"\\u09e7\\u09ef\\u09ea\\u09ef\", \"\\u09e7\\u09ef\\u09e9\\u09ec\", \"\\u09e7\\u09ef\\u09ef\\u09ef\", \"\\u09e7\\u09ef\\u09eb\\u09ea\", \"\\u098f\\u0987\\u09a1\\u09b8\", \"\\u09e7\\u09ef\\u09e9\\u09e8\", \"\\u09e8\\u09e6\\u09e6\\u09e6\", \"\\u09e8\\u09e6\\u09e6\\u09eb\", \"\\u09e7\\u09ea\\u09e6\", \"\\u0995\\u09ae\\u0987\", \"\\u09e8\\u09e6\\u09e7\\u09e6\", \"\\u09e7\\u09e6\\u09e6\", \"\\u0987\\u09a8\\u0995\", \"\\u09e8\\u09e6\\u09e6\\u09e7\", \"\\u09e7\\u09ef\\u09ea\\u09ea\\u09eb\", \"\\u09e8\\u09e6\\u09e6\\u09ee\", \"\\u09e7\\u09ef\\u09ea\\u09ec\", \"\\u09e8\\u09e6\\u09e6\\u09e8\", \"\\u09b0\\u099c\\u09a8\", \"\\u09e7\\u09ef\\u09ea\\u09e6\", \"\\u09a8\\u0997\\u09b0\", \"\\u09e7\\u09ef\\u09ef\\u09e6\", \"\\u09b8\\u09ab\\u09b2\", \"\\u098f\\u0995\\u099c\\u09a8\", \"\\u099c\\u09a8\\u0995\", \"\\u09e8\\u09e6\\u09e6\", \"\\u09b8\\u09b9\\u099c\", \"\\u09e8\\u09e6\\u09e7\\u09eb\", \"\\u0986\\u09a6\\u09b0\", \"\\u09e7\\u09ef\\u09e7\\u09e6\", \"\\u0987\\u0987\\u0989\", \"\\u0986\\u09b0\\u098f\\u098f\\u09ab\", \"\\u09b8\\u09ae\\u09a4\\u09b2\", \"\\u09e8\\u09e6\\u09e7\", \"\\u09e7\\u09eb\\u09eb\\u09ee\", \"\\u09ec\\u09e8\\u09e8\", \"\\u0986\\u0987\\u09a1\\u09b2\", \"\\u09ec\\u09ed\\u09ec\\u09ed\\u09e8\", \"\\u09ea\\u09ed\\u09ed\", \"\\u09e7\\u09ea\\u09e9\\u09eb\", \"\\u09e7\\u09e8\\u09ef\", \"\\u098f\\u0987\\u0989\\u09b0\", \"\\u09e7\\u09eb\\u09e8\\u09ec\", \"\\u09ea\\u09e9\\u09e9\", \"\\u09e8\\u09e8\\u09ed\", \"\\u0985\\u09ac\\u09a4\\u09b2\", \"\\u098f\\u0995\\u09b6\\u09a4\", \"\\u09ed\\u09ea\\u09ea\\u09e7\", \"\\u09e9\\u09ef\\u09eb\", \"\\u09a6\\u09b2\\u0993\", \"\\u0989\\u0993\\u09b2\", \"\\u099c\\u09ac\\u09b8\", \"\\u09e7\\u09eb\\u09e6\\u09eb\\u09e6\", \"\\u09e7\\u09ee\\u09ec\", \"\\u09e8\\u09e8\\u09e9\", \"\\u09e7\\u09ed\\u09ec\\u09ed\\u09ec\\u09ed\\u09ec\", \"\\u09ef\\u09e6\\u09ee\", \"\\u09e7\\u09e8\\u09e6\", \"\\u09aa\\u09b0\\u09ae\", \"\\u09e8\\u09e6\\u09e7\\u09ec\", \"\\u0993\\u099c\\u09a8\", \"\\u09e8\\u09e6\\u09e7\\u09e9\", \"\\u099c\\u09a8\\u0997\\u09a3\", \"\\u09e7\\u09ee\\u09e8\\u09e6\", \"\\u09b0\\u099c\\u09a8\", \"\\u09e7\\u09ee\\u09e6\", \"\\u0986\\u09b8\\u09a8\", \"\\u09ac\\u09b8\\u09a4\", \"\\u09ac\\u09b0\\u09ab\", \"\\u0987\\u0989\\u098f\\u09b8\", \"\\u09e7\\u09ef\\u09e6\\u09e6\", \"\\u09a8\\u09ac\\u09ae\", \"\\u09b8\\u09a8\\u09a6\", \"\\u0986\\u09ac\\u09a6\", \"\\u09e8\\u09e6\\u09e7\\u09e8\", \"\\u09e8\\u09e6\\u09e7\\u09ea\", \"\\u09e8\\u09e6\\u09e7\\u09e6\", \"\\u09e8\\u09e6\\u09e7\\u09e7\", \"\\u09e7\\u09ef\\u09ee\\u09ef\", \"\\u09b8\\u09ae\\u09a8\", \"\\u09a8\\u0997\\u09b0\", \"\\u09ab\\u09b2\\u09b8\", \"\\u0987\\u09a8\\u09ab\", \"\\u0986\\u099a\\u09b0\\u09a3\", \"\\u09b8\\u09ab\\u09b0\", \"\\u09a8\\u09b0\\u09ae\", \"\\u0986\\u09b0\\u09b8\", \"\\u098f\\u098f\\u09ab\\u098f\\u09b2\", \"\\u0985\\u09b8\\u09ae\", \"\\u09ab\\u09b2\\u09a8\", \"\\u0996\\u09a8\\u09a8\", \"\\u09e7\\u09e8\\u09ee\", \"\\u09e7\\u09ef\\u09ec\\u09ef\\u09ef\", \"\\u09e7\\u09ee\\u09e9\\u09e8\", \"\\u0987\\u0989\\u098f\\u09b8\\u098f\\u09b8\\u0986\\u09b0\", \"\\u09ef\\u09ef\\u09e6\", \"\\u0986\\u09b9\\u09b0\\u09a3\", \"\\u0985\\u09aa\\u09b0\", \"\\u09e8\\u09ea\\u09eb\", \"\\u0986\\u0987\\u0986\\u09b0\\u098f\\u09b8\", \"\\u09aa\\u09b0\\u09a4\", \"\\u0987\\u0989\\u098f\\u09b8\\u098f\\u09b8\", \"\\u099d\\u09b2\\u0995\", \"\\u09ef\\u09ee\\u09e6\", \"\\u09e7\\u09ec\\u09ef\\u09ec\\u09ef\\u09ef\", \"\\u09aa\\u09a6\\u0995\", \"\\u09e7\\u09e7\\u09eb\\u09e6\", \"\\u09e7\\u09eb\\u09e8\\u09eb\", \"\\u09e7\\u09ef\\u09ec\\u09e9\\u09ec\\u09e9\", \"\\u0985\\u09ae\\u09b0\", \"\\u09a4\\u09a4\\u0987\", \"\\u09e7\\u09ef\\u09ed\\u09e9\", \"\\u09e7\\u09ef\\u09ec\\u09e6\\u09e6\", \"\\u098f\\u0995\\u09ae\\u09a4\", \"\\u09e7\\u09ee\\u09e9\\u09e9\", \"\\u09b8\\u09b9\\u099c\", \"\\u09e7\\u09ef\\u09ee\", \"\\u09e7\\u09ee\\u09eb\\u09e9\", \"\\u09a6\\u09b2\\u0987\", \"\\u09e7\\u09ef\\u09ec\\u09eb\", \"\\u09b8\\u09ab\\u09b2\", \"\\u098f\\u09a8\\u098f\\u09ab\\u098f\\u09b2\", \"\\u0987\\u0993\\u09a8\", \"\\u09e7\\u09ef\\u09ed\\u09ea\", \"\\u09a6\\u0996\\u09b2\", \"\\u099c\\u09a8\\u0995\", \"\\u09e7\\u09ef\\u09ef\\u09e9\", \"\\u09ac\\u09b8\\u09a4\", \"\\u0989\\u0987\\u09b2\", \"\\u0986\\u0997\\u09a4\", \"\\u0986\\u0987\\u09a8\", \"\\u09a7\\u09b0\\u09a3\", \"\\u098f\\u09ae\\u098f\\u09b8\", \"\\u0995\\u09b2\\u09b8\", \"\\u09e7\\u09e6\\u09ee\\u09e6\", \"\\u0993\\u0987\\u0989\", \"\\u09e7\\u09ee\\u09eb\\u09e6\", \"\\u098f\\u09b2\\u098f\\u09b2\\u098f\\u09ae\", \"\\u09e7\\u09ee\\u09ea\\u09ed\\u09ea\", \"\\u098f\\u0995\\u09b0\\u0995\\u09ae\", \"\\u09a8\\u09b0\\u0989\\u0987\\u099a\", \"\\u09e7\\u09e9\\u09eb\\u09e6\", \"\\u09e7\\u09ea\\u09e6\\u09e6\", \"\\u098f\\u09a8\\u098f\\u0986\\u09b0\\u098f\", \"\\u0993\\u098f\\u09ab\\u0986\\u09b0\", \"\\u098f\\u098f\\u0987\\u099a\\u0986\\u09b0\\u098f\", \"\\u09ae\\u099f\\u09b0\", \"\\u09a8\\u09b0\\u0989\\u09a1\", \"\\u0986\\u0987\\u09b2\", \"\\u09b9\\u099c\\u09b8\\u09a8\", \"\\u09e7\\u09ee\\u09ec\\u09e9\\u09ec\\u09e9\", \"\\u09e7\\u09ee\\u09e6\\u09e9\", \"\\u0993\\u0989\\u0989\", \"\\u09a8\\u0995\\u09b2\\u09b8\", \"\\u09e7\\u09ea\\u09ee\\u09ee\", \"\\u09eb\\u09e7\\u09e6\", \"\\u09e7\\u09ef\\u09ea\\u09ed\", \"\\u09ef\\u09ee\\u09ef\", \"\\u09ea\\u09ed\\u09ea\", \"\\u09e7\\u09e6\\u09ef\\u09e6\", \"\\u09b9\\u09a1\\u09b8\\u09a8\", \"\\u0989\\u0987\\u09b2\", \"\\u0986\\u099a\\u09b0\\u09a3\\u0997\\u09a4\", \"\\u09e8\\u09ea\\u09e6\", \"\\u09e7\\u09ef\\u09ea\", \"\\u09a1\\u09b8\\u09a8\", \"\\u09e7\\u09ee\\u09e6\\u09ec\", \"\\u09ed\\u09e8\\u09e6\", \"\\u09e9\\u09e6\\u09eb\", \"\\u0986\\u09b2\\u09ac\", \"\\u099c\\u09a8\\u0995\", \"\\u09b8\\u0995\\u09b2\", \"\\u09b8\\u099f\\u09a8\", \"\\u09ac\\u09b9\\u09b0\", \"\\u09e7\\u09ee\\u09e7\\u09ee\", \"\\u09e7\\u09ef\\u09eb\\u09ec\", \"\\u09b8\\u09ae\\u09a8\", \"\\u09e7\\u09ef\\u09ee\\u09ec\", \"\\u09ed\\u09ea\\u09ea\", \"\\u099f\\u09b0\\u09b0\", \"\\u0995\\u09ac\\u09b0\", \"\\u0986\\u09ac\\u09a6\", \"\\u0985\\u09aa\\u09b0\", \"\\u09e7\\u09ee\\u09e7\\u09e8\", \"\\u0995\\u09ae\\u0987\", \"\\u09e7\\u09ee\\u09ef\\u09e6\", \"\\u09b9\\u09e9\\u09ef\", \"\\u0986\\u09b0\\u09ac\", \"\\u09b8\\u09b0\\u09b2\", \"\\u09e7\\u09eb\\u09ee\\u09e8\", \"\\u0986\\u0987\\u098f\\u09ae\\u098f\\u09ab\", \"\\u09e9\\u09ec\\u09e6\\u09e6\", \"\\u09e7\\u09ea\\u09ef\\u09ee\", \"\\u099f\\u09aa\\u09b6\\u09aa\", \"\\u098f\\u09a8\\u098f\\u0987\\u099a\\u098f\\u09b2\", \"\\u099f\\u099f\\u09b2\", \"\\u09e7\\u09e9\\u09ed\\u09e9\\u09ed\\u09e9\\u09ed\", \"\\u09e7\\u09ec\\u09e9\\u09ee\", \"\\u098f\\u098f\\u09b8\\u098f\\u09b8\\u0986\\u09b0\", \"\\u09e7\\u09ec\\u09ed\\u09ee\", \"\\u0986\\u09b0\\u0986\\u0987\", \"\\u098f\\u09b8\\u098f\\u09b8\\u0986\\u09b0\", \"\\u09e8\\u09e7\\u09eb\", \"\\u09a8\\u09b0\\u09ae\\u09a8\", \"\\u0986\\u09b0\\u098f\\u09b8\\u098f\\u09ab\\u098f\\u09b8\\u0986\\u09b0\", \"\\u09e9\\u09ef\\u09ef\", \"\\u09e7\\u09ea\\u09ec\\u09ef\", \"\\u09ab\\u0996\\u09b0\", \"\\u0998\\u099f\\u09b2\", \"\\u09e9\\u09ea\\u09e8\", \"\\u09eb\\u09ee\\u09e6\", \"\\u09a6\\u09ae\\u0995\\u09b2\", \"\\u098f\\u09a8\\u0986\\u09b0\\u098f\", \"\\u09e8\\u09ee\\u09e6\\u09e6\", \"\\u0986\\u0987\\u098f\\u09b2\\u0993\", \"\\u09ae\\u09a8\\u09b8\", \"\\u09e7\\u09ee\\u09e8\\u09ea\", \"\\u09e7\\u09ea\\u09ef\\u09e8\", \"\\u09b6\\u09b0\\u09a4\", \"\\u09e7\\u09ec\\u09ea\\u09e6\", \"\\u09e8\\u09e6\\u09e6\\u09ea\", \"\\u09e7\\u09ef\\u09ea\\u09e9\", \"\\u09e8\\u09ef\\u09e6\", \"\\u09a1\\u099c\\u09a8\", \"\\u09e7\\u09ef\\u09e9\\u09e9\", \"\\u09e8\\u09e6\\u09e6\\u09e7\", \"\\u09e7\\u09ef\\u09ef\\u09ed\", \"\\u09e7\\u09ef\\u09e9\\u09ef\", \"\\u09e8\\u09e6\\u09e6\\u09e8\", \"\\u09e7\\u09ef\\u09e9\\u09ee\", \"\\u09e7\\u09ef\\u09ef\", \"\\u09e7\\u09ef\\u09ef\\u09ee\", \"\\u09e9\\u09ec\\u09e6\", \"\\u09e7\\u09ef\\u09ef\\u09ea\", \"\\u098f\\u0995\\u09b0\", \"\\u09ea\\u09e6\\u09e6\", \"\\u09e8\\u09e6\\u09e7\\u09e6\", \"\\u09e8\\u09e6\\u09e7\\u09e9\", \"\\u0997\\u09a0\\u09a8\", \"\\u09e7\\u09ef\\u09e7\\u09ee\", \"\\u09e7\\u09ee\\u09ea\\u09ee\", \"\\u09e7\\u09ee\\u09ed\\u09e7\", \"\\u09e7\\u09ee\\u09ee\\u09ee\\u09ee\", \"\\u09e7\\u09ed\\u09eb\", \"\\u0985\\u09ac\\u09a4\\u09b0\\u09a3\", \"\\u098f\\u0995\\u09ac\\u099a\\u09a8\", \"\\u09e7\\u09e9\\u09ee\\u09e9\\u09ee\", \"\\u09e7\\u09ef\\u09eb\\u09ef\\u09ef\", \"\\u09e6\\u09ef\\u09e9\", \"\\u09e7\\u09ee\\u09e7\\u09e7\", \"\\u09e7\\u09ef\\u09ec\\u09ec\", \"\\u098f\\u09a8\\u098f\\u098f\", \"\\u09e8\\u09e8\\u09e8\\u09ec\", \"\\u09ef\\u09eb\\u09e7\\u09e6\", \"\\u09ef\\u09e7\\u09ee\\u09ef\", \"\\u09ef\\u09e7\\u09ec\\u09ef\", \"\\u09ee\\u09ef\\u09ef\\u09ea\", \"\\u09ee\\u09ef\\u09e8\\u09e8\", \"\\u09ee\\u09ef\\u09e7\\u09eb\", \"\\u09ee\\u09e6\\u09ef\", \"\\u0995\\u0995\\u0995\\u09b8\", \"\\u09e9\\u09ef\\u09e6\", \"\\u09e9\\u09e8\\u09ec\", \"\\u09e7\\u09eb\\u09e8\\u09ef\", \"\\u09e7\\u09eb\\u09e9\\u09e7\", \"\\u09e7\\u09ea\\u09ee\\u09ea\\u09ea\", \"\\u09ec\\u09ed\\u09ec\\u09ed\\u09ec\\u09ed\", \"\\u09e9\\u09e6\\u09ef\", \"\\u098f\\u0995\\u0995\", \"\\u098f\\u0995\\u09b0\", \"\\u0995\\u09b2\\u09ae\", \"\\u0986\\u09b8\\u09b2\", \"\\u0986\\u099f\\u0995\", \"\\u09e7\\u09e7\\u09e6\", \"\\u09e7\\u09ef\\u09e7\", \"\\u09e7\\u09ee\\u09ea\\u09ea\", \"\\u09e7\\u09e7\\u09ee\", \"\\u09e7\\u09ee\\u09ea\\u09eb\", \"\\u09e8\\u09e6\\u09e7\\u09e8\", \"\\u09e7\\u09ef\\u09e6\\u09ee\", \"\\u09e7\\u09ee\\u09ef\\u09eb\", \"\\u09e7\\u09ee\\u09e7\\u09eb\", \"\\u09e7\\u09ee\\u09e8\\u09e7\", \"\\u09a5\\u09ae\\u09b8\\u09a8\", \"\\u09e7\\u09e9\\u09e7\", \"\\u09e7\\u09ee\\u09ed\\u09ef\", \"\\u09b8\\u09ab\\u09b2\", \"\\u0986\\u09b8\\u09a8\", \"\\u09e7\\u09ef\\u09e7\\u09ed\", \"\\u09e7\\u09ef\\u09e7\\u09ea\", \"\\u09e7\\u09ef\\u09e9\\u09ef\", \"\\u09e7\\u09ee\\u09eb\\u09e9\", \"\\u0986\\u0997\\u09a4\"], \"Freq\": [1165.0, 1007.0, 580.0, 633.0, 608.0, 669.0, 404.0, 321.0, 206.0, 192.0, 313.0, 252.0, 169.0, 335.0, 172.0, 151.0, 144.0, 138.0, 176.0, 138.0, 128.0, 314.0, 107.0, 225.0, 185.0, 149.0, 286.0, 111.0, 232.0, 136.0, 669.1451211270262, 251.89382756296766, 1004.2733109597548, 31.54072374011488, 101.15548359337623, 21.664957973389182, 25.81304859460354, 15.492612587185752, 15.492561351444547, 11.171955432591107, 10.55472680123408, 8.085773106829807, 8.085758531684002, 6.85131162128172, 6.851307471338083, 6.851248932311016, 6.234079949856456, 6.234009951329159, 5.616841627438551, 5.616837329414822, 96.63965452256281, 4.99960867258174, 4.99960867258174, 4.999608672083089, 4.999606910485509, 4.999606910485509, 89.72654335821925, 4.382371503730164, 4.382371625043874, 4.382371625043874, 39.146859108045206, 21.04788265409077, 30.306211679429307, 47.205160565676806, 32.469993681657506, 206.29418617514145, 213.73463012645044, 17.221994706934336, 18.007831537079994, 46.5264386333661, 54.30212625333745, 15.55047098160813, 26.73978262320674, 20.247435015366317, 11.522307768682394, 51.00880094635656, 25.53904717516654, 54.63091531573435, 38.54712567176782, 31.529564891363982, 22.162722012545327, 29.009987145061864, 26.73335330096073, 22.013242844898514, 18.822566949191437, 58.63732709913369, 1149.354557933082, 34.31753423742455, 16.535594289804973, 13.484755588163365, 12.264418392674497, 51.315402759783545, 57.41728421841545, 7.993220020154824, 6.7728741597534095, 6.755721401963937, 6.16268327308921, 5.552547629089896, 5.5525455004488595, 5.552533299885534, 4.942366883656949, 46.37825542254716, 4.332205112619345, 4.3322042318018354, 4.332203636563963, 4.332202346510398, 4.332201836344535, 4.332200972661727, 4.332147757621723, 4.326945471645737, 92.27429593215511, 3.7220374206131424, 3.7220374162479497, 3.7220299206914316, 3.111867352669678, 159.14307401888888, 81.85721298029625, 264.03782015130685, 15.925465714565865, 178.05161190686388, 34.68434790635363, 156.17861423836786, 101.09907880053439, 23.617545180962548, 14.50891716149678, 14.095037637181104, 55.310211406773945, 17.147238113211834, 11.904912884509331, 14.094926399830872, 9.823715320870786, 54.27145149113621, 61.719294300074985, 52.75870038211871, 42.507292487443635, 57.17285449926006, 55.468847380863274, 54.07155901200602, 42.99899915217207, 65.89508518200454, 38.02384127946748, 30.456871126091624, 28.160530399381084, 34.566720448946946, 18.366234448790777, 21.93713614323199, 605.9876607951355, 111.08786007764236, 71.43395862864665, 30.080427905113243, 33.94683681603644, 26.68151746746601, 38.77332559225647, 36.870914404780216, 10.819887001464888, 10.253386165578748, 9.68691464633526, 9.686913927602866, 62.4672877543268, 7.987440447812871, 7.4209766695038795, 6.831376332731821, 6.287989637186387, 5.155028565577426, 5.155015409691104, 5.109342532594631, 4.588542825487907, 4.58854282287957, 4.588487638035078, 49.26844345516276, 4.022056049700672, 4.02205276013475, 4.022047928153777, 4.022040128573895, 4.02203964105763, 33.51549847645711, 43.31691436714184, 18.162630148722542, 110.1733852135309, 40.22537745422713, 238.8340017829697, 30.647116553557634, 23.547982253601916, 19.30034498707452, 55.53672571867224, 21.215002828848586, 11.386405382401627, 56.13650459149706, 17.196495250679053, 37.896650646514104, 15.93481802296703, 23.800494372765964, 34.80286457175232, 18.37479358168674, 17.79460503359364, 18.863997168610318, 37.90515521364775, 30.78557105519432, 25.44449542255929, 23.42509397703832, 25.43429543623095, 25.481434370551895, 21.153518055102754, 404.3577420039604, 20.511277205176427, 14.589386867341135, 14.589386493641383, 14.05103125300238, 12.974302838931205, 12.972298843885364, 10.282558534017623, 9.744206624189827, 9.205849361452483, 9.205842930350514, 9.205816887491306, 8.667492278406545, 8.129141624766639, 7.590791187191573, 7.59078135467579, 7.590777844324418, 6.514084745856028, 6.513716056565219, 48.0365380324981, 5.961557180037963, 5.437376522713033, 5.4373724925487075, 5.437371586770419, 4.899022413623349, 4.899022413623349, 4.899022413623349, 4.899022413623349, 4.899020501572515, 4.899011572373897, 15.557136864710175, 54.58996813768163, 79.14042804153424, 11.86280867679798, 48.173265585227355, 11.282889482230162, 37.92549074991409, 40.850897087000156, 84.56469255525437, 31.794717808965476, 72.64277619544873, 18.875953021465993, 20.43456157456779, 78.94749971572458, 9.744235999958313, 13.512943328768532, 17.069199324030645, 17.393246081819814, 68.56700925458287, 16.437417358160374, 22.353972559574558, 73.23087490761364, 14.051193436199508, 13.388248133362898, 16.773878146204428, 20.950561731330218, 15.94949678107871, 13.751124291812149, 15.360889854354795, 14.95788887834208, 35.22639675662453, 19.771540317256676, 18.17276778217318, 16.573989149147685, 14.975200801500485, 9.6459100386959, 131.51340067538558, 6.981310373007348, 591.7481990353563, 5.915470921407943, 5.915470283751836, 5.895407478098617, 5.382550538078084, 5.382548694242456, 5.382531433587698, 4.316699301782614, 3.783772692759759, 3.7837685753812313, 3.7837637713284535, 3.250847155012792, 3.250846444854875, 3.2508413314229907, 39.917028948856384, 2.7179229712417317, 2.7179229712417317, 2.7179229712417317, 2.7179229712417317, 2.717922970492297, 2.717922970492297, 2.717922970492297, 20.228185213168867, 10.981249754259919, 9.645964384862575, 22.186838189628297, 8.886137150419968, 80.32180349726487, 12.237068578288847, 7.04856519062121, 11.64046156972207, 67.00611411215458, 54.168574700314686, 10.819618489869352, 21.409189975073925, 71.44229794339643, 48.742467513356, 15.10119224196642, 23.130287655248452, 11.635103506567724, 39.35174783636248, 11.869401165405321, 25.317668456981128, 21.94346308830543, 20.243375038174115, 28.218429559203337, 21.59955969462185, 19.18180171595836, 24.67970539471357, 17.181748092929375, 16.551988148620502, 12.461980703093166, 143.68077870144808, 106.67725500398537, 26.34064735448273, 25.366873039190896, 21.471780910964636, 19.037325092646444, 48.659977243797925, 7.352013497714046, 6.378228144127021, 49.59331708720306, 5.404462235707352, 5.404450241851481, 4.9175704790448, 4.9175420807282615, 4.430685257109733, 4.430685252581672, 4.430673722049769, 4.430668972097754, 3.943795165804759, 3.9437948296060488, 3.9437800339566125, 3.943751903266522, 3.456908277224966, 2.9700197865566818, 2.970019785982584, 2.4831312980079683, 2.483131297832195, 2.4831312978319993, 2.4831312976862323, 2.48313129706547, 20.108243713816147, 21.51541300925164, 25.95347988584103, 34.410286835132744, 114.68630558394038, 76.87744686754988, 6.8651093184466205, 37.318216249212085, 11.322184199423916, 37.58250910523315, 29.841994706841135, 21.150415097041865, 13.080444345776025, 11.941625713252746, 11.56018361278315, 10.549730459813945, 20.89314368506384, 25.28811979264644, 26.336737305914422, 21.110731632521784, 17.74916579929962, 12.658341704385917, 15.632974438165308, 11.287373510505136, 151.14045085341562, 72.24735578992153, 66.03149567095645, 56.94678602703134, 47.38392158762393, 46.90578306374876, 46.427646339070485, 32.56150926950303, 12.47951457334421, 16.11988225924278, 8.654375742729309, 7.6980883442996895, 6.263641412556248, 27.474768392074026, 5.785520820458641, 5.7855172409709805, 127.9359611961964, 5.307377241860656, 4.829239204055954, 4.8292264374519815, 3.8729524029512064, 3.8729491856332188, 3.872947963251504, 3.8729453849743107, 112.74122797436223, 3.394812669862323, 3.394810458036508, 3.394808609856169, 3.394802502860992, 2.916670649270362, 13.435949126045225, 12.370581306297018, 9.132609757775636, 9.61071331501219, 45.152744048080294, 10.56698714927708, 18.43729408212133, 5.765987875826935, 8.654493264587295, 42.102321290175524, 10.442279081288058, 9.415404571555545, 11.689919889159283, 24.20163848162407, 15.16308390125806, 9.757997587979698, 10.94996470813124, 9.622775313120496, 8.755812868347409, 579.9915446455175, 205.91789136525222, 24.665378051733814, 9.515815547276999, 9.515810860604864, 5.254994995908471, 4.781564528314628, 4.308157056756108, 4.308151312551558, 4.308149186305517, 3.8347332043876823, 3.834732391749658, 3.8347263471839192, 3.3613093520481696, 3.3613093520481696, 2.8878854992287066, 2.8878854978230097, 2.8878724693850666, 35.55418194755635, 2.414461646168976, 2.4144616461689323, 2.414461645334448, 2.4144616453344474, 2.414461644528121, 2.4144616420693494, 2.414457655879922, 2.414455477862739, 2.4144520996505774, 2.4144531542869196, 2.41444695232472, 8.095569849421512, 77.67619334530848, 5.255011456589482, 7.148795547461899, 6.675244431347618, 10.936222160993687, 6.67538861461583, 6.201887286632908, 4.781617522338335, 25.825562102200696, 38.331442773701774, 16.098226879309312, 6.67529502310082, 9.515927817263394, 5.728477934715798, 5.7284602615216045, 22.896754591412268, 8.865160094852298, 4.781611664215987, 5.255032560825895, 5.602888659324773, 9.437668418360436, 10.240598985616867, 5.1761587384648, 6.167617959006195, 5.267026515947647, 192.09400517123572, 168.70413561018503, 28.380068550370467, 11.738827807171683, 11.289057422759697, 7.690939363601207, 4.542612285416488, 4.542600264523353, 4.5425996685690215, 23.987003337464603, 4.092848692372084, 4.092848692372084, 3.643084359892412, 3.193308331325992, 3.193300688892581, 12.586534791790061, 2.743557326853246, 2.743551504716702, 9.939804113888538, 4.992408326314924, 2.2937943222702466, 2.293794320825704, 2.293786427667938, 2.29378566661858, 2.2937859538336176, 2.2937750521986904, 2.293774951035922, 2.293766676480351, 2.293741470581047, 19.834740307376187, 11.18999751613802, 6.791472286172354, 18.837999734740396, 4.022153957213357, 79.1077735168268, 11.858167908830518, 5.4421501550244455, 15.803369095671586, 18.48567296831192, 30.7636588748106, 15.995717652722886, 14.437543180774382, 28.197423625612334, 10.389642217248374, 21.70416863996677, 9.314613588471042, 5.914426670594043, 8.250957402135707, 7.69091488316154, 6.827027515393404, 6.9944721909023295, 6.226223186273409, 318.7675802558626, 40.81866033879572, 12.590599396839574, 8.558023153761853, 5.869626304074184, 4.525439784041561, 29.901372272011063, 3.629308652238329, 3.181255274866373, 3.181252382590585, 3.1812526534602714, 3.1812481880321135, 10.267920186374916, 2.733190240256166, 2.285128349706727, 2.2851283497063046, 2.2851283497063046, 2.2851283497063046, 2.285128349706304, 2.285128349706304, 2.2851283497063046, 2.2851283493227554, 2.285128348296304, 2.2851277467479822, 2.2851277467479822, 2.2851271409243106, 2.28512714092431, 2.28512714092431, 2.285126300153666, 2.2851250526252613, 142.35911417332653, 21.551926781232655, 34.77971368086905, 29.804905375983537, 10.350460573236028, 9.365897027736413, 8.558090599471946, 6.727739906510195, 4.973573759305124, 6.317723199243047, 45.04609006602005, 7.213838014856332, 4.973529314185311, 8.686903932333578, 6.317749365430103, 5.8696469918654435, 4.077385143764462, 4.973542776589648, 13.099429892937634, 10.485394217145293, 4.973539228489158, 6.875776137083834, 5.266511187099586, 4.973612899692891, 4.973602850788496], \"Total\": [1165.0, 1007.0, 580.0, 633.0, 608.0, 669.0, 404.0, 321.0, 206.0, 192.0, 313.0, 252.0, 169.0, 335.0, 172.0, 151.0, 144.0, 138.0, 176.0, 138.0, 128.0, 314.0, 107.0, 225.0, 185.0, 149.0, 286.0, 111.0, 232.0, 136.0, 669.6035725647599, 252.3522802158349, 1007.4851827604064, 31.999159748694655, 102.69263596156534, 22.12339064378262, 26.429850744058534, 15.951036516666745, 15.951029464836123, 11.630385768412625, 11.013150838706329, 8.544205893439218, 8.544204314050688, 7.309737095462664, 7.309736262658853, 7.309726785235558, 6.69250195794093, 6.692487175866852, 6.075265591047956, 6.075265426916634, 105.37521982374231, 5.458030680511071, 5.458030680511071, 5.458030680417199, 5.458030439840979, 5.458030439840979, 98.03583056320304, 4.8407948326841534, 4.840795025623985, 4.840795025623985, 44.40746513684856, 23.896905365389784, 34.79725813994925, 55.771480122774236, 38.039814643837865, 286.80714657050936, 314.1922462641008, 22.286624588279672, 23.739649966249075, 72.90085012096506, 88.09235258582858, 21.619966353750378, 47.845178195132085, 35.13118735853455, 15.684115959120675, 184.5041321373085, 66.67086195088994, 335.5666612488939, 232.60746587655444, 164.54758692726207, 67.6872935916783, 225.62694018327312, 184.52361725816343, 147.08976765268253, 184.20452814729921, 59.09646904079579, 1165.5145327728935, 35.23812472974047, 16.99473426818811, 13.943886995877037, 12.723546957524595, 53.56671786619971, 60.24331540269824, 8.452354765571503, 7.232014648954077, 7.229843341487543, 6.621839754167413, 6.011676194607349, 6.011675925123092, 6.011674044262773, 5.401504647044671, 51.18430831892674, 4.791335837910379, 4.7913360935142055, 4.791336100419591, 4.791334703647934, 4.791336121416662, 4.79133558907124, 4.791323887996061, 4.789939752563161, 102.79124480487458, 4.181165986498459, 4.1811659857197, 4.181164305698043, 3.5709959174051553, 185.2247002652623, 96.1342827109955, 335.5666612488939, 18.63339523328192, 225.62694018327312, 43.67372780835472, 232.60746587655444, 153.5249948865294, 30.988217520162593, 18.336947226312866, 18.257468995425924, 86.421858748826, 23.25986600500769, 15.572242287112582, 19.350392011352234, 12.436280333022736, 149.03035984694247, 184.5041321373085, 147.08976765268253, 112.51229409580448, 184.20452814729921, 176.7468697385669, 184.52361725816343, 126.43017621509809, 314.1922462641008, 140.42094125407883, 104.4589951426185, 91.75174810442351, 286.80714657050936, 33.97302649834567, 172.42835735947722, 608.2457469636093, 111.551514231322, 71.89747766576507, 30.543942396807275, 34.504434700891096, 27.14502214239651, 39.63633100386711, 38.28742266570586, 11.283393109153685, 10.716906917739927, 10.15041947273474, 10.150419746122722, 66.06863643764764, 8.450957383277704, 7.8844735647120165, 7.319763358528563, 6.751498892144428, 5.618526581735611, 5.6185268928341765, 5.622616739307753, 5.052039720847612, 5.0520397205592, 5.052039754518349, 54.55661982695345, 4.485552951302394, 4.485552438030904, 4.485552548150204, 4.48554962241411, 4.485552349837379, 37.57903015032718, 51.253386312975536, 21.090064850313905, 136.56692029472904, 48.86104989484804, 313.72440780544315, 37.69094355097992, 29.36796597880891, 24.985649278057103, 82.38271228608073, 28.798246716160868, 14.318813594189386, 98.11667658302139, 23.644304480396066, 66.67086195088994, 22.11215708784671, 39.72862720984857, 71.65993573949821, 27.88318253481758, 26.648681949370822, 30.238518831121514, 124.08061073140868, 140.42094125407883, 86.01007514966402, 108.79661467657905, 185.2247002652623, 633.4577144727456, 164.54758692726207, 404.82408219961724, 20.97760225484073, 15.055706668281864, 15.05570642032252, 14.517353477814638, 13.440642592810645, 13.440912381668038, 10.748874276290238, 10.210519240434962, 9.67216585338112, 9.672164311163009, 9.67216576858689, 9.13381193614636, 8.595456592680307, 8.057103391996398, 8.057103701269455, 8.057102372443415, 6.980394908201148, 6.980412193921235, 51.79142733756987, 6.441897680429799, 5.903686685270672, 5.903686722324331, 5.903685991725399, 5.3653325739532045, 5.3653325739532045, 5.3653325739532045, 5.3653325739532045, 5.365332253301463, 5.365333476427397, 17.076517207087473, 60.973948871208485, 93.13600048300826, 13.31632950696859, 57.55874174466988, 12.708906961694709, 45.23775800274431, 49.4946369404643, 108.79661467657905, 38.65892392843416, 106.007208213802, 23.68615651802015, 27.26880910627399, 164.54758692726207, 11.110052993896499, 17.005734340715694, 24.22973039050346, 24.99700138940422, 184.20452814729921, 24.202003536300257, 39.56460348209888, 313.72440780544315, 19.217744105249505, 17.551142772163573, 30.75577404853696, 98.11667658302139, 86.421858748826, 22.48956966593223, 147.08976765268253, 149.03035984694247, 35.693266018319164, 20.238409780828906, 18.63963332973766, 17.04085318145414, 15.442078203978454, 10.112815826307163, 138.969784959621, 7.448184467035389, 633.4577144727456, 6.382331907935229, 6.382333013732487, 6.379200807876285, 5.849406574644684, 5.8494058227370145, 5.849403477080991, 4.7835544273110715, 4.250628464580722, 4.250628857145013, 4.250626585351837, 3.717702127150216, 3.7177023874121398, 3.7177017639286207, 46.69459019616602, 3.1847759353342524, 3.1847759353342524, 3.1847759353342524, 3.1847759353342524, 3.184775935297327, 3.184775935297327, 3.184775935297327, 24.791768905291995, 13.4072528653394, 12.266230981112221, 30.29668521812337, 11.507845979854064, 126.43017621509809, 16.747482147053056, 9.268949407204394, 16.95977980928008, 140.42094125407883, 112.51229409580448, 15.638241931508945, 38.93462166127206, 184.52361725816343, 147.08976765268253, 31.925505621094977, 66.2838814365046, 21.397920016847156, 184.20452814729921, 22.82337264889331, 104.4589951426185, 79.78917765187911, 82.38271228608073, 286.80714657050936, 136.56692029472904, 98.14897059453473, 314.1922462641008, 86.5222585990492, 335.5666612488939, 68.60634243263839, 144.1522518079284, 107.14872548154383, 26.812126795774873, 25.83834927812417, 21.943239275436195, 19.50879829687183, 51.055475876073395, 7.823473365300074, 6.8496976324142, 53.309816165853846, 5.875918959907563, 5.875920676327941, 5.389031011237993, 5.389036615710488, 4.902141980040143, 4.902141980273992, 4.902144521019119, 4.902145448282525, 4.415253362563802, 4.415253436599731, 4.415255884426004, 4.415255813973679, 3.9283650002391926, 3.4414765103761935, 3.4414765104058658, 2.95458802040372, 2.9545880204127983, 2.954588020412838, 2.95458802042026, 2.9545880204526007, 24.06685289149231, 26.245458738474966, 32.14776348668285, 46.2550132495153, 176.7468697385669, 124.08061073140868, 9.128848089048056, 79.78917765187911, 18.127358516210656, 91.75174810442351, 67.6872935916783, 43.36151623310597, 24.762827069724086, 25.112506182897974, 24.79315555653428, 22.6922849964432, 88.09235258582858, 184.5041321373085, 232.60746587655444, 184.52361725816343, 225.62694018327312, 71.65993573949821, 153.5249948865294, 286.80714657050936, 151.61337350497863, 72.71970015142168, 66.50384309846305, 57.41913250271673, 47.85627860959573, 47.37813434438959, 46.89999234270796, 33.03385213571973, 12.951857171040167, 16.830750224826136, 9.126715385788655, 8.170428814049476, 6.736004503987958, 29.586217346970894, 6.257858831821634, 6.257859804833514, 138.6018034160422, 5.779716186359558, 5.301573142468862, 5.301573367195183, 4.34528785903658, 4.345287093163638, 4.345286927750608, 4.345290277875339, 128.11787702993374, 3.86714477073743, 3.867144652217704, 3.8671443810402444, 3.8671477637053453, 3.3890019512665006, 16.377038628996374, 15.111398930380162, 11.025130186842018, 11.681771573774395, 68.60634243263839, 13.703911627704654, 26.820671841955768, 7.156446076443035, 12.177532193072585, 98.14897059453473, 17.149987587557888, 19.088121451523072, 30.08127684114538, 164.54758692726207, 86.5222585990492, 28.172649670357043, 67.6872935916783, 121.37016034924473, 34.43052680807461, 580.4643668608659, 206.4640948486743, 25.13818652091925, 9.988623375603812, 9.988624648596133, 5.727809471986208, 5.25438697787914, 4.780960243044557, 4.780960964886159, 4.7809618687328435, 4.307536390578378, 4.307536492687759, 4.307537451430997, 3.8341125381097334, 3.8341125381097334, 3.3606886856820277, 3.360688685801869, 3.360688932232997, 42.35648667022962, 2.887264833274778, 2.8872648332747697, 2.8872648333459283, 2.8872648333459288, 2.8872648334146342, 2.887264833624373, 2.887265985680036, 2.887266045786268, 2.887264356164004, 2.887265900601805, 2.8872656493685436, 10.480922697681809, 121.37016034924473, 6.684094301722114, 9.774909295222391, 9.396899961311155, 16.970519978282756, 9.588726370137238, 8.806356222577087, 6.474711716121731, 51.09361105197735, 86.5222585990492, 31.39354135296194, 10.495081159871203, 21.929472536257165, 10.163088720917871, 10.230885313940808, 153.5249948865294, 24.26099397977856, 7.520324849522652, 9.794698458290364, 11.794487514528893, 88.09235258582858, 138.6018034160422, 10.081829713304217, 38.93462166127206, 24.985649278057103, 192.56920492716566, 169.18163893419452, 28.85525404132783, 12.213999699213815, 11.764237821250346, 8.16613178580118, 5.017781497931842, 5.017782490194913, 5.017786152002244, 26.71923653869908, 4.568017905290061, 4.568017905290061, 4.118254449402782, 3.6684956257698604, 3.6684965942925074, 14.721886440196725, 3.2187273461359185, 3.21872803503523, 11.759138542978988, 5.954434743879668, 2.768963534409676, 2.7689635346272237, 2.768966405665818, 2.7689661823387386, 2.768966650284245, 2.768964214948075, 2.7689696707192724, 2.7689723264515047, 2.76898149480981, 24.61654483964268, 13.937166680270215, 8.966048858083076, 27.989486168642923, 5.152850175922276, 149.03035984694247, 18.513487594293558, 7.532370531568607, 26.607447582261347, 35.28424052093855, 66.2838814365046, 30.71527605873874, 30.5270642383365, 104.4589951426185, 22.982285289980325, 86.01007514966402, 22.96956028643256, 12.460735606851665, 33.77891496798798, 29.673220850805897, 55.771480122774236, 184.52361725816343, 176.7468697385669, 321.22468881335817, 41.294005427631376, 13.065949978983816, 9.033369684170495, 6.344986174879957, 5.000793027964847, 33.26519384312681, 4.104660679093138, 3.6565969420111175, 3.6565974937103065, 3.6565979318773425, 3.6565978520683733, 11.91893322057763, 3.2085325237640445, 2.760467482866332, 2.760467482866423, 2.760467482866423, 2.760467482866423, 2.7604674828664226, 2.7604674828664226, 2.760467482866423, 2.760467482926244, 2.7604674830861518, 2.760467604355904, 2.760467604355904, 2.7604679201517683, 2.760467920151768, 2.760467920151768, 2.7604682565398977, 2.7604687273996813, 172.42835735947722, 29.673220850805897, 57.07441621216408, 55.16098646282007, 17.193611601073933, 15.314962777583279, 14.1317294084706, 11.112668051735652, 7.88950927547941, 11.096331840333843, 184.5041321373085, 13.951406846494484, 8.49969763986562, 20.0269955344261, 12.626401181667607, 11.728523295184416, 6.919845383856973, 10.653111587145377, 98.14897059453473, 91.75174810442351, 12.770879838969577, 39.56460348209888, 30.5270642383365, 26.820671841955768, 34.43052680807461], \"Category\": [\"Default\", \"Default\", \"Default\", \"Default\", \"Default\", \"Default\", \"Default\", \"Default\", \"Default\", \"Default\", \"Default\", \"Default\", \"Default\", \"Default\", \"Default\", \"Default\", \"Default\", \"Default\", \"Default\", \"Default\", \"Default\", \"Default\", \"Default\", \"Default\", \"Default\", \"Default\", \"Default\", \"Default\", \"Default\", \"Default\", \"Topic1\", \"Topic1\", \"Topic1\", \"Topic1\", \"Topic1\", \"Topic1\", \"Topic1\", \"Topic1\", \"Topic1\", \"Topic1\", \"Topic1\", \"Topic1\", \"Topic1\", \"Topic1\", \"Topic1\", \"Topic1\", \"Topic1\", \"Topic1\", \"Topic1\", \"Topic1\", \"Topic1\", \"Topic1\", \"Topic1\", \"Topic1\", \"Topic1\", \"Topic1\", \"Topic1\", \"Topic1\", \"Topic1\", \"Topic1\", \"Topic1\", \"Topic1\", \"Topic1\", \"Topic1\", \"Topic1\", \"Topic1\", \"Topic1\", \"Topic1\", \"Topic1\", \"Topic1\", \"Topic1\", \"Topic1\", \"Topic1\", \"Topic1\", \"Topic1\", \"Topic1\", \"Topic1\", \"Topic1\", \"Topic1\", \"Topic1\", \"Topic1\", \"Topic1\", \"Topic1\", \"Topic1\", \"Topic1\", \"Topic2\", \"Topic2\", \"Topic2\", \"Topic2\", \"Topic2\", \"Topic2\", \"Topic2\", \"Topic2\", \"Topic2\", \"Topic2\", \"Topic2\", \"Topic2\", \"Topic2\", \"Topic2\", \"Topic2\", \"Topic2\", \"Topic2\", \"Topic2\", \"Topic2\", \"Topic2\", \"Topic2\", \"Topic2\", \"Topic2\", \"Topic2\", \"Topic2\", \"Topic2\", \"Topic2\", \"Topic2\", \"Topic2\", \"Topic2\", \"Topic2\", \"Topic2\", \"Topic2\", \"Topic2\", \"Topic2\", \"Topic2\", \"Topic2\", \"Topic2\", \"Topic2\", \"Topic2\", \"Topic2\", \"Topic2\", \"Topic2\", \"Topic2\", \"Topic2\", \"Topic2\", \"Topic2\", \"Topic2\", \"Topic2\", \"Topic2\", \"Topic2\", \"Topic2\", \"Topic2\", \"Topic2\", \"Topic2\", \"Topic2\", \"Topic2\", \"Topic2\", \"Topic2\", \"Topic2\", \"Topic2\", \"Topic3\", \"Topic3\", \"Topic3\", \"Topic3\", \"Topic3\", \"Topic3\", \"Topic3\", \"Topic3\", \"Topic3\", \"Topic3\", \"Topic3\", \"Topic3\", \"Topic3\", \"Topic3\", \"Topic3\", \"Topic3\", \"Topic3\", \"Topic3\", \"Topic3\", \"Topic3\", \"Topic3\", \"Topic3\", \"Topic3\", \"Topic3\", \"Topic3\", \"Topic3\", \"Topic3\", \"Topic3\", \"Topic3\", \"Topic3\", \"Topic3\", \"Topic3\", \"Topic3\", \"Topic3\", \"Topic3\", \"Topic3\", \"Topic3\", \"Topic3\", \"Topic3\", \"Topic3\", \"Topic3\", \"Topic3\", \"Topic3\", \"Topic3\", \"Topic3\", \"Topic3\", \"Topic3\", \"Topic3\", \"Topic3\", \"Topic3\", \"Topic3\", \"Topic3\", \"Topic3\", \"Topic3\", \"Topic3\", \"Topic3\", \"Topic3\", \"Topic4\", \"Topic4\", \"Topic4\", \"Topic4\", \"Topic4\", \"Topic4\", \"Topic4\", \"Topic4\", \"Topic4\", \"Topic4\", \"Topic4\", \"Topic4\", \"Topic4\", \"Topic4\", \"Topic4\", \"Topic4\", \"Topic4\", \"Topic4\", \"Topic4\", \"Topic4\", \"Topic4\", \"Topic4\", \"Topic4\", \"Topic4\", \"Topic4\", \"Topic4\", \"Topic4\", \"Topic4\", \"Topic4\", \"Topic4\", \"Topic4\", \"Topic4\", \"Topic4\", \"Topic4\", \"Topic4\", \"Topic4\", \"Topic4\", \"Topic4\", \"Topic4\", \"Topic4\", \"Topic4\", \"Topic4\", \"Topic4\", \"Topic4\", \"Topic4\", \"Topic4\", \"Topic4\", \"Topic4\", \"Topic4\", \"Topic4\", \"Topic4\", \"Topic4\", \"Topic4\", \"Topic4\", \"Topic4\", \"Topic4\", \"Topic4\", \"Topic4\", \"Topic4\", \"Topic4\", \"Topic5\", \"Topic5\", \"Topic5\", \"Topic5\", \"Topic5\", \"Topic5\", \"Topic5\", \"Topic5\", \"Topic5\", \"Topic5\", \"Topic5\", \"Topic5\", \"Topic5\", \"Topic5\", \"Topic5\", \"Topic5\", \"Topic5\", \"Topic5\", \"Topic5\", \"Topic5\", \"Topic5\", \"Topic5\", \"Topic5\", \"Topic5\", \"Topic5\", \"Topic5\", \"Topic5\", \"Topic5\", \"Topic5\", \"Topic5\", \"Topic5\", \"Topic5\", \"Topic5\", \"Topic5\", \"Topic5\", \"Topic5\", \"Topic5\", \"Topic5\", \"Topic5\", \"Topic5\", \"Topic5\", \"Topic5\", \"Topic5\", \"Topic5\", \"Topic5\", \"Topic5\", \"Topic5\", \"Topic5\", \"Topic5\", \"Topic5\", \"Topic5\", \"Topic5\", \"Topic5\", \"Topic5\", \"Topic5\", \"Topic5\", \"Topic5\", \"Topic5\", \"Topic5\", \"Topic5\", \"Topic6\", \"Topic6\", \"Topic6\", \"Topic6\", \"Topic6\", \"Topic6\", \"Topic6\", \"Topic6\", \"Topic6\", \"Topic6\", \"Topic6\", \"Topic6\", \"Topic6\", \"Topic6\", \"Topic6\", \"Topic6\", \"Topic6\", \"Topic6\", \"Topic6\", \"Topic6\", \"Topic6\", \"Topic6\", \"Topic6\", \"Topic6\", \"Topic6\", \"Topic6\", \"Topic6\", \"Topic6\", \"Topic6\", \"Topic6\", \"Topic6\", \"Topic6\", \"Topic6\", \"Topic6\", \"Topic6\", \"Topic6\", \"Topic6\", \"Topic6\", \"Topic6\", \"Topic6\", \"Topic6\", \"Topic6\", \"Topic6\", \"Topic6\", \"Topic6\", \"Topic6\", \"Topic6\", \"Topic6\", \"Topic6\", \"Topic6\", \"Topic6\", \"Topic6\", \"Topic6\", \"Topic6\", \"Topic7\", \"Topic7\", \"Topic7\", \"Topic7\", \"Topic7\", \"Topic7\", \"Topic7\", \"Topic7\", \"Topic7\", \"Topic7\", \"Topic7\", \"Topic7\", \"Topic7\", \"Topic7\", \"Topic7\", \"Topic7\", \"Topic7\", \"Topic7\", \"Topic7\", \"Topic7\", \"Topic7\", \"Topic7\", \"Topic7\", \"Topic7\", \"Topic7\", \"Topic7\", \"Topic7\", \"Topic7\", \"Topic7\", \"Topic7\", \"Topic7\", \"Topic7\", \"Topic7\", \"Topic7\", \"Topic7\", \"Topic7\", \"Topic7\", \"Topic7\", \"Topic7\", \"Topic7\", \"Topic7\", \"Topic7\", \"Topic7\", \"Topic7\", \"Topic7\", \"Topic7\", \"Topic7\", \"Topic7\", \"Topic7\", \"Topic8\", \"Topic8\", \"Topic8\", \"Topic8\", \"Topic8\", \"Topic8\", \"Topic8\", \"Topic8\", \"Topic8\", \"Topic8\", \"Topic8\", \"Topic8\", \"Topic8\", \"Topic8\", \"Topic8\", \"Topic8\", \"Topic8\", \"Topic8\", \"Topic8\", \"Topic8\", \"Topic8\", \"Topic8\", \"Topic8\", \"Topic8\", \"Topic8\", \"Topic8\", \"Topic8\", \"Topic8\", \"Topic8\", \"Topic8\", \"Topic8\", \"Topic8\", \"Topic8\", \"Topic8\", \"Topic8\", \"Topic8\", \"Topic8\", \"Topic8\", \"Topic8\", \"Topic8\", \"Topic8\", \"Topic8\", \"Topic8\", \"Topic8\", \"Topic8\", \"Topic8\", \"Topic8\", \"Topic8\", \"Topic8\", \"Topic8\", \"Topic8\", \"Topic8\", \"Topic8\", \"Topic8\", \"Topic8\", \"Topic8\", \"Topic9\", \"Topic9\", \"Topic9\", \"Topic9\", \"Topic9\", \"Topic9\", \"Topic9\", \"Topic9\", \"Topic9\", \"Topic9\", \"Topic9\", \"Topic9\", \"Topic9\", \"Topic9\", \"Topic9\", \"Topic9\", \"Topic9\", \"Topic9\", \"Topic9\", \"Topic9\", \"Topic9\", \"Topic9\", \"Topic9\", \"Topic9\", \"Topic9\", \"Topic9\", \"Topic9\", \"Topic9\", \"Topic9\", \"Topic9\", \"Topic9\", \"Topic9\", \"Topic9\", \"Topic9\", \"Topic9\", \"Topic9\", \"Topic9\", \"Topic9\", \"Topic9\", \"Topic9\", \"Topic9\", \"Topic9\", \"Topic9\", \"Topic9\", \"Topic9\", \"Topic9\", \"Topic9\", \"Topic9\", \"Topic9\", \"Topic9\", \"Topic9\", \"Topic9\", \"Topic10\", \"Topic10\", \"Topic10\", \"Topic10\", \"Topic10\", \"Topic10\", \"Topic10\", \"Topic10\", \"Topic10\", \"Topic10\", \"Topic10\", \"Topic10\", \"Topic10\", \"Topic10\", \"Topic10\", \"Topic10\", \"Topic10\", \"Topic10\", \"Topic10\", \"Topic10\", \"Topic10\", \"Topic10\", \"Topic10\", \"Topic10\", \"Topic10\", \"Topic10\", \"Topic10\", \"Topic10\", \"Topic10\", \"Topic10\", \"Topic10\", \"Topic10\", \"Topic10\", \"Topic10\", \"Topic10\", \"Topic10\", \"Topic10\", \"Topic10\", \"Topic10\", \"Topic10\", \"Topic10\", \"Topic10\", \"Topic10\", \"Topic10\", \"Topic10\", \"Topic10\", \"Topic10\", \"Topic10\", \"Topic10\", \"Topic10\", \"Topic10\", \"Topic10\", \"Topic10\", \"Topic10\", \"Topic10\"], \"logprob\": [30.0, 29.0, 28.0, 27.0, 26.0, 25.0, 24.0, 23.0, 22.0, 21.0, 20.0, 19.0, 18.0, 17.0, 16.0, 15.0, 14.0, 13.0, 12.0, 11.0, 10.0, 9.0, 8.0, 7.0, 6.0, 5.0, 4.0, 3.0, 2.0, 1.0, -2.3278, -3.3048, -1.9218, -5.3826, -4.2172, -5.7581, -5.583, -6.0935, -6.0935, -6.4204, -6.4773, -6.7437, -6.7437, -6.9094, -6.9094, -6.9094, -7.0038, -7.0038, -7.1081, -7.1081, -4.2629, -7.2245, -7.2245, -7.2245, -7.2245, -7.2245, -4.3371, -7.3563, -7.3563, -7.3563, -5.1665, -5.787, -5.4225, -4.9793, -5.3535, -3.5045, -3.4691, -5.9877, -5.943, -4.9938, -4.8393, -6.0898, -5.5477, -5.8258, -6.3896, -4.9018, -5.5936, -4.8332, -5.182, -5.3829, -5.7354, -5.4662, -5.5479, -5.7422, -5.8988, -4.7186, -1.7431, -5.2544, -5.9845, -6.1885, -6.2833, -4.852, -4.7397, -6.7114, -6.8771, -6.8796, -6.9715, -7.0758, -7.0758, -7.0758, -7.1922, -4.9532, -7.3239, -7.3239, -7.3239, -7.3239, -7.3239, -7.3239, -7.3239, -7.3252, -4.2652, -7.4757, -7.4757, -7.4757, -7.6548, -3.7202, -4.385, -3.2139, -6.0221, -3.6079, -5.2437, -3.739, -4.1739, -5.628, -6.1152, -6.1442, -4.7771, -5.9482, -6.3131, -6.1442, -6.5052, -4.796, -4.6674, -4.8243, -5.0403, -4.7439, -4.7742, -4.7997, -5.0288, -4.6019, -5.1518, -5.3737, -5.4521, -5.2471, -5.8795, -5.7018, -2.1314, -3.828, -4.2695, -5.1344, -5.0135, -5.2543, -4.8806, -4.9309, -6.1569, -6.2107, -6.2675, -6.2675, -4.4036, -6.4604, -6.534, -6.6168, -6.6996, -6.8983, -6.8983, -6.9072, -7.0147, -7.0147, -7.0147, -4.641, -7.1465, -7.1465, -7.1465, -7.1465, -7.1465, -5.0263, -4.7697, -5.6389, -3.8362, -4.8438, -3.0625, -5.1158, -5.3793, -5.5782, -4.5212, -5.4836, -6.1059, -4.5105, -5.6936, -4.9034, -5.7698, -5.3686, -4.9886, -5.6273, -5.6594, -5.601, -4.9032, -5.1112, -5.3018, -5.3845, -5.3022, -5.3003, -5.4865, -2.4218, -5.4031, -5.7438, -5.7438, -5.7814, -5.8611, -5.8613, -6.0936, -6.1474, -6.2043, -6.2043, -6.2043, -6.2645, -6.3286, -6.3972, -6.3972, -6.3972, -6.5501, -6.5502, -4.5521, -6.6388, -6.7308, -6.7308, -6.7308, -6.8351, -6.8351, -6.8351, -6.8351, -6.8351, -6.8351, -5.6796, -4.4242, -4.0529, -5.9507, -4.5493, -6.0008, -4.7885, -4.7142, -3.9866, -4.9648, -4.1385, -5.4862, -5.4069, -4.0553, -6.1474, -5.8204, -5.5868, -5.568, -4.1963, -5.6245, -5.3171, -4.1305, -5.7814, -5.8297, -5.6043, -5.3819, -5.6547, -5.803, -5.6923, -5.7189, -4.7857, -5.3633, -5.4476, -5.5397, -5.6411, -6.081, -3.4684, -6.4043, -1.9645, -6.57, -6.57, -6.5734, -6.6644, -6.6644, -6.6644, -6.8851, -7.0168, -7.0168, -7.0168, -7.1686, -7.1686, -7.1686, -4.6607, -7.3477, -7.3477, -7.3477, -7.3477, -7.3477, -7.3477, -7.3477, -5.3405, -5.9514, -6.081, -5.248, -6.1631, -3.9615, -5.8431, -6.3947, -5.8931, -4.1428, -4.3554, -5.9662, -5.2837, -4.0787, -4.461, -5.6328, -5.2064, -5.8935, -4.675, -5.8736, -5.116, -5.2591, -5.3397, -5.0076, -5.2749, -5.3936, -5.1416, -5.5037, -5.541, -5.8249, -3.1677, -3.4655, -4.8642, -4.9019, -5.0686, -5.1889, -4.2505, -6.1403, -6.2824, -4.2315, -6.4481, -6.4481, -6.5425, -6.5425, -6.6468, -6.6468, -6.6468, -6.6468, -6.7632, -6.7632, -6.7632, -6.7632, -6.8949, -7.0467, -7.0467, -7.2258, -7.2258, -7.2258, -7.2258, -7.2258, -5.1342, -5.0665, -4.879, -4.597, -3.3931, -3.7931, -6.2089, -4.5158, -5.7085, -4.5088, -4.7394, -5.0836, -5.5642, -5.6553, -5.6877, -5.7792, -5.0959, -4.905, -4.8643, -5.0855, -5.259, -5.597, -5.3859, -5.7116, -3.0937, -3.8318, -3.9217, -4.0698, -4.2536, -4.2637, -4.274, -4.6287, -5.5878, -5.3318, -5.9538, -6.0709, -6.2771, -4.7986, -6.3565, -6.3565, -3.2603, -6.4428, -6.5372, -6.5372, -6.7579, -6.7579, -6.7579, -6.7579, -3.3868, -6.8896, -6.8896, -6.8896, -6.8896, -7.0414, -5.5139, -5.5966, -5.9, -5.849, -4.3018, -5.7541, -5.1975, -6.3599, -5.9538, -4.3718, -5.766, -5.8695, -5.6531, -4.9255, -5.393, -5.8338, -5.7185, -5.8477, -5.9422, -1.7301, -2.7656, -4.8877, -5.8401, -5.8401, -6.4339, -6.5283, -6.6326, -6.6326, -6.6326, -6.749, -6.749, -6.749, -6.8807, -6.8807, -7.0326, -7.0326, -7.0326, -4.522, -7.2116, -7.2116, -7.2116, -7.2116, -7.2116, -7.2116, -7.2116, -7.2116, -7.2116, -7.2116, -7.2116, -6.0018, -3.7405, -6.4339, -6.1261, -6.1947, -5.701, -6.1947, -6.2682, -6.5283, -4.8417, -4.4468, -5.3144, -6.1947, -5.8401, -6.3476, -6.3476, -4.9621, -5.911, -6.5283, -6.4339, -6.3698, -5.8484, -5.7667, -6.449, -6.2738, -6.4316, -2.7037, -2.8335, -4.616, -5.4988, -5.5379, -5.9217, -6.4482, -6.4482, -6.4482, -4.7842, -6.5525, -6.5525, -6.6689, -6.8006, -6.8006, -5.4291, -6.9524, -6.9524, -5.6651, -6.3538, -7.1315, -7.1315, -7.1315, -7.1315, -7.1315, -7.1315, -7.1315, -7.1315, -7.1315, -4.9743, -5.5467, -6.046, -5.0258, -6.5699, -3.5909, -5.4887, -6.2675, -5.2015, -5.0447, -4.5354, -5.1894, -5.2919, -4.6225, -5.6209, -4.8842, -5.7301, -6.1843, -5.8514, -5.9217, -6.0408, -6.0166, -6.1329, -2.1838, -4.2392, -5.4153, -5.8014, -6.1785, -6.4386, -4.5504, -6.6592, -6.791, -6.791, -6.791, -6.791, -5.6193, -6.9428, -7.1219, -7.1219, -7.1219, -7.1219, -7.1219, -7.1219, -7.1219, -7.1219, -7.1219, -7.1219, -7.1219, -7.1219, -7.1219, -7.1219, -7.1219, -7.1219, -2.9899, -4.8778, -4.3993, -4.5536, -5.6113, -5.7112, -5.8014, -6.0421, -6.3442, -6.1049, -4.1406, -5.9723, -6.3442, -5.7865, -6.1049, -6.1785, -6.5428, -6.3442, -5.3757, -5.5983, -6.3442, -6.0203, -6.2869, -6.3441, -6.3441], \"loglift\": [30.0, 29.0, 28.0, 27.0, 26.0, 25.0, 24.0, 23.0, 22.0, 21.0, 20.0, 19.0, 18.0, 17.0, 16.0, 15.0, 14.0, 13.0, 12.0, 11.0, 10.0, 9.0, 8.0, 7.0, 6.0, 5.0, 4.0, 3.0, 2.0, 1.0, 1.8351, 1.834, 1.8326, 1.8214, 1.8207, 1.8149, 1.8122, 1.8067, 1.8067, 1.7956, 1.7933, 1.7807, 1.7807, 1.7711, 1.7711, 1.7711, 1.7649, 1.7649, 1.7574, 1.7574, 1.7493, 1.7481, 1.7481, 1.7481, 1.7481, 1.7481, 1.7473, 1.7363, 1.7363, 1.7363, 1.7097, 1.7089, 1.6976, 1.6691, 1.6775, 1.5063, 1.4506, 1.578, 1.5595, 1.3868, 1.352, 1.5063, 1.254, 1.2848, 1.5275, 0.5502, 0.8763, 0.0206, 0.0384, 0.1836, 0.7193, -0.2154, -0.096, -0.0636, -0.4452, 1.8719, 1.8657, 1.8532, 1.8523, 1.8462, 1.8429, 1.8367, 1.8316, 1.8238, 1.8141, 1.8118, 1.8078, 1.8002, 1.8002, 1.8002, 1.7908, 1.7811, 1.7789, 1.7789, 1.7789, 1.7789, 1.7789, 1.7789, 1.7789, 1.778, 1.7717, 1.7633, 1.7633, 1.7633, 1.742, 1.7279, 1.7189, 1.6399, 1.7226, 1.6429, 1.6492, 1.4813, 1.4619, 1.608, 1.6455, 1.6209, 1.4334, 1.5748, 1.6111, 1.5628, 1.6438, 0.8695, 0.7846, 0.8543, 0.9063, 0.7097, 0.7208, 0.6522, 0.8011, 0.3177, 0.5732, 0.6472, 0.6985, -0.2363, 1.2646, -0.1821, 2.1277, 2.1272, 2.1249, 2.1161, 2.1151, 2.1142, 2.1094, 2.0937, 2.0894, 2.0872, 2.0846, 2.0846, 2.0753, 2.075, 2.0708, 2.0623, 2.0603, 2.0453, 2.0453, 2.0357, 2.0352, 2.0352, 2.0351, 2.0294, 2.0223, 2.0223, 2.0223, 2.0223, 2.0223, 2.0169, 1.9631, 1.9819, 1.9166, 1.9369, 1.8586, 1.9245, 1.9105, 1.8732, 1.7371, 1.8258, 1.9022, 1.573, 1.813, 1.5665, 1.8038, 1.619, 1.4092, 1.7143, 1.7275, 1.6595, 0.9455, 0.6138, 0.9134, 0.5957, 0.1459, -1.0819, 0.08, 2.2444, 2.2231, 2.2141, 2.2141, 2.2129, 2.2103, 2.2101, 2.2012, 2.1988, 2.1962, 2.1962, 2.1962, 2.1932, 2.1898, 2.186, 2.186, 2.186, 2.1764, 2.1764, 2.1703, 2.1681, 2.1633, 2.1633, 2.1633, 2.1547, 2.1547, 2.1547, 2.1547, 2.1547, 2.1547, 2.1524, 2.135, 2.0827, 2.13, 2.0676, 2.1266, 2.0693, 2.0536, 1.9936, 2.0501, 1.8676, 2.0186, 1.9571, 1.5112, 2.1144, 2.0157, 1.8953, 1.8829, 1.2573, 1.8587, 1.6747, 0.7907, 1.9325, 1.9748, 1.6393, 0.7016, 0.5558, 1.7537, -0.0136, -0.0533, 2.309, 2.2988, 2.2968, 2.2944, 2.2914, 2.2749, 2.267, 2.2574, 2.254, 2.2462, 2.2462, 2.2433, 2.239, 2.239, 2.2389, 2.2194, 2.2058, 2.2058, 2.2058, 2.1879, 2.1879, 2.1879, 2.1653, 2.1636, 2.1636, 2.1636, 2.1636, 2.1636, 2.1636, 2.1636, 2.1187, 2.1225, 2.0818, 2.0106, 2.0636, 1.8685, 2.0084, 2.0483, 1.9458, 1.5823, 1.5912, 1.9538, 1.7241, 1.3732, 1.2176, 1.5735, 1.2693, 1.7129, 0.7786, 1.6683, 0.9048, 1.0312, 0.9186, 0.0033, 0.478, 0.6896, -0.2219, 0.7056, -0.6872, 0.6164, 2.5311, 2.53, 2.5166, 2.516, 2.5126, 2.5099, 2.4863, 2.4722, 2.4631, 2.4621, 2.4507, 2.4507, 2.4428, 2.4428, 2.4332, 2.4332, 2.4332, 2.4332, 2.4214, 2.4214, 2.4214, 2.4214, 2.4065, 2.387, 2.387, 2.3605, 2.3605, 2.3605, 2.3605, 2.3605, 2.3547, 2.3356, 2.3203, 2.2386, 2.1018, 2.0556, 2.2494, 1.7745, 2.0637, 1.6418, 1.7154, 1.8165, 1.8961, 1.791, 1.7714, 1.7684, 1.0954, 0.547, 0.356, 0.3664, -0.0082, 0.8008, 0.2499, -0.7008, 2.5547, 2.5513, 2.5507, 2.5495, 2.5479, 2.5478, 2.5477, 2.5434, 2.5206, 2.5146, 2.5047, 2.4982, 2.4851, 2.4838, 2.4793, 2.4793, 2.4777, 2.4725, 2.4645, 2.4645, 2.4427, 2.4427, 2.4427, 2.4427, 2.4299, 2.4275, 2.4275, 2.4275, 2.4275, 2.4077, 2.3599, 2.3577, 2.3695, 2.3626, 2.1395, 2.2979, 2.183, 2.3418, 2.2163, 1.7114, 2.0617, 1.8511, 1.6126, 0.641, 0.8163, 1.4975, 0.7362, 0.0231, 1.1886, 2.5758, 2.5739, 2.5576, 2.5281, 2.5281, 2.4904, 2.4823, 2.4725, 2.4725, 2.4725, 2.4603, 2.4603, 2.4603, 2.445, 2.445, 2.425, 2.425, 2.425, 2.4015, 2.3978, 2.3978, 2.3978, 2.3978, 2.3978, 2.3978, 2.3978, 2.3978, 2.3978, 2.3978, 2.3978, 2.3184, 2.1303, 2.336, 2.2637, 2.2346, 2.1372, 2.2144, 2.226, 2.2735, 1.8943, 1.7625, 1.9087, 2.1241, 1.7417, 2.0033, 1.9966, 0.6737, 1.5699, 2.1238, 1.9539, 1.8322, 0.3429, -0.0286, 1.9099, 0.734, 1.0198, 2.7055, 2.7052, 2.6914, 2.6683, 2.6667, 2.648, 2.6085, 2.6085, 2.6085, 2.6001, 2.5981, 2.5981, 2.5854, 2.5693, 2.5693, 2.5513, 2.5482, 2.5482, 2.5399, 2.5318, 2.5197, 2.5197, 2.5197, 2.5197, 2.5197, 2.5197, 2.5197, 2.5197, 2.5197, 2.492, 2.4884, 2.4302, 2.312, 2.4602, 2.0746, 2.2625, 2.3829, 2.187, 2.0615, 1.9404, 2.0555, 1.9592, 1.3984, 1.9141, 1.331, 1.8054, 1.9628, 1.2985, 1.3578, 0.6076, -0.5647, -0.638, 2.7137, 2.7098, 2.6843, 2.6673, 2.6435, 2.6215, 2.6148, 2.5983, 2.5821, 2.5821, 2.5821, 2.5821, 2.5723, 2.561, 2.5324, 2.5324, 2.5324, 2.5324, 2.5324, 2.5324, 2.5324, 2.5324, 2.5324, 2.5324, 2.5324, 2.5324, 2.5324, 2.5324, 2.5324, 2.5324, 2.5298, 2.4016, 2.2261, 2.1058, 2.2139, 2.2296, 2.2198, 2.2195, 2.26, 2.1581, 1.3114, 2.0618, 2.1855, 1.8861, 2.029, 2.0292, 2.1924, 1.9597, 0.7075, 0.5523, 1.7783, 0.9715, 0.9641, 1.0364, 0.7866]}, \"token.table\": {\"Topic\": [7, 8, 4, 10, 6, 7, 7, 7, 9, 9, 1, 10, 1, 4, 6, 10, 8, 1, 6, 8, 2, 4, 2, 3, 6, 7, 9, 10, 1, 2, 3, 6, 7, 7, 7, 8, 1, 5, 10, 6, 1, 1, 6, 7, 8, 3, 3, 9, 4, 6, 3, 3, 4, 4, 2, 6, 9, 10, 9, 7, 1, 4, 6, 8, 9, 1, 1, 2, 6, 10, 2, 5, 6, 10, 1, 7, 7, 6, 1, 1, 5, 6, 9, 7, 7, 10, 2, 2, 3, 7, 10, 4, 8, 9, 1, 4, 5, 7, 1, 1, 2, 5, 1, 2, 4, 7, 8, 2, 6, 1, 3, 4, 2, 7, 1, 5, 6, 2, 4, 4, 9, 4, 2, 5, 8, 4, 10, 7, 3, 9, 2, 5, 7, 10, 1, 2, 4, 5, 1, 10, 7, 8, 9, 10, 8, 6, 4, 9, 8, 9, 1, 10, 5, 7, 9, 2, 2, 8, 2, 8, 8, 5, 4, 9, 10, 4, 5, 9, 8, 8, 8, 1, 6, 3, 10, 1, 8, 5, 6, 8, 9, 4, 1, 2, 3, 4, 3, 1, 7, 9, 10, 8, 7, 1, 6, 7, 4, 7, 4, 10, 5, 7, 9, 1, 4, 7, 1, 2, 5, 1, 5, 7, 8, 9, 1, 3, 6, 1, 3, 5, 6, 5, 6, 7, 8, 9, 9, 1, 3, 8, 1, 9, 10, 4, 6, 8, 7, 5, 4, 10, 1, 3, 4, 5, 7, 1, 5, 9, 3, 7, 10, 6, 3, 5, 1, 2, 4, 6, 7, 8, 2, 8, 2, 9, 1, 2, 4, 5, 6, 2, 4, 6, 9, 10, 2, 4, 10, 8, 8, 7, 9, 1, 3, 4, 6, 3, 7, 7, 1, 2, 5, 4, 6, 2, 9, 7, 7, 2, 10, 1, 2, 5, 2, 5, 6, 7, 1, 5, 6, 7, 2, 3, 4, 6, 8, 10, 1, 3, 7, 8, 4, 9, 2, 3, 5, 6, 2, 2, 4, 5, 3, 4, 6, 2, 9, 1, 3, 4, 2, 5, 6, 7, 8, 9, 7, 8, 1, 5, 1, 3, 6, 7, 2, 3, 5, 7, 10, 6, 2, 4, 6, 8, 9, 2, 3, 5, 7, 9, 2, 8, 7, 8, 5, 9, 1, 10, 1, 2, 4, 5, 6, 2, 4, 1, 3, 8, 8, 1, 3, 10, 3, 7, 2, 10, 1, 2, 6, 5, 5, 5, 5, 7, 6, 8, 10, 1, 1, 8, 9, 10, 1, 5, 6, 8, 3, 1, 6, 1, 9, 4, 5, 10, 8, 3, 9, 9, 1, 4, 5, 6, 6, 3, 7, 6, 10, 2, 10, 5, 6, 9, 2, 4, 3, 9, 3, 9, 4, 9, 5, 7, 1, 10, 5, 1, 6, 4, 3, 1, 5, 6, 2, 3, 4, 8, 2, 8, 10, 2, 7, 8, 3, 3, 5, 10, 3, 8, 6, 10, 3, 6, 10, 4, 9, 1, 3, 4, 4, 7, 5, 7, 4, 4, 4, 4, 9, 10, 7, 10, 2, 8, 10, 1, 3, 10, 8, 4, 5, 4, 7, 10, 5, 10, 5, 5, 5, 1, 3, 6, 2, 4, 8, 3, 10, 4, 2, 4, 10, 2, 3, 4, 4, 4, 10, 3, 8, 3, 2, 10, 3, 3, 4, 6, 10, 1, 4, 10, 3, 4, 6, 7, 4, 4, 3, 4, 6, 4, 7, 6, 8, 10, 4, 7, 3, 10, 6, 4, 4, 6, 8, 1, 4, 6, 10, 2, 10, 4, 10, 5, 3, 8, 4, 1, 3, 3, 4, 2, 3, 5, 1, 5, 9, 5, 6, 3, 4, 6, 9, 3, 9, 10, 8, 9, 2, 3, 5, 3, 7, 9, 1, 4, 2, 6, 9, 1, 4, 10, 4, 5, 7, 9, 10, 1, 2, 5, 7, 8, 1, 3, 9, 1, 5, 9, 3, 3, 5, 4, 8, 9, 2, 5, 5, 10, 3, 7, 10, 4, 7, 7, 2, 2, 7, 3, 4, 10, 5, 7, 3, 3, 3, 7, 5, 2, 3, 8, 1, 7, 3, 4, 5, 7, 4, 1, 3, 5, 7, 3, 3, 5, 7, 2, 9, 10, 2, 4, 2, 3, 5, 1, 2, 8, 1, 3, 4, 3, 7, 2, 3, 5, 6, 7, 2, 3, 4, 5, 6, 9, 2, 3, 5, 3, 4, 4, 7, 9, 3, 4, 6, 7, 2, 3, 4, 8, 9, 10, 1, 3, 4, 2, 3, 2, 3, 9, 1, 5, 9, 2, 5, 9, 1, 2, 5, 2, 3, 4, 5, 1, 5, 9, 2, 3, 4, 5, 8, 9, 10, 1, 2, 4, 5, 9, 2, 4, 9, 1, 2, 4, 5, 9, 10, 1, 2, 3, 5, 9, 2, 5, 1, 2, 4, 5, 1, 5, 2, 6, 1, 2, 5, 6, 9, 10, 1, 2, 6, 9, 1, 2, 5, 6, 10, 2, 6, 9, 1, 2, 4, 6, 6, 4, 6, 2, 1, 9, 2, 2, 5, 10, 6, 6, 2, 4, 8, 7, 2, 1, 2, 7, 4, 9, 4, 9, 2, 1, 2, 5, 6, 9, 2, 8, 10, 5, 10, 4, 9, 3, 2, 9, 9, 4, 10, 6, 6, 9, 1, 5, 9, 6, 1, 2, 2, 8, 6, 1, 6, 8, 1, 2, 5, 1, 4, 9, 1, 2, 6, 1, 6, 10, 5, 1, 2, 10, 1, 5, 8, 3, 8, 6, 5, 1, 9, 10, 10, 10, 10, 1, 2, 6, 10, 10, 2, 10, 7, 8, 5, 7], \"Freq\": [0.9235089071372421, 0.07214913337009704, 0.09018435347611402, 0.9018435347611402, 0.9059502754508573, 0.7757655469377567, 0.9989752289384646, 0.9431162912658744, 0.9350372006361634, 0.722287239459277, 0.8621368924914885, 0.1149515856655318, 0.16887501342638037, 0.8021563137753067, 0.9379135700720376, 0.05627481420432225, 0.9992000079808909, 0.9576281310730854, 0.14165480831102825, 0.8499288498661695, 0.09840268034260714, 0.9020245698072321, 0.2033079551474759, 0.23235194873997247, 0.08713198077748968, 0.26139594233246904, 0.05808798718499312, 0.1452199679624828, 0.025170766528577762, 0.27687843181435534, 0.6040983966858663, 0.050341533057155524, 0.050341533057155524, 0.9924238498861324, 0.14960890060188953, 0.7480445030094477, 0.23264454803376827, 0.17448341102532622, 0.5816113700844207, 0.9986119715295219, 0.9944226160551345, 0.6129930512116551, 0.23838618658231034, 0.03405516951175862, 0.10216550853527585, 0.9851809599456668, 0.9821914804009017, 0.817773690908542, 0.9319086806050448, 0.9570145836903816, 0.9946575050985128, 0.8917519202508633, 0.9305052840771906, 0.9319086806050448, 0.7706019325123826, 0.19265048312809566, 0.8504024307095766, 0.08504024307095766, 0.998926367333129, 0.9920188004525262, 0.17614726801838945, 0.0978595933435497, 0.17614726801838945, 0.5088698853864585, 0.05871575600612982, 0.9363070248743546, 0.16348462356192234, 0.3051712973155884, 0.41416104635686996, 0.10898974904128156, 0.12690128383976926, 0.16315879350827478, 0.16315879350827478, 0.5438626450275826, 0.8787748739388903, 0.08369284513703718, 0.958794250290755, 0.9675540697627324, 0.8263105829217835, 0.2826817786309403, 0.08076622246598295, 0.5249804460288892, 0.12114933369897442, 0.9205374027595179, 0.912587090244043, 0.06759904372178097, 0.8348423303257366, 0.261943010615172, 0.10477720424606879, 0.4714974191073096, 0.10477720424606879, 0.82775195862251, 0.05173449741390688, 0.1293362435347672, 0.34455209983367285, 0.15661459083348767, 0.46984377250046294, 0.9901030924230564, 0.9986040141363748, 0.17661070026516987, 0.5298321007955096, 0.2943511671086164, 0.06591405974071272, 0.14006737694901455, 0.07415331720830182, 0.08239257467589091, 0.6426620824719491, 0.9566713258670189, 0.8717188657121082, 0.12381483209469853, 0.16508644279293136, 0.7016173818699584, 0.898712935874339, 0.0781489509455947, 0.9457983784059243, 0.9656842321722505, 0.8159698385494834, 0.15636200040515008, 0.833930668827467, 0.9000857156571327, 0.09000857156571326, 0.9929126267469466, 0.21577418455272587, 0.7552096459345405, 0.8926741750229006, 0.8655347020128922, 0.07868497291026293, 0.9808103946770069, 0.8917518983585555, 0.9712852979689172, 0.12758922219582816, 0.0405965706986726, 0.005799510099810371, 0.8235304341730727, 0.6811116523229471, 0.21006247221175006, 0.031827647304810615, 0.07956911826202653, 0.9403781764097008, 0.9745019899875715, 0.8163168912727292, 0.09070187680808102, 0.2696033585374244, 0.7414092359779171, 0.8366517261222518, 0.9059502602596861, 0.8469284138121161, 0.7222903237797027, 0.782449646477784, 0.9964553786344309, 0.9988058967956646, 0.9350068848548222, 0.11661816020502407, 0.5830908010251203, 0.29154540051256017, 0.9431332347858632, 0.9461630658767998, 0.033198704065852624, 0.8348402024332437, 0.9945029240353415, 0.8366520106121538, 0.9400952640115956, 0.740692510382756, 0.11395269390503938, 0.05697634695251969, 0.9314025614265399, 0.13585215509740575, 0.8830390081331373, 0.8729340639653245, 0.692697107969235, 0.782449646477784, 0.23781206029846436, 0.7350554591043443, 0.8886915477363375, 0.7245149643146808, 0.5087122261657384, 0.5087122261657384, 0.5393657137007324, 0.20547265283837424, 0.15410448962878068, 0.07705224481439034, 0.9979643449195523, 0.12263317013104225, 0.15093313246897508, 0.03773328311724377, 0.6886324168896988, 0.9331050532357228, 0.17520985169303813, 0.1226468961851267, 0.08760492584651906, 0.6132344809256335, 1.0011389581895713, 0.9506409272475126, 0.7582251644649689, 0.12637086074416148, 0.12637086074416148, 0.9267943068481617, 0.057924644178010104, 0.00622617149194925, 0.9930743529659055, 0.856630282693525, 0.12849454240402877, 0.7222911754753072, 0.16527557290868314, 0.6611022916347326, 0.16527557290868314, 0.21908841806069215, 0.7668094632124225, 0.9405566905170797, 0.15025035419201202, 0.1964812324049388, 0.17336579329847543, 0.4391933430228044, 0.023115439106463388, 0.07253349211410529, 0.3062525222595557, 0.6205643214206786, 0.020522285391725736, 0.03946593344562642, 0.9345533039924336, 0.00473591201347517, 0.988219935093184, 0.8717188657045923, 0.9205375650076444, 0.07485243813397437, 0.8982292576076923, 0.9964561058137412, 0.1020960475974211, 0.3062881427922633, 0.5104802379871054, 0.3006676974657817, 0.6013353949315634, 0.07516692436644543, 0.11785142721374527, 0.1767771408206179, 0.6481828496755989, 0.885216368458824, 0.9805771201222283, 0.42631112836284657, 0.5115733540354159, 0.1944726179068523, 0.1276226555013718, 0.4801042754575416, 0.048618154476713075, 0.14585446343013922, 0.9205200251278122, 0.07591917733012883, 0.722291746929458, 0.983945764207968, 0.8384049758650843, 0.13973416264418073, 0.7636764913182289, 0.9963078295658947, 0.0032881446520326555, 0.5643201889620523, 0.10450373869667634, 0.18810672965401742, 0.041801495478670535, 0.10450373869667634, 0.9977521764788475, 1.0003098449042387, 0.6926971079527515, 0.8586733549998286, 0.10733416937497857, 0.7182526741862636, 0.12203322134232633, 0.020919980801541657, 0.09762657707386106, 0.0383532981361597, 0.08066742433973462, 0.28233598518907116, 0.4840045460384077, 0.04033371216986731, 0.08066742433973462, 0.12884384059619652, 0.8482219505916272, 0.021473973432699422, 0.9286050394719741, 0.8926741095334465, 0.9821072880200084, 0.9320451952900594, 0.14268726263015957, 0.5707490505206383, 0.21403089394523936, 0.061151683984354104, 0.11707967964919812, 0.8820002533572925, 0.9431162512884865, 0.7400566558802487, 0.13876062297754665, 0.13876062297754665, 0.15240731891403878, 0.8382402540272132, 0.9464818055893662, 0.7222919243930215, 0.9265080552950752, 0.9959543575161034, 0.9520837197341282, 0.03733661646016189, 0.013727842553738179, 0.985830693390323, 0.8361982832603574, 0.29980501443062235, 0.06918577256091285, 0.48430040792638995, 0.11530962093485475, 0.3250240751641569, 0.05909528639348306, 0.443214647951123, 0.16251203758207844, 0.8584168297872496, 0.13497119965208326, 0.2736043919925516, 0.09120146399751719, 0.456007319987586, 0.18240292799503438, 0.3899754591316326, 0.5699641325770015, 0.044997168361342224, 0.8926741749910679, 0.16249234106804333, 0.8124617053402167, 0.11279725226981382, 0.13786330832977245, 0.2757266166595449, 0.4637220371092346, 0.9980577919920304, 0.07458649508917764, 0.07458649508917764, 0.8204514459809541, 0.7618151283537249, 0.23268830280260216, 0.00318751099729592, 0.3215493112582698, 0.6788263237674584, 0.9965407106525802, 0.0009925704289368328, 0.0019851408578736656, 0.0637073714466846, 0.15926842861671153, 0.0637073714466846, 0.15926842861671153, 0.5096589715734768, 0.0318536857233423, 0.2858481944351935, 0.6669791203487849, 0.9180316980328699, 0.08160281760292176, 0.35254272547933907, 0.17627136273966953, 0.48474624753409123, 0.9927004730923634, 0.18339468963317176, 0.05094296934254772, 0.19358328350168133, 0.4279209424774008, 0.13245172029062405, 0.9739195470100578, 0.6578733324475879, 0.09119036291352704, 0.10421755761545948, 0.14981273907222298, 0.9703605436949925, 0.9566709414698074, 0.10203138298580774, 0.1749109422613847, 0.6559160334801927, 0.05830364742046157, 0.99836760059676, 0.692697107986305, 0.19082289390822088, 0.7632915756328835, 0.9398263470757215, 0.9970441539321879, 0.9990986120900639, 0.8204347472405212, 0.14956852778466387, 0.36032418057214477, 0.10197854167136174, 0.333129902793115, 0.05438855555805959, 0.3557204570311811, 0.6225107998045669, 0.936307197949871, 0.8899129781468091, 1.0011388306002134, 0.692696912193517, 0.19588686199036287, 0.13059124132690858, 0.5876605859710886, 0.9896992587059897, 0.7757661473397405, 0.3802517869297648, 0.6337529782162747, 0.9576268894623308, 0.12465277506476583, 0.8310185004317722, 0.9419814960137607, 0.9419814960137607, 0.9410377316568984, 0.9419814960137607, 0.9861159923989778, 0.9278096172929422, 0.289023798807083, 0.578047597614166, 0.916081329102718, 0.8965256996123478, 0.9286050174595581, 0.8756533102393799, 0.8204349693379136, 0.1918374209287174, 0.7034038767386305, 0.12789161395247825, 0.9286048107767859, 0.8917518182097455, 0.9576267803591835, 0.9278105821943261, 0.9876111706028236, 0.7222919244497694, 0.8469284084964892, 0.8069500722209914, 0.7245148496020348, 0.6926971079024321, 0.22306369635683607, 0.7807229372489263, 0.9964563028622967, 0.2275995391614274, 0.5527417379634665, 0.16257109940101958, 0.06502843976040783, 0.6769133246965229, 0.8917524800109582, 0.7757661711153164, 0.8159698385105587, 0.7245148496020347, 0.834840203636435, 0.7245148496020348, 0.854787564549438, 0.8947432518972359, 0.9824791465135218, 0.8040989534022044, 0.16081979068044086, 0.8892656625597412, 0.8756533102393799, 0.1940673541553178, 0.7762694166212712, 0.9929126648600387, 0.817773906809669, 0.9410372287094125, 0.9205368903353975, 0.8263105499874775, 0.9998414195587755, 0.941037315618352, 0.8263105499874775, 0.6769133246927335, 0.9853498257811933, 0.9896992653021182, 0.22066094166025024, 0.11033047083012512, 0.6068175895656882, 0.1422470732684991, 0.8534824396109948, 0.9793821219589618, 0.6926971079692351, 0.3128674116035979, 0.730023960408395, 0.8204347651473445, 0.2975650338589959, 0.1983766892393306, 0.49594172309832646, 0.9748840524820692, 0.2995956128160158, 0.2496630106800132, 0.44939341922402376, 0.393581135601731, 0.5903717034025966, 0.7667999217116944, 0.21908569191762697, 0.2375973927040849, 0.15839826180272326, 0.4751947854081698, 0.14350118972396647, 0.7892565434818156, 0.13567197393188116, 0.7235838609700328, 0.13567197393188116, 0.9303299808853381, 0.8907357464573818, 0.17120690876116812, 0.8560345438058405, 0.9962999632292768, 1.0028061102316885, 1.0010676980565834, 0.17997478109567275, 0.17997478109567275, 0.6299117338348547, 0.3604794861541971, 0.5407192292312957, 0.9060926000548318, 0.8366518842923131, 0.9949525308844825, 0.765105284306555, 0.12751754738442583, 0.12751754738442583, 0.9515857931762347, 0.16304926941940345, 0.8152463470970173, 0.11185402131899913, 0.6711241279139948, 0.18642336886499855, 0.8067193622368287, 0.16134387244736575, 0.8547876744274915, 0.9976026328600378, 0.9400951011315386, 0.20951456489505585, 0.7682200712818714, 0.676913324694443, 0.8350835723684304, 0.9305051357089633, 0.692697107986307, 0.9563150688258257, 0.9963059538868458, 0.8469285133064318, 0.28160786409296257, 0.18773857606197505, 0.4693464401549376, 0.23149282010452155, 0.6283376545694156, 0.13228161148829803, 0.9305051438665434, 0.9319087362992922, 0.9456285379713244, 0.7604365125178548, 0.20011487171522493, 0.8917519377842101, 0.35295373166326305, 0.5882562194387717, 0.9851809334111351, 0.14668774072277627, 0.7334387036138814, 0.03667193518069407, 0.03667193518069407, 0.05880369409310169, 0.8232517173034236, 0.11760738818620338, 0.19910398283565506, 0.23892477940278609, 0.47784955880557217, 0.07964159313426203, 0.9962999796377986, 0.9307242627241717, 0.10407048762053614, 0.728493413343753, 0.10407048762053614, 0.9011492238698555, 0.0750957686558213, 0.2867094368339681, 0.14335471841698405, 0.5017415144594441, 0.9369592057893004, 0.05855995036183127, 0.35381373754602075, 0.6368647275828374, 0.9697104671344889, 0.9671962461216996, 0.6800815719923109, 0.20002399176244437, 0.08000959670497775, 0.12637558726608406, 0.5560525839707698, 0.12637558726608406, 0.17692582217251768, 0.5481219844101828, 0.39151570315013057, 1.0028085935046194, 0.9928801910934354, 0.9888442716405764, 0.9663747890019505, 0.026118237540593257, 0.9929127905041005, 0.9837361645277106, 0.8899130274214093, 0.9384180352883865, 0.045407324288147734, 0.1768890889938592, 0.11792605932923945, 0.7075563559754368, 0.3967777056641491, 0.056682529380592726, 0.5101427644253346, 0.7820751177723125, 0.17379447061606945, 0.13053532153775507, 0.21755886922959178, 0.1740470953836734, 0.43511773845918356, 0.32757817528492633, 0.45860944539889686, 0.16378908764246317, 0.7449265213868773, 0.21283614896767922, 0.07283081405677089, 0.6797542645298615, 0.24276938018923627, 0.82247874633518, 0.1326578623121258, 0.05306314492485032, 0.8412238676663409, 0.13144122932286575, 0.27007337080784055, 0.10802934832313622, 0.6481760899388174, 0.14142946453814992, 0.8283725780091638, 0.040408418439471405, 0.1402005427461183, 0.5608021709844732, 0.1402005427461183, 0.0934670284974122, 0.0934670284974122, 0.17525893572061346, 0.1314442017904601, 0.5257768071618404, 0.17525893572061346, 0.6926968170871676, 0.13620282735570743, 0.8172169641342447, 0.03405070683892686, 0.1980414674675638, 0.7261520473810672, 0.06601382248918793, 0.9875172579775714, 0.23884187275899582, 0.7165256182769875, 0.29322975558255354, 0.5864595111651071, 0.09774325186085119, 0.8180205687932359, 0.1636041137586472, 0.9713718452828093, 0.8204348455525344, 0.8981494849831545, 0.05498874397856048, 0.01832958132618683, 0.1323504203160948, 0.7941025218965689, 0.7757662255147074, 0.9679183933915798, 0.24635533311967803, 0.739065999359034, 0.9466383082028039, 0.08390012608456722, 0.8390012608456722, 0.8547880172039584, 0.97914077486895, 0.8878208472065158, 0.9853805835318302, 0.8186479841526624, 0.16372959683053248, 0.941981496002839, 0.22515184846287156, 0.6754555453886146, 0.07505061615429053, 0.18318330120369555, 0.793794305216014, 0.26594615787909454, 0.13297307893954727, 0.19945961840932092, 0.39891923681864183, 0.9643630997478118, 0.07983175691334016, 0.9047599116845219, 0.2189155973492283, 0.8026905236138371, 0.9950559682212978, 0.7189892184857887, 0.16917393376136206, 0.08458696688068103, 0.7744879157500529, 0.1290813192916755, 0.09681098946875662, 0.9648640573459486, 0.028378354627822018, 0.8013971272061771, 0.1602794254412354, 0.04579412155463869, 0.16487370646618946, 0.453402692782021, 0.37096583954892626, 0.10417300850181528, 0.7292110595127069, 0.13889734466908704, 0.838968955873925, 0.13657634165389476, 0.2511863821010739, 0.48841796519653263, 0.041864397016845654, 0.18141238707299784, 0.027909598011230434, 0.23253089786514536, 0.29066362233143167, 0.09301235914605814, 0.08138581425280088, 0.0348796346797718, 0.2557839876516599, 0.0292896697924174, 0.8054659192914785, 0.16109318385829569, 0.21140363666987586, 0.7812743094321498, 0.8400062619746709, 0.08842171178680747, 0.0663162838401056, 0.21297251306514967, 0.2484679319093413, 0.17747709422095806, 0.3549541884419161, 0.14802133238259613, 0.32564693124171146, 0.05920853295303845, 0.05920853295303845, 0.2368341318121538, 0.14802133238259613, 0.17931955915564973, 0.645550412960339, 0.1434556473245198, 0.7308726540531237, 0.25795505437169075, 0.16278544885737598, 0.29301380794327675, 0.5209134363436031, 0.3918229120526976, 0.17414351646786558, 0.3918229120526976, 0.34010867727371724, 0.632760329811567, 0.023728512367933764, 0.16390186020060504, 0.7867289289629041, 0.050660574971096106, 0.27061490729678617, 0.22076479279474662, 0.028485779715451177, 0.4771368102338072, 0.1810394886348829, 0.3469923532168589, 0.46768534564011416, 0.2871940320605307, 0.10530447842219459, 0.02871940320605307, 0.23932836005044225, 0.01914626880403538, 0.2680477632564953, 0.03829253760807076, 0.046284586537596754, 0.6364130648919554, 0.18513834615038702, 0.09256917307519351, 0.034713439903197564, 0.3623422774759399, 0.10065063263220553, 0.530093331862949, 0.008887917609683594, 0.3821804572163945, 0.07110334087746875, 0.479947550922914, 0.035551670438734376, 0.02666375282905078, 0.02080423282516724, 0.8529735458318568, 0.06241269847550172, 0.03120634923775086, 0.03120634923775086, 0.8950178604670148, 0.09728455005076247, 0.10314621573692609, 0.3094386472107783, 0.37458362557094216, 0.2117211796705325, 0.05037066152209933, 0.949846760131016, 0.03917307528098624, 0.9597403443841629, 0.1463227331069758, 0.2926454662139516, 0.3847745944664919, 0.1138065701943145, 0.03793552339810484, 0.021677441941774192, 0.12853075070044281, 0.7889128836096145, 0.07977770733130933, 0.0044320948517394074, 0.27641657348923576, 0.3360358344378945, 0.005419932813514427, 0.13549832033786066, 0.2438969766081492, 0.31117948556233344, 0.6506480152666971, 0.03394685297043637, 0.1676644378246115, 0.670657751298446, 0.04728996964283914, 0.11177629188307432, 0.9989438124897885, 0.15553181489814186, 0.8087654374703376, 0.8348402915303552, 0.9160813290869624, 0.932045394774273, 0.834840445806167, 0.7234995545199634, 0.2583926980428441, 0.724514964372375, 0.6769133246944339, 0.8159692612550709, 0.8348402481727307, 0.20460547915033084, 0.7161191770261579, 0.8650943815892327, 0.9980577472522849, 0.7627893552323819, 0.13460988621747916, 0.04486996207249305, 0.9319086806050448, 0.7222896310282166, 0.2655206606761952, 0.6638016516904879, 0.9323081866515321, 0.6447112745875043, 0.08230356696861757, 0.12345535045292635, 0.12345535045292635, 0.041151783484308785, 0.15444703082456113, 0.7722351541228056, 0.7245146377310961, 0.8069501510604764, 0.7245149324861058, 0.9319086806050448, 0.7222912337306877, 0.9896992653586185, 0.4815125037000895, 0.4815125037000895, 0.9796559999080542, 0.9672156602805327, 0.7245149324861058, 0.9059497724549841, 0.1679420537823277, 0.8397102689116386, 0.8427246308782755, 0.01793031129528246, 0.1255121790669772, 0.8159694155994467, 0.9876111439212037, 0.9566709412916234, 0.8348401987747238, 0.6926968519190185, 0.8509304797362695, 0.9835174553100493, 0.00973779658722821, 0.6926968315075208, 0.896527679819251, 0.9682090841210049, 0.8069500157295468, 0.9160813694812733, 0.9319085238536449, 0.7222911116660407, 0.9160813694812733, 0.9256679993297151, 0.8759510743374637, 0.9160813290869624, 0.850930728302396, 0.7245147613133198, 0.941981496002839, 0.5692947350708124, 0.2846473675354062, 0.1423236837677031, 0.9403777606757381, 0.22710868711766935, 0.681326061353008, 0.26594595845509905, 0.6648648961377476, 0.9059497579991361, 0.941981496002839, 0.8782307181870299, 0.11259368181884999, 0.7245149643566503, 0.724514964372351, 0.7245149643723511, 0.7245149643723511, 1.000026258542785, 0.9980581042523564, 0.676913324685324, 0.724514964372351, 0.724514964372351, 0.840101772555353, 0.724514964372351, 0.9205376000499581, 0.6926972224521843, 0.941981496002839, 0.9587943993702119], \"Term\": [\"\\u0985\\u09aa\\u09b0\", \"\\u0985\\u09aa\\u09b0\", \"\\u0985\\u09ac\\u09a4\\u09b0\\u09a3\", \"\\u0985\\u09ac\\u09a4\\u09b0\\u09a3\", \"\\u0985\\u09ac\\u09a4\\u09b2\", \"\\u0985\\u09ae\\u09b0\", \"\\u0985\\u09b8\\u09ae\", \"\\u0986\\u0987\\u0986\\u09b0\\u098f\\u09b8\", \"\\u0986\\u0987\\u098f\\u09ae\\u098f\\u09ab\", \"\\u0986\\u0987\\u098f\\u09b2\\u0993\", \"\\u0986\\u0987\\u0995\", \"\\u0986\\u0987\\u0995\", \"\\u0986\\u0987\\u099c\", \"\\u0986\\u0987\\u099c\", \"\\u0986\\u0987\\u09a1\\u09b2\", \"\\u0986\\u0987\\u09a1\\u09b2\", \"\\u0986\\u0987\\u09a8\", \"\\u0986\\u0987\\u09a8\\u09a4\", \"\\u0986\\u0987\\u09b2\", \"\\u0986\\u0987\\u09b2\", \"\\u0986\\u0987\\u09b8\", \"\\u0986\\u0987\\u09b8\", \"\\u0986\\u0997\\u09a4\", \"\\u0986\\u0997\\u09a4\", \"\\u0986\\u0997\\u09a4\", \"\\u0986\\u0997\\u09a4\", \"\\u0986\\u0997\\u09a4\", \"\\u0986\\u0997\\u09a4\", \"\\u0986\\u0997\\u09ae\\u09a8\", \"\\u0986\\u0997\\u09ae\\u09a8\", \"\\u0986\\u0997\\u09ae\\u09a8\", \"\\u0986\\u0997\\u09ae\\u09a8\", \"\\u0986\\u0997\\u09ae\\u09a8\", \"\\u0986\\u099a\\u09b0\\u09a3\", \"\\u0986\\u099a\\u09b0\\u09a3\\u0997\\u09a4\", \"\\u0986\\u099a\\u09b0\\u09a3\\u0997\\u09a4\", \"\\u0986\\u099f\\u0995\", \"\\u0986\\u099f\\u0995\", \"\\u0986\\u099f\\u0995\", \"\\u0986\\u09a6\\u09b0\", \"\\u0986\\u09aa\\u09b8\", \"\\u0986\\u09ac\\u09a6\", \"\\u0986\\u09ac\\u09a6\", \"\\u0986\\u09ac\\u09a6\", \"\\u0986\\u09ac\\u09a6\", \"\\u0986\\u09ac\\u09b0\\u09a3\", \"\\u0986\\u09ae\\u09b2\", \"\\u0986\\u09b0\\u0986\\u0987\", \"\\u0986\\u09b0\\u0987\\u098f\\u09ab\", \"\\u0986\\u09b0\\u098f\\u098f\\u09ab\", \"\\u0986\\u09b0\\u098f\\u09a8\\u098f\", \"\\u0986\\u09b0\\u098f\\u09a8\\u098f\\u09b0\", \"\\u0986\\u09b0\\u098f\\u09ab\", \"\\u0986\\u09b0\\u098f\\u09ab\\u098f\\u09ab\", \"\\u0986\\u09b0\\u098f\\u09ae\\u098f\\u09b8\", \"\\u0986\\u09b0\\u098f\\u09ae\\u098f\\u09b8\", \"\\u0986\\u09b0\\u098f\\u09b8\\u098f\\u09ab\\u098f\\u09b8\\u0986\\u09b0\", \"\\u0986\\u09b0\\u098f\\u09b8\\u098f\\u09ab\\u098f\\u09b8\\u0986\\u09b0\", \"\\u0986\\u09b0\\u09ac\", \"\\u0986\\u09b0\\u09b8\", \"\\u0986\\u09b2\\u09ac\", \"\\u0986\\u09b2\\u09ac\", \"\\u0986\\u09b2\\u09ac\", \"\\u0986\\u09b2\\u09ac\", \"\\u0986\\u09b2\\u09ac\", \"\\u0986\\u09b8\\u09a4\", \"\\u0986\\u09b8\\u09a8\", \"\\u0986\\u09b8\\u09a8\", \"\\u0986\\u09b8\\u09a8\", \"\\u0986\\u09b8\\u09a8\", \"\\u0986\\u09b8\\u09b2\", \"\\u0986\\u09b8\\u09b2\", \"\\u0986\\u09b8\\u09b2\", \"\\u0986\\u09b8\\u09b2\", \"\\u0986\\u09b9\\u09a4\", \"\\u0986\\u09b9\\u09a4\", \"\\u0986\\u09b9\\u09b0\\u09a3\", \"\\u0987\\u0987\\u0989\", \"\\u0987\\u0989\\u098f\\u09a8\\u098f\\u098f\\u09ae\", \"\\u0987\\u0989\\u098f\\u09b8\", \"\\u0987\\u0989\\u098f\\u09b8\", \"\\u0987\\u0989\\u098f\\u09b8\", \"\\u0987\\u0989\\u098f\\u09b8\", \"\\u0987\\u0989\\u098f\\u09b8\\u098f\\u09b8\", \"\\u0987\\u0989\\u098f\\u09b8\\u098f\\u09b8\\u0986\\u09b0\", \"\\u0987\\u0989\\u098f\\u09b8\\u098f\\u09b8\\u0986\\u09b0\", \"\\u0987\\u098f\\u09b8\\u098f\", \"\\u0987\\u0993\\u09a8\", \"\\u0987\\u0993\\u09a8\", \"\\u0987\\u0993\\u09a8\", \"\\u0987\\u0993\\u09a8\", \"\\u0987\\u099f\\u09b8\", \"\\u0987\\u099f\\u09b8\", \"\\u0987\\u099f\\u09b8\", \"\\u0987\\u09a8\\u0995\", \"\\u0987\\u09a8\\u0995\", \"\\u0987\\u09a8\\u0995\", \"\\u0987\\u09a8\\u09ab\", \"\\u0987\\u09a8\\u09b8\", \"\\u0989\\u0987\\u0995\", \"\\u0989\\u0987\\u0995\", \"\\u0989\\u0987\\u0995\", \"\\u0989\\u0987\\u09b2\", \"\\u0989\\u0987\\u09b2\", \"\\u0989\\u0987\\u09b2\", \"\\u0989\\u0987\\u09b2\", \"\\u0989\\u0987\\u09b2\", \"\\u0989\\u0987\\u09b2\\u09ae\\u099f\", \"\\u0989\\u0993\\u09b2\", \"\\u0989\\u09a0\\u09b2\", \"\\u0989\\u09a0\\u09b2\", \"\\u0989\\u09a0\\u09b2\", \"\\u0989\\u09aa\\u0995\\u09b0\\u09a3\", \"\\u0989\\u09aa\\u0995\\u09b0\\u09a3\", \"\\u0989\\u09aa\\u09b6\\u09ae\", \"\\u098f\\u0986\\u09b0\", \"\\u098f\\u0987\\u0989\\u09b0\", \"\\u098f\\u0987\\u099a\", \"\\u098f\\u0987\\u099a\", \"\\u098f\\u0987\\u099a\\u098f\\u09ae\\u098f\\u09b8\", \"\\u098f\\u0987\\u099a\\u098f\\u09ae\\u098f\\u09b8\", \"\\u098f\\u0987\\u099a\\u098f\\u09b2\", \"\\u098f\\u0987\\u09a1\\u09b8\", \"\\u098f\\u0987\\u09a1\\u09b8\", \"\\u098f\\u098f\\u0987\\u099a\\u0986\\u09b0\\u098f\", \"\\u098f\\u098f\\u09ab\", \"\\u098f\\u098f\\u09ab\", \"\\u098f\\u098f\\u09ab\\u098f\\u09b2\", \"\\u098f\\u098f\\u09ae\", \"\\u098f\\u098f\\u09b8\\u098f\\u09b8\\u0986\\u09b0\", \"\\u098f\\u0995\\u0995\", \"\\u098f\\u0995\\u0995\", \"\\u098f\\u0995\\u0995\", \"\\u098f\\u0995\\u0995\", \"\\u098f\\u0995\\u099c\\u09a8\", \"\\u098f\\u0995\\u099c\\u09a8\", \"\\u098f\\u0995\\u099c\\u09a8\", \"\\u098f\\u0995\\u099c\\u09a8\", \"\\u098f\\u0995\\u09a6\\u09b2\", \"\\u098f\\u0995\\u09ac\\u099a\\u09a8\", \"\\u098f\\u0995\\u09ae\\u09a4\", \"\\u098f\\u0995\\u09ae\\u09a4\", \"\\u098f\\u0995\\u09b0\", \"\\u098f\\u0995\\u09b0\", \"\\u098f\\u0995\\u09b0\\u0995\\u09ae\", \"\\u098f\\u0995\\u09b6\\u09a4\", \"\\u098f\\u09a8\\u0986\\u0987\\u0986\\u09b0\", \"\\u098f\\u09a8\\u0986\\u09b0\\u098f\", \"\\u098f\\u09a8\\u098f\\u0986\\u09b0\\u098f\", \"\\u098f\\u09a8\\u098f\\u0987\\u099a\\u098f\\u09b2\", \"\\u098f\\u09a8\\u098f\\u0987\\u099a\\u098f\\u09b8\", \"\\u098f\\u09a8\\u098f\\u098f\", \"\\u098f\\u09a8\\u098f\\u09ab\\u098f\\u09b2\", \"\\u098f\\u09a8\\u098f\\u09ab\\u098f\\u09b2\", \"\\u098f\\u09a8\\u098f\\u09ab\\u098f\\u09b2\", \"\\u098f\\u09a8\\u098f\\u09b8\", \"\\u098f\\u09ab\\u098f\", \"\\u098f\\u09ab\\u098f\", \"\\u098f\\u09ab\\u098f\\u0993\", \"\\u098f\\u09ae\\u098f\\u09b8\", \"\\u098f\\u09b2\\u098f\\u09b2\\u098f\\u09ae\", \"\\u098f\\u09b2\\u09ae\", \"\\u098f\\u09b8\\u098f\\u09ab\\u098f\\u09b8\\u0986\\u09b0\", \"\\u098f\\u09b8\\u098f\\u09ab\\u098f\\u09b8\\u0986\\u09b0\", \"\\u098f\\u09b8\\u098f\\u09ab\\u098f\\u09b8\\u0986\\u09b0\", \"\\u098f\\u09b8\\u098f\\u09b8\", \"\\u098f\\u09b8\\u098f\\u09b8\\u0986\\u09b0\", \"\\u098f\\u09b8\\u098f\\u09b8\\u0986\\u09b0\", \"\\u0993\\u0987\\u0989\", \"\\u0993\\u0989\\u0989\", \"\\u0993\\u098f\\u09ab\\u0986\\u09b0\", \"\\u0993\\u099c\\u09a8\", \"\\u0993\\u099c\\u09a8\", \"\\u0993\\u09e9\\u09ef\", \"\\u0995\\u0995\\u0995\\u09b8\", \"\\u0995\\u09ac\\u09b0\", \"\\u0995\\u09ac\\u09b0\", \"\\u0995\\u09ae\\u0987\", \"\\u0995\\u09ae\\u0987\", \"\\u0995\\u09ae\\u0987\", \"\\u0995\\u09ae\\u0987\", \"\\u0995\\u09b0\\u09a3\", \"\\u0995\\u09b0\\u09a4\", \"\\u0995\\u09b0\\u09a4\", \"\\u0995\\u09b0\\u09a4\", \"\\u0995\\u09b0\\u09a4\", \"\\u0995\\u09b0\\u09b2\", \"\\u0995\\u09b2\\u09ae\", \"\\u0995\\u09b2\\u09ae\", \"\\u0995\\u09b2\\u09ae\", \"\\u0995\\u09b2\\u09ae\", \"\\u0995\\u09b2\\u09b8\", \"\\u0996\\u09a8\\u09a8\", \"\\u0996\\u09ac\\u09b0\", \"\\u0996\\u09ac\\u09b0\", \"\\u0996\\u09ac\\u09b0\", \"\\u0996\\u09b0\\u099a\", \"\\u0996\\u09b0\\u099a\", \"\\u0997\\u09a0\\u09a8\", \"\\u0997\\u09a0\\u09a8\", \"\\u0997\\u09b0\\u09ae\", \"\\u0997\\u09b0\\u09ae\", \"\\u0998\\u099f\\u09b2\", \"\\u099a\\u09b0\\u09ae\", \"\\u099a\\u09b0\\u09ae\", \"\\u099a\\u09b0\\u09ae\", \"\\u099c\\u0997\\u09a4\", \"\\u099c\\u0997\\u09a4\", \"\\u099c\\u09a8\\u0987\", \"\\u099c\\u09a8\\u0995\", \"\\u099c\\u09a8\\u0995\", \"\\u099c\\u09a8\\u0995\", \"\\u099c\\u09a8\\u0995\", \"\\u099c\\u09a8\\u0995\", \"\\u099c\\u09a8\\u0997\\u09a3\", \"\\u099c\\u09a8\\u0997\\u09a3\", \"\\u099c\\u09a8\\u0997\\u09a3\", \"\\u099c\\u09a8\\u09b8\", \"\\u099c\\u09a8\\u09b8\", \"\\u099c\\u09a8\\u09b8\", \"\\u099c\\u09a8\\u09b8\", \"\\u099c\\u09a8\\u09b8\\u09a8\", \"\\u099c\\u09ac\\u09b8\", \"\\u099d\\u09b2\\u0995\", \"\\u099f\\u099f\\u09b2\", \"\\u099f\\u099f\\u09b2\", \"\\u099f\\u09aa\\u09b6\\u09aa\", \"\\u099f\\u09b0\\u09b0\", \"\\u099f\\u09b0\\u09b0\", \"\\u099f\\u09b0\\u09b0\", \"\\u09a1\\u099c\\u09a8\", \"\\u09a1\\u099c\\u09a8\", \"\\u09a1\\u099c\\u09a8\", \"\\u09a1\\u09b8\\u09a8\", \"\\u09a1\\u09b8\\u09a8\", \"\\u09a1\\u09b8\\u09a8\", \"\\u09a4\\u09a4\\u0987\", \"\\u09a4\\u09b0\\u09b2\", \"\\u09a5\\u09ae\\u09b8\\u09a8\", \"\\u09a5\\u09ae\\u09b8\\u09a8\", \"\\u09a6\\u0996\\u09b2\", \"\\u09a6\\u0996\\u09b2\", \"\\u09a6\\u0996\\u09b2\", \"\\u09a6\\u0996\\u09b2\", \"\\u09a6\\u0996\\u09b2\", \"\\u09a6\\u09ab\\u09a4\\u09b0\", \"\\u09a6\\u09ab\\u09a4\\u09b0\", \"\\u09a6\\u09ae\\u0995\\u09b2\", \"\\u09a6\\u09ae\\u09a8\", \"\\u09a6\\u09b2\\u0987\", \"\\u09a6\\u09b2\\u0987\", \"\\u09a6\\u09b2\\u0993\", \"\\u09a6\\u09b6\\u0995\", \"\\u09a6\\u09b6\\u0995\", \"\\u09a6\\u09b6\\u09ae\", \"\\u09a6\\u09b6\\u09ae\", \"\\u09a6\\u09b6\\u09ae\", \"\\u09a6\\u09b6\\u09ae\", \"\\u09a6\\u09b6\\u09ae\", \"\\u09a7\\u09b0\\u09a3\", \"\\u09a8\\u0995\\u09b2\", \"\\u09a8\\u0995\\u09b2\\u09b8\", \"\\u09a8\\u0997\\u09a6\", \"\\u09a8\\u0997\\u09a6\", \"\\u09a8\\u0997\\u09b0\", \"\\u09a8\\u0997\\u09b0\", \"\\u09a8\\u0997\\u09b0\", \"\\u09a8\\u0997\\u09b0\", \"\\u09a8\\u0997\\u09b0\", \"\\u09a8\\u09ac\\u09ae\", \"\\u09a8\\u09ac\\u09ae\", \"\\u09a8\\u09ac\\u09ae\", \"\\u09a8\\u09ac\\u09ae\", \"\\u09a8\\u09ac\\u09ae\", \"\\u09a8\\u09ae\\u09a8\", \"\\u09a8\\u09ae\\u09a8\", \"\\u09a8\\u09ae\\u09a8\", \"\\u09a8\\u09b0\\u0989\\u0987\\u099a\", \"\\u09a8\\u09b0\\u0989\\u09a1\", \"\\u09a8\\u09b0\\u09ae\", \"\\u09a8\\u09b0\\u09ae\\u09a8\", \"\\u09aa\\u09a4\\u09a8\", \"\\u09aa\\u09a4\\u09a8\", \"\\u09aa\\u09a4\\u09a8\", \"\\u09aa\\u09a4\\u09a8\", \"\\u09aa\\u09a6\\u0995\", \"\\u09aa\\u09a6\\u0995\", \"\\u09aa\\u09b0\\u09a4\", \"\\u09aa\\u09b0\\u09aa\\u09b0\\u0987\", \"\\u09aa\\u09b0\\u09aa\\u09b0\\u0987\", \"\\u09aa\\u09b0\\u09aa\\u09b0\\u0987\", \"\\u09aa\\u09b0\\u09ae\", \"\\u09aa\\u09b0\\u09ae\", \"\\u09aa\\u09b6\\u09ae\", \"\\u09ab\\u0996\\u09b0\", \"\\u09ab\\u09b2\\u09a8\", \"\\u09ab\\u09b2\\u09b8\", \"\\u09ab\\u09b8\\u09b2\", \"\\u09ab\\u09b8\\u09b2\", \"\\u09ac\\u099b\\u09b0\", \"\\u09ac\\u099b\\u09b0\", \"\\u09ac\\u099f\\u09ae\", \"\\u09ac\\u09b0\\u09ab\", \"\\u09ac\\u09b0\\u09ab\", \"\\u09ac\\u09b0\\u09ab\", \"\\u09ac\\u09b0\\u09ab\", \"\\u09ac\\u09b8\\u09a4\", \"\\u09ac\\u09b8\\u09a4\", \"\\u09ac\\u09b8\\u09a4\", \"\\u09ac\\u09b8\\u09a4\", \"\\u09ac\\u09b9\\u09a8\", \"\\u09ac\\u09b9\\u09a8\", \"\\u09ac\\u09b9\\u09b0\", \"\\u09ac\\u09b9\\u09b0\", \"\\u09ac\\u09b9\\u09b0\", \"\\u09ac\\u09b9\\u09b0\", \"\\u09ad\\u09ac\\u09a8\", \"\\u09ad\\u09ac\\u09a8\", \"\\u09ad\\u09ac\\u09a8\", \"\\u09ae\\u099f\\u09b0\", \"\\u09ae\\u09a8\\u09b8\", \"\\u09ae\\u09a8\\u09b8\", \"\\u09b0\\u099c\\u09a8\", \"\\u09b0\\u099c\\u09a8\", \"\\u09b0\\u099c\\u09a8\", \"\\u09b0\\u099c\\u09a8\", \"\\u09b0\\u09b8\\u09a6\", \"\\u09b2\\u09b8\\u09a8\", \"\\u09b2\\u09b8\\u09a8\", \"\\u09b2\\u09b8\\u09a8\", \"\\u09b6\\u09a4\\u0995\", \"\\u09b6\\u09a4\\u0995\", \"\\u09b6\\u09a4\\u0995\", \"\\u09b6\\u09b0\\u09a4\", \"\\u09b6\\u09b0\\u09a4\", \"\\u09b6\\u09b9\\u09b0\", \"\\u09b6\\u09b9\\u09b0\", \"\\u09b6\\u09b9\\u09b0\", \"\\u09b8\\u0995\\u09b2\", \"\\u09b8\\u0995\\u09b2\", \"\\u09b8\\u0995\\u09b2\", \"\\u09b8\\u0995\\u09b2\", \"\\u09b8\\u0995\\u09b2\", \"\\u09b8\\u0995\\u09b2\", \"\\u09b8\\u099f\\u09a8\", \"\\u09b8\\u099f\\u09a8\", \"\\u09b8\\u09a6\\u09b0\", \"\\u09b8\\u09a6\\u09b0\", \"\\u09b8\\u09a8\\u09a6\", \"\\u09b8\\u09a8\\u09a6\", \"\\u09b8\\u09a8\\u09a6\", \"\\u09b8\\u09ab\\u09b0\", \"\\u09b8\\u09ab\\u09b2\", \"\\u09b8\\u09ab\\u09b2\", \"\\u09b8\\u09ab\\u09b2\", \"\\u09b8\\u09ab\\u09b2\", \"\\u09b8\\u09ab\\u09b2\", \"\\u09b8\\u09ae\\u09a4\\u09b2\", \"\\u09b8\\u09ae\\u09a8\", \"\\u09b8\\u09ae\\u09a8\", \"\\u09b8\\u09ae\\u09a8\", \"\\u09b8\\u09ae\\u09a8\", \"\\u09b8\\u09b0\\u09b2\", \"\\u09b8\\u09b9\\u099a\\u09b0\", \"\\u09b8\\u09b9\\u099c\", \"\\u09b8\\u09b9\\u099c\", \"\\u09b8\\u09b9\\u099c\", \"\\u09b8\\u09b9\\u099c\", \"\\u09b9\\u099c\\u09ae\", \"\\u09b9\\u099c\\u09b8\\u09a8\", \"\\u09b9\\u09a1\\u09b8\\u09a8\", \"\\u09b9\\u09a1\\u09b8\\u09a8\", \"\\u09b9\\u09b0\\u09b0\", \"\\u09b9\\u09e9\\u09ef\", \"\\u09e6\\u09e6\\u09e6\", \"\\u09e6\\u09ef\\u09e9\", \"\\u09e7\\u09e6\\u09e6\", \"\\u09e7\\u09e6\\u09e6\", \"\\u09e7\\u09e6\\u09e6\", \"\\u09e7\\u09e6\\u09e6\", \"\\u09e7\\u09e6\\u09e6\", \"\\u09e7\\u09e6\\u09e6\\u09e6\", \"\\u09e7\\u09e6\\u09e6\\u09e6\", \"\\u09e7\\u09e6\\u09e7\", \"\\u09e7\\u09e6\\u09eb\", \"\\u09e7\\u09e6\\u09ee\\u09e6\", \"\\u09e7\\u09e6\\u09ef\\u09e6\", \"\\u09e7\\u09e7\\u09e6\", \"\\u09e7\\u09e7\\u09e6\", \"\\u09e7\\u09e7\\u09e6\", \"\\u09e7\\u09e7\\u09e7\", \"\\u09e7\\u09e7\\u09eb\\u09e6\", \"\\u09e7\\u09e7\\u09ee\", \"\\u09e7\\u09e7\\u09ee\", \"\\u09e7\\u09e7\\u09ef\", \"\\u09e7\\u09e8\\u09e6\", \"\\u09e7\\u09e8\\u09e6\", \"\\u09e7\\u09e8\\u09ed\\u09eb\", \"\\u09e7\\u09e8\\u09ed\\u09ec\", \"\\u09e7\\u09e8\\u09ed\\u09ed\", \"\\u09e7\\u09e8\\u09ed\\u09ef\", \"\\u09e7\\u09e8\\u09ee\", \"\\u09e7\\u09e8\\u09ef\", \"\\u09e7\\u09e9\\u09e7\", \"\\u09e7\\u09e9\\u09e7\", \"\\u09e7\\u09e9\\u09ea\", \"\\u09e7\\u09e9\\u09ea\\u09ec\", \"\\u09e7\\u09e9\\u09eb\\u09e6\", \"\\u09e7\\u09e9\\u09ed\\u09e9\\u09ed\\u09e9\\u09ed\", \"\\u09e7\\u09e9\\u09ee\\u09e9\\u09ee\", \"\\u09e7\\u09ea\\u09e6\", \"\\u09e7\\u09ea\\u09e6\", \"\\u09e7\\u09ea\\u09e6\", \"\\u09e7\\u09ea\\u09e6\\u09e6\", \"\\u09e7\\u09ea\\u09e8\\u09e6\\u09e9\\u09e6\\u09e7\\u09ec\\u09e9\\u09e6\", \"\\u09e7\\u09ea\\u09e9\", \"\\u09e7\\u09ea\\u09e9\\u09eb\", \"\\u09e7\\u09ea\\u09ec\", \"\\u09e7\\u09ea\\u09ec\\u09ef\", \"\\u09e7\\u09ea\\u09ee\", \"\\u09e7\\u09ea\\u09ee\\u09e6\", \"\\u09e7\\u09ea\\u09ee\\u09ea\\u09ea\", \"\\u09e7\\u09ea\\u09ee\\u09ee\", \"\\u09e7\\u09ea\\u09ef\\u09e8\", \"\\u09e7\\u09ea\\u09ef\\u09e8\", \"\\u09e7\\u09ea\\u09ef\\u09ee\", \"\\u09e7\\u09eb\\u09e6\", \"\\u09e7\\u09eb\\u09e6\", \"\\u09e7\\u09eb\\u09e6\", \"\\u09e7\\u09eb\\u09e6\", \"\\u09e7\\u09eb\\u09e6\\u09eb\\u09e6\", \"\\u09e7\\u09eb\\u09e8\\u09e6\", \"\\u09e7\\u09eb\\u09e8\\u09eb\", \"\\u09e7\\u09eb\\u09e8\\u09ec\", \"\\u09e7\\u09eb\\u09e8\\u09ef\", \"\\u09e7\\u09eb\\u09e9\", \"\\u09e7\\u09eb\\u09e9\\u09e7\", \"\\u09e7\\u09eb\\u09ea\", \"\\u09e7\\u09eb\\u09eb\\u09ee\", \"\\u09e7\\u09eb\\u09ee\\u09e8\", \"\\u09e7\\u09ec\\u09e6\", \"\\u09e7\\u09ec\\u09e6\", \"\\u09e7\\u09ec\\u09e9\\u09e9\", \"\\u09e7\\u09ec\\u09e9\\u09ee\", \"\\u09e7\\u09ec\\u09ea\\u09e6\", \"\\u09e7\\u09ec\\u09ea\\u09e6\", \"\\u09e7\\u09ec\\u09ec\\u09ea\", \"\\u09e7\\u09ec\\u09ed\\u09ee\", \"\\u09e7\\u09ec\\u09ef\\u09e6\", \"\\u09e7\\u09ec\\u09ef\\u09ec\\u09ef\\u09ef\", \"\\u09e7\\u09ed\\u09e9\\u09eb\", \"\\u09e7\\u09ed\\u09eb\", \"\\u09e7\\u09ed\\u09ec\\u09e8\", \"\\u09e7\\u09ed\\u09ec\\u09eb\\u09eb\", \"\\u09e7\\u09ed\\u09ec\\u09ed\\u09ec\\u09ed\\u09ec\", \"\\u09e7\\u09ed\\u09ef\\u09e6\", \"\\u09e7\\u09ed\\u09ef\\u09ee\", \"\\u09e7\\u09ee\\u09e6\", \"\\u09e7\\u09ee\\u09e6\", \"\\u09e7\\u09ee\\u09e6\", \"\\u09e7\\u09ee\\u09e6\\u09e6\", \"\\u09e7\\u09ee\\u09e6\\u09e6\", \"\\u09e7\\u09ee\\u09e6\\u09e7\", \"\\u09e7\\u09ee\\u09e6\\u09e9\", \"\\u09e7\\u09ee\\u09e6\\u09ec\", \"\\u09e7\\u09ee\\u09e6\\u09ec\", \"\\u09e7\\u09ee\\u09e7\\u09e7\", \"\\u09e7\\u09ee\\u09e7\\u09e8\", \"\\u09e7\\u09ee\\u09e7\\u09e8\", \"\\u09e7\\u09ee\\u09e7\\u09e8\", \"\\u09e7\\u09ee\\u09e7\\u09ea\", \"\\u09e7\\u09ee\\u09e7\\u09eb\", \"\\u09e7\\u09ee\\u09e7\\u09eb\", \"\\u09e7\\u09ee\\u09e7\\u09eb\", \"\\u09e7\\u09ee\\u09e7\\u09ee\", \"\\u09e7\\u09ee\\u09e7\\u09ee\", \"\\u09e7\\u09ee\\u09e8\\u09e6\", \"\\u09e7\\u09ee\\u09e8\\u09e6\", \"\\u09e7\\u09ee\\u09e8\\u09e7\", \"\\u09e7\\u09ee\\u09e8\\u09e7\", \"\\u09e7\\u09ee\\u09e8\\u09e7\", \"\\u09e7\\u09ee\\u09e8\\u09ea\", \"\\u09e7\\u09ee\\u09e8\\u09ea\", \"\\u09e7\\u09ee\\u09e9\\u09e6\", \"\\u09e7\\u09ee\\u09e9\\u09e6\", \"\\u09e7\\u09ee\\u09e9\\u09e6\", \"\\u09e7\\u09ee\\u09e9\\u09e7\", \"\\u09e7\\u09ee\\u09e9\\u09e8\", \"\\u09e7\\u09ee\\u09e9\\u09e9\", \"\\u09e7\\u09ee\\u09e9\\u09e9\", \"\\u09e7\\u09ee\\u09e9\\u09eb\", \"\\u09e7\\u09ee\\u09e9\\u09ed\", \"\\u09e7\\u09ee\\u09ea\\u09e6\", \"\\u09e7\\u09ee\\u09ea\\u09ea\", \"\\u09e7\\u09ee\\u09ea\\u09ea\", \"\\u09e7\\u09ee\\u09ea\\u09ea\", \"\\u09e7\\u09ee\\u09ea\\u09eb\", \"\\u09e7\\u09ee\\u09ea\\u09eb\", \"\\u09e7\\u09ee\\u09ea\\u09ec\", \"\\u09e7\\u09ee\\u09ea\\u09ed\\u09ea\", \"\\u09e7\\u09ee\\u09ea\\u09ee\", \"\\u09e7\\u09ee\\u09ea\\u09ef\", \"\\u09e7\\u09ee\\u09ea\\u09ef\", \"\\u09e7\\u09ee\\u09ea\\u09ef\", \"\\u09e7\\u09ee\\u09eb\\u09e6\", \"\\u09e7\\u09ee\\u09eb\\u09e8\", \"\\u09e7\\u09ee\\u09eb\\u09e8\", \"\\u09e7\\u09ee\\u09eb\\u09e9\", \"\\u09e7\\u09ee\\u09eb\\u09e9\", \"\\u09e7\\u09ee\\u09eb\\u09e9\", \"\\u09e7\\u09ee\\u09eb\\u09ea\", \"\\u09e7\\u09ee\\u09eb\\u09ea\", \"\\u09e7\\u09ee\\u09eb\\u09ec\", \"\\u09e7\\u09ee\\u09eb\\u09ed\", \"\\u09e7\\u09ee\\u09eb\\u09ee\", \"\\u09e7\\u09ee\\u09eb\\u09ef\", \"\\u09e7\\u09ee\\u09eb\\u09ef\", \"\\u09e7\\u09ee\\u09ec\", \"\\u09e7\\u09ee\\u09ec\\u09e6\\u09e6\", \"\\u09e7\\u09ee\\u09ec\\u09e7\", \"\\u09e7\\u09ee\\u09ec\\u09e9\\u09ec\\u09e9\", \"\\u09e7\\u09ee\\u09ed\\u09e6\", \"\\u09e7\\u09ee\\u09ed\\u09e7\", \"\\u09e7\\u09ee\\u09ed\\u09e8\\u09e8\", \"\\u09e7\\u09ee\\u09ed\\u09ef\", \"\\u09e7\\u09ee\\u09ed\\u09ef\", \"\\u09e7\\u09ee\\u09ed\\u09ef\", \"\\u09e7\\u09ee\\u09ee\\u09e6\", \"\\u09e7\\u09ee\\u09ee\\u09e6\", \"\\u09e7\\u09ee\\u09ee\\u09e6\", \"\\u09e7\\u09ee\\u09ee\\u09e9\", \"\\u09e7\\u09ee\\u09ee\\u09ed\", \"\\u09e7\\u09ee\\u09ee\\u09ee\\u09ee\", \"\\u09e7\\u09ee\\u09ef\\u09e6\", \"\\u09e7\\u09ee\\u09ef\\u09e6\", \"\\u09e7\\u09ee\\u09ef\\u09e8\", \"\\u09e7\\u09ee\\u09ef\\u09eb\", \"\\u09e7\\u09ee\\u09ef\\u09eb\", \"\\u09e7\\u09ee\\u09ef\\u09ec\", \"\\u09e7\\u09ee\\u09ef\\u09ee\", \"\\u09e7\\u09ee\\u09ef\\u09ee\", \"\\u09e7\\u09ee\\u09ef\\u09ee\", \"\\u09e7\\u09ee\\u09ef\\u09ee\", \"\\u09e7\\u09ee\\u09ef\\u09ef\", \"\\u09e7\\u09ee\\u09ef\\u09ef\", \"\\u09e7\\u09ee\\u09ef\\u09ef\", \"\\u09e7\\u09ef\\u09e6\\u09e6\", \"\\u09e7\\u09ef\\u09e6\\u09e6\", \"\\u09e7\\u09ef\\u09e6\\u09e6\", \"\\u09e7\\u09ef\\u09e6\\u09e6\", \"\\u09e7\\u09ef\\u09e6\\u09e7\", \"\\u09e7\\u09ef\\u09e6\\u09e8\", \"\\u09e7\\u09ef\\u09e6\\u09ea\", \"\\u09e7\\u09ef\\u09e6\\u09ea\", \"\\u09e7\\u09ef\\u09e6\\u09ea\", \"\\u09e7\\u09ef\\u09e6\\u09eb\", \"\\u09e7\\u09ef\\u09e6\\u09eb\", \"\\u09e7\\u09ef\\u09e6\\u09ee\", \"\\u09e7\\u09ef\\u09e6\\u09ee\", \"\\u09e7\\u09ef\\u09e6\\u09ee\", \"\\u09e7\\u09ef\\u09e6\\u09ef\", \"\\u09e7\\u09ef\\u09e6\\u09ef\", \"\\u09e7\\u09ef\\u09e7\", \"\\u09e7\\u09ef\\u09e7\", \"\\u09e7\\u09ef\\u09e7\\u09e6\", \"\\u09e7\\u09ef\\u09e7\\u09e7\\u09ec\", \"\\u09e7\\u09ef\\u09e7\\u09e8\", \"\\u09e7\\u09ef\\u09e7\\u09e8\", \"\\u09e7\\u09ef\\u09e7\\u09e8\", \"\\u09e7\\u09ef\\u09e7\\u09ea\", \"\\u09e7\\u09ef\\u09e7\\u09ea\", \"\\u09e7\\u09ef\\u09e7\\u09ea\", \"\\u09e7\\u09ef\\u09e7\\u09ea\", \"\\u09e7\\u09ef\\u09e7\\u09ed\", \"\\u09e7\\u09ef\\u09e7\\u09ed\", \"\\u09e7\\u09ef\\u09e7\\u09ed\\u09e7\", \"\\u09e7\\u09ef\\u09e7\\u09ee\", \"\\u09e7\\u09ef\\u09e7\\u09ef\", \"\\u09e7\\u09ef\\u09e8\\u09e6\", \"\\u09e7\\u09ef\\u09e8\\u09e6\", \"\\u09e7\\u09ef\\u09e8\\u09e7\", \"\\u09e7\\u09ef\\u09e8\\u09ea\", \"\\u09e7\\u09ef\\u09e8\\u09ed\", \"\\u09e7\\u09ef\\u09e9\\u09e6\", \"\\u09e7\\u09ef\\u09e9\\u09e6\", \"\\u09e7\\u09ef\\u09e9\\u09e8\", \"\\u09e7\\u09ef\\u09e9\\u09e8\", \"\\u09e7\\u09ef\\u09e9\\u09e8\", \"\\u09e7\\u09ef\\u09e9\\u09e9\", \"\\u09e7\\u09ef\\u09e9\\u09e9\", \"\\u09e7\\u09ef\\u09e9\\u09e9\", \"\\u09e7\\u09ef\\u09e9\\u09ec\", \"\\u09e7\\u09ef\\u09e9\\u09ec\", \"\\u09e7\\u09ef\\u09e9\\u09ee\", \"\\u09e7\\u09ef\\u09e9\\u09ee\", \"\\u09e7\\u09ef\\u09e9\\u09ee\", \"\\u09e7\\u09ef\\u09e9\\u09ee\", \"\\u09e7\\u09ef\\u09e9\\u09ef\", \"\\u09e7\\u09ef\\u09e9\\u09ef\", \"\\u09e7\\u09ef\\u09e9\\u09ef\", \"\\u09e7\\u09ef\\u09ea\", \"\\u09e7\\u09ef\\u09ea\", \"\\u09e7\\u09ef\\u09ea\\u09e6\", \"\\u09e7\\u09ef\\u09ea\\u09e6\", \"\\u09e7\\u09ef\\u09ea\\u09e6\", \"\\u09e7\\u09ef\\u09ea\\u09e7\", \"\\u09e7\\u09ef\\u09ea\\u09e7\", \"\\u09e7\\u09ef\\u09ea\\u09e7\", \"\\u09e7\\u09ef\\u09ea\\u09e8\", \"\\u09e7\\u09ef\\u09ea\\u09e8\", \"\\u09e7\\u09ef\\u09ea\\u09e9\", \"\\u09e7\\u09ef\\u09ea\\u09e9\", \"\\u09e7\\u09ef\\u09ea\\u09e9\", \"\\u09e7\\u09ef\\u09ea\\u09ea\", \"\\u09e7\\u09ef\\u09ea\\u09ea\", \"\\u09e7\\u09ef\\u09ea\\u09ea\", \"\\u09e7\\u09ef\\u09ea\\u09ea\\u09eb\", \"\\u09e7\\u09ef\\u09ea\\u09ea\\u09eb\", \"\\u09e7\\u09ef\\u09ea\\u09ea\\u09eb\", \"\\u09e7\\u09ef\\u09ea\\u09ea\\u09eb\", \"\\u09e7\\u09ef\\u09ea\\u09ea\\u09eb\", \"\\u09e7\\u09ef\\u09ea\\u09ec\", \"\\u09e7\\u09ef\\u09ea\\u09ec\", \"\\u09e7\\u09ef\\u09ea\\u09ec\", \"\\u09e7\\u09ef\\u09ea\\u09ec\", \"\\u09e7\\u09ef\\u09ea\\u09ed\", \"\\u09e7\\u09ef\\u09ea\\u09ee\", \"\\u09e7\\u09ef\\u09ea\\u09ee\", \"\\u09e7\\u09ef\\u09ea\\u09ee\", \"\\u09e7\\u09ef\\u09ea\\u09ef\", \"\\u09e7\\u09ef\\u09ea\\u09ef\", \"\\u09e7\\u09ef\\u09ea\\u09ef\", \"\\u09e7\\u09ef\\u09eb\\u09e6\", \"\\u09e7\\u09ef\\u09eb\\u09ea\", \"\\u09e7\\u09ef\\u09eb\\u09ea\", \"\\u09e7\\u09ef\\u09eb\\u09ec\", \"\\u09e7\\u09ef\\u09eb\\u09ec\", \"\\u09e7\\u09ef\\u09eb\\u09ec\", \"\\u09e7\\u09ef\\u09eb\\u09ee\", \"\\u09e7\\u09ef\\u09eb\\u09ee\", \"\\u09e7\\u09ef\\u09eb\\u09ef\", \"\\u09e7\\u09ef\\u09eb\\u09ef\\u09ef\", \"\\u09e7\\u09ef\\u09ec\\u09e6\", \"\\u09e7\\u09ef\\u09ec\\u09e6\", \"\\u09e7\\u09ef\\u09ec\\u09e6\", \"\\u09e7\\u09ef\\u09ec\\u09e6\\u09e6\", \"\\u09e7\\u09ef\\u09ec\\u09e6\\u09e6\", \"\\u09e7\\u09ef\\u09ec\\u09e9\\u09ec\\u09e9\", \"\\u09e7\\u09ef\\u09ec\\u09ea\\u09ea\", \"\\u09e7\\u09ef\\u09ec\\u09eb\", \"\\u09e7\\u09ef\\u09ec\\u09eb\", \"\\u09e7\\u09ef\\u09ec\\u09eb\\u09eb\", \"\\u09e7\\u09ef\\u09ec\\u09ec\", \"\\u09e7\\u09ef\\u09ec\\u09ec\", \"\\u09e7\\u09ef\\u09ec\\u09ec\\u09ec\\u09ec\", \"\\u09e7\\u09ef\\u09ec\\u09ef\\u09ef\", \"\\u09e7\\u09ef\\u09ed\", \"\\u09e7\\u09ef\\u09ed\\u09e6\", \"\\u09e7\\u09ef\\u09ed\\u09e6\\u09e6\", \"\\u09e7\\u09ef\\u09ed\\u09e6\\u09e6\", \"\\u09e7\\u09ef\\u09ed\\u09e7\", \"\\u09e7\\u09ef\\u09ed\\u09e8\", \"\\u09e7\\u09ef\\u09ed\\u09e8\", \"\\u09e7\\u09ef\\u09ed\\u09e8\", \"\\u09e7\\u09ef\\u09ed\\u09e9\", \"\\u09e7\\u09ef\\u09ed\\u09e9\", \"\\u09e7\\u09ef\\u09ed\\u09ea\", \"\\u09e7\\u09ef\\u09ed\\u09ea\", \"\\u09e7\\u09ef\\u09ed\\u09ea\", \"\\u09e7\\u09ef\\u09ed\\u09ea\", \"\\u09e7\\u09ef\\u09ed\\u09eb\", \"\\u09e7\\u09ef\\u09ed\\u09ef\", \"\\u09e7\\u09ef\\u09ed\\u09ef\", \"\\u09e7\\u09ef\\u09ee\", \"\\u09e7\\u09ef\\u09ee\", \"\\u09e7\\u09ef\\u09ee\\u09e6\", \"\\u09e7\\u09ef\\u09ee\\u09e7\", \"\\u09e7\\u09ef\\u09ee\\u09e7\", \"\\u09e7\\u09ef\\u09ee\\u09e7\", \"\\u09e7\\u09ef\\u09ee\\u09e8\", \"\\u09e7\\u09ef\\u09ee\\u09e8\", \"\\u09e7\\u09ef\\u09ee\\u09e8\", \"\\u09e7\\u09ef\\u09ee\\u09ea\", \"\\u09e7\\u09ef\\u09ee\\u09ea\", \"\\u09e7\\u09ef\\u09ee\\u09eb\", \"\\u09e7\\u09ef\\u09ee\\u09eb\", \"\\u09e7\\u09ef\\u09ee\\u09eb\", \"\\u09e7\\u09ef\\u09ee\\u09ec\", \"\\u09e7\\u09ef\\u09ee\\u09ec\", \"\\u09e7\\u09ef\\u09ee\\u09ec\", \"\\u09e7\\u09ef\\u09ee\\u09ed\", \"\\u09e7\\u09ef\\u09ee\\u09ed\", \"\\u09e7\\u09ef\\u09ee\\u09ed\", \"\\u09e7\\u09ef\\u09ee\\u09ee\", \"\\u09e7\\u09ef\\u09ee\\u09ee\", \"\\u09e7\\u09ef\\u09ee\\u09ef\", \"\\u09e7\\u09ef\\u09ee\\u09ef\", \"\\u09e7\\u09ef\\u09ee\\u09ef\", \"\\u09e7\\u09ef\\u09ee\\u09ef\", \"\\u09e7\\u09ef\\u09ee\\u09ef\", \"\\u09e7\\u09ef\\u09ef\", \"\\u09e7\\u09ef\\u09ef\", \"\\u09e7\\u09ef\\u09ef\", \"\\u09e7\\u09ef\\u09ef\", \"\\u09e7\\u09ef\\u09ef\", \"\\u09e7\\u09ef\\u09ef\", \"\\u09e7\\u09ef\\u09ef\\u09e6\", \"\\u09e7\\u09ef\\u09ef\\u09e6\", \"\\u09e7\\u09ef\\u09ef\\u09e6\", \"\\u09e7\\u09ef\\u09ef\\u09e7\", \"\\u09e7\\u09ef\\u09ef\\u09e7\", \"\\u09e7\\u09ef\\u09ef\\u09e8\", \"\\u09e7\\u09ef\\u09ef\\u09e8\", \"\\u09e7\\u09ef\\u09ef\\u09e8\", \"\\u09e7\\u09ef\\u09ef\\u09e9\", \"\\u09e7\\u09ef\\u09ef\\u09e9\", \"\\u09e7\\u09ef\\u09ef\\u09e9\", \"\\u09e7\\u09ef\\u09ef\\u09e9\", \"\\u09e7\\u09ef\\u09ef\\u09ea\", \"\\u09e7\\u09ef\\u09ef\\u09ea\", \"\\u09e7\\u09ef\\u09ef\\u09ea\", \"\\u09e7\\u09ef\\u09ef\\u09ea\", \"\\u09e7\\u09ef\\u09ef\\u09ea\", \"\\u09e7\\u09ef\\u09ef\\u09ea\", \"\\u09e7\\u09ef\\u09ef\\u09eb\", \"\\u09e7\\u09ef\\u09ef\\u09eb\", \"\\u09e7\\u09ef\\u09ef\\u09eb\", \"\\u09e7\\u09ef\\u09ef\\u09ec\", \"\\u09e7\\u09ef\\u09ef\\u09ec\", \"\\u09e7\\u09ef\\u09ef\\u09ed\", \"\\u09e7\\u09ef\\u09ef\\u09ed\", \"\\u09e7\\u09ef\\u09ef\\u09ed\", \"\\u09e7\\u09ef\\u09ef\\u09ee\", \"\\u09e7\\u09ef\\u09ef\\u09ee\", \"\\u09e7\\u09ef\\u09ef\\u09ee\", \"\\u09e7\\u09ef\\u09ef\\u09ef\", \"\\u09e7\\u09ef\\u09ef\\u09ef\", \"\\u09e7\\u09ef\\u09ef\\u09ef\", \"\\u09e8\\u09e6\\u09e6\", \"\\u09e8\\u09e6\\u09e6\", \"\\u09e8\\u09e6\\u09e6\", \"\\u09e8\\u09e6\\u09e6\\u09e6\", \"\\u09e8\\u09e6\\u09e6\\u09e6\", \"\\u09e8\\u09e6\\u09e6\\u09e6\", \"\\u09e8\\u09e6\\u09e6\\u09e6\", \"\\u09e8\\u09e6\\u09e6\\u09e7\", \"\\u09e8\\u09e6\\u09e6\\u09e7\", \"\\u09e8\\u09e6\\u09e6\\u09e7\", \"\\u09e8\\u09e6\\u09e6\\u09e8\", \"\\u09e8\\u09e6\\u09e6\\u09e8\", \"\\u09e8\\u09e6\\u09e6\\u09e8\", \"\\u09e8\\u09e6\\u09e6\\u09e8\", \"\\u09e8\\u09e6\\u09e6\\u09e8\", \"\\u09e8\\u09e6\\u09e6\\u09e8\", \"\\u09e8\\u09e6\\u09e6\\u09e8\", \"\\u09e8\\u09e6\\u09e6\\u09e9\", \"\\u09e8\\u09e6\\u09e6\\u09e9\", \"\\u09e8\\u09e6\\u09e6\\u09e9\", \"\\u09e8\\u09e6\\u09e6\\u09e9\", \"\\u09e8\\u09e6\\u09e6\\u09e9\", \"\\u09e8\\u09e6\\u09e6\\u09ea\", \"\\u09e8\\u09e6\\u09e6\\u09ea\", \"\\u09e8\\u09e6\\u09e6\\u09ea\", \"\\u09e8\\u09e6\\u09e6\\u09eb\", \"\\u09e8\\u09e6\\u09e6\\u09eb\", \"\\u09e8\\u09e6\\u09e6\\u09eb\", \"\\u09e8\\u09e6\\u09e6\\u09eb\", \"\\u09e8\\u09e6\\u09e6\\u09eb\", \"\\u09e8\\u09e6\\u09e6\\u09eb\", \"\\u09e8\\u09e6\\u09e6\\u09ec\", \"\\u09e8\\u09e6\\u09e6\\u09ec\", \"\\u09e8\\u09e6\\u09e6\\u09ec\", \"\\u09e8\\u09e6\\u09e6\\u09ec\", \"\\u09e8\\u09e6\\u09e6\\u09ec\", \"\\u09e8\\u09e6\\u09e6\\u09ed\", \"\\u09e8\\u09e6\\u09e6\\u09ed\", \"\\u09e8\\u09e6\\u09e6\\u09ee\", \"\\u09e8\\u09e6\\u09e6\\u09ee\", \"\\u09e8\\u09e6\\u09e6\\u09ee\", \"\\u09e8\\u09e6\\u09e6\\u09ee\", \"\\u09e8\\u09e6\\u09e6\\u09ef\", \"\\u09e8\\u09e6\\u09e6\\u09ef\", \"\\u09e8\\u09e6\\u09e7\", \"\\u09e8\\u09e6\\u09e7\", \"\\u09e8\\u09e6\\u09e7\\u09e6\", \"\\u09e8\\u09e6\\u09e7\\u09e6\", \"\\u09e8\\u09e6\\u09e7\\u09e6\", \"\\u09e8\\u09e6\\u09e7\\u09e6\", \"\\u09e8\\u09e6\\u09e7\\u09e6\", \"\\u09e8\\u09e6\\u09e7\\u09e6\", \"\\u09e8\\u09e6\\u09e7\\u09e7\", \"\\u09e8\\u09e6\\u09e7\\u09e7\", \"\\u09e8\\u09e6\\u09e7\\u09e7\", \"\\u09e8\\u09e6\\u09e7\\u09e7\", \"\\u09e8\\u09e6\\u09e7\\u09e8\", \"\\u09e8\\u09e6\\u09e7\\u09e8\", \"\\u09e8\\u09e6\\u09e7\\u09e8\", \"\\u09e8\\u09e6\\u09e7\\u09e8\", \"\\u09e8\\u09e6\\u09e7\\u09e8\", \"\\u09e8\\u09e6\\u09e7\\u09e9\", \"\\u09e8\\u09e6\\u09e7\\u09e9\", \"\\u09e8\\u09e6\\u09e7\\u09e9\", \"\\u09e8\\u09e6\\u09e7\\u09ea\", \"\\u09e8\\u09e6\\u09e7\\u09ea\", \"\\u09e8\\u09e6\\u09e7\\u09ea\", \"\\u09e8\\u09e6\\u09e7\\u09ea\", \"\\u09e8\\u09e6\\u09e7\\u09eb\", \"\\u09e8\\u09e6\\u09e7\\u09ec\", \"\\u09e8\\u09e6\\u09e7\\u09ec\", \"\\u09e8\\u09e6\\u09e9\\u09e6\", \"\\u09e8\\u09e7\\u09e8\", \"\\u09e8\\u09e7\\u09eb\", \"\\u09e8\\u09e7\\u09ef\", \"\\u09e8\\u09e8\\u09e8\", \"\\u09e8\\u09e8\\u09e8\", \"\\u09e8\\u09e8\\u09e8\\u09ec\", \"\\u09e8\\u09e8\\u09e9\", \"\\u09e8\\u09e8\\u09ed\", \"\\u09e8\\u09e9\\u09ed\", \"\\u09e8\\u09ea\\u09e6\", \"\\u09e8\\u09ea\\u09e6\", \"\\u09e8\\u09ea\\u09eb\", \"\\u09e8\\u09ea\\u09ed\", \"\\u09e8\\u09eb\\u09e6\", \"\\u09e8\\u09eb\\u09e6\", \"\\u09e8\\u09eb\\u09e6\", \"\\u09e8\\u09eb\\u09ed\", \"\\u09e8\\u09ee\\u09e6\\u09e6\", \"\\u09e8\\u09ef\\u09e6\", \"\\u09e8\\u09ef\\u09e6\", \"\\u09e8\\u09ef\\u09ef\", \"\\u09e9\\u09e6\\u09e6\", \"\\u09e9\\u09e6\\u09e6\", \"\\u09e9\\u09e6\\u09e6\", \"\\u09e9\\u09e6\\u09e6\", \"\\u09e9\\u09e6\\u09e6\", \"\\u09e9\\u09e6\\u09eb\", \"\\u09e9\\u09e6\\u09eb\", \"\\u09e9\\u09e6\\u09ef\", \"\\u09e9\\u09e7\\u09ee\", \"\\u09e9\\u09e8\\u09ec\", \"\\u09e9\\u09e9\\u09ec\", \"\\u09e9\\u09ea\\u09e8\", \"\\u09e9\\u09eb\\u09ea\", \"\\u09e9\\u09ec\\u09e6\", \"\\u09e9\\u09ec\\u09e6\", \"\\u09e9\\u09ec\\u09e6\\u09e6\", \"\\u09e9\\u09ee\\u09e6\", \"\\u09e9\\u09ef\\u09e6\", \"\\u09e9\\u09ef\\u09eb\", \"\\u09e9\\u09ef\\u09ef\", \"\\u09e9\\u09ef\\u09ef\", \"\\u09ea\\u09e6\\u09e6\", \"\\u09ea\\u09e6\\u09e6\", \"\\u09ea\\u09e6\\u09e6\", \"\\u09ea\\u09e9\\u09e9\", \"\\u09ea\\u09eb\\u09ed\", \"\\u09ea\\u09ec\\u09e6\", \"\\u09ea\\u09ec\\u09ef\", \"\\u09ea\\u09ed\\u09ea\", \"\\u09ea\\u09ed\\u09ed\", \"\\u09eb\\u09e6\\u09e6\", \"\\u09eb\\u09e6\\u09e6\", \"\\u09eb\\u09e7\\u09e6\", \"\\u09eb\\u09e7\\u09e8\", \"\\u09eb\\u09e9\\u09eb\", \"\\u09eb\\u09ea\\u09e8\", \"\\u09eb\\u09eb\\u09e9\", \"\\u09eb\\u09ed\\u09ee\", \"\\u09eb\\u09ee\\u09e6\", \"\\u09eb\\u09ef\\u09ef\\u09ef\", \"\\u09ec\\u09e6\\u09e6\\u09e6\\u09e6\", \"\\u09ec\\u09e8\\u09e8\", \"\\u09ec\\u09ea\\u09ea\\u09e9\", \"\\u09ec\\u09ed\\u09ec\\u09ed\\u09e8\", \"\\u09ec\\u09ed\\u09ec\\u09ed\\u09ec\\u09ed\", \"\\u09ec\\u09ef\\u09e8\", \"\\u09ed\\u09e6\\u09e6\", \"\\u09ed\\u09e6\\u09e6\", \"\\u09ed\\u09e6\\u09e6\", \"\\u09ed\\u09e6\\u09e6\\u09e6\\u09e6\", \"\\u09ed\\u09e8\\u09e6\", \"\\u09ed\\u09e8\\u09e6\", \"\\u09ed\\u09ea\\u09ea\", \"\\u09ed\\u09ea\\u09ea\", \"\\u09ed\\u09ea\\u09ea\\u09e7\", \"\\u09ed\\u09eb\\u09ee\", \"\\u09ee\\u09e6\\u09e6\", \"\\u09ee\\u09e6\\u09e6\", \"\\u09ee\\u09e6\\u09ef\", \"\\u09ee\\u09ef\\u09e7\\u09eb\", \"\\u09ee\\u09ef\\u09e8\\u09e8\", \"\\u09ee\\u09ef\\u09ef\\u09ea\", \"\\u09ef\\u09e6\\u09e6\", \"\\u09ef\\u09e6\\u09ed\", \"\\u09ef\\u09e6\\u09ee\", \"\\u09ef\\u09e7\\u09ec\\u09ef\", \"\\u09ef\\u09e7\\u09ee\\u09ef\", \"\\u09ef\\u09e9\\u09ed\\u09e9\\u09ed\", \"\\u09ef\\u09eb\\u09e7\\u09e6\", \"\\u09ef\\u09ee\\u09e6\", \"\\u09ef\\u09ee\\u09ef\", \"\\u09ef\\u09ee\\u09ef\\u09ec\", \"\\u09ef\\u09ef\\u09e6\"]}, \"R\": 30, \"lambda.step\": 0.01, \"plot.opts\": {\"xlab\": \"PC1\", \"ylab\": \"PC2\"}, \"topic.order\": [1, 10, 9, 5, 2, 6, 8, 3, 4, 7]};\n",
              "\n",
              "function LDAvis_load_lib(url, callback){\n",
              "  var s = document.createElement('script');\n",
              "  s.src = url;\n",
              "  s.async = true;\n",
              "  s.onreadystatechange = s.onload = callback;\n",
              "  s.onerror = function(){console.warn(\"failed to load library \" + url);};\n",
              "  document.getElementsByTagName(\"head\")[0].appendChild(s);\n",
              "}\n",
              "\n",
              "if(typeof(LDAvis) !== \"undefined\"){\n",
              "   // already loaded: just create the visualization\n",
              "   !function(LDAvis){\n",
              "       new LDAvis(\"#\" + \"ldavis_el4691406619537065762443817195\", ldavis_el4691406619537065762443817195_data);\n",
              "   }(LDAvis);\n",
              "}else if(typeof define === \"function\" && define.amd){\n",
              "   // require.js is available: use it to load d3/LDAvis\n",
              "   require.config({paths: {d3: \"https://d3js.org/d3.v5\"}});\n",
              "   require([\"d3\"], function(d3){\n",
              "      window.d3 = d3;\n",
              "      LDAvis_load_lib(\"https://cdn.jsdelivr.net/gh/bmabey/pyLDAvis@3.3.1/pyLDAvis/js/ldavis.v3.0.0.js\", function(){\n",
              "        new LDAvis(\"#\" + \"ldavis_el4691406619537065762443817195\", ldavis_el4691406619537065762443817195_data);\n",
              "      });\n",
              "    });\n",
              "}else{\n",
              "    // require.js not available: dynamically load d3 & LDAvis\n",
              "    LDAvis_load_lib(\"https://d3js.org/d3.v5.js\", function(){\n",
              "         LDAvis_load_lib(\"https://cdn.jsdelivr.net/gh/bmabey/pyLDAvis@3.3.1/pyLDAvis/js/ldavis.v3.0.0.js\", function(){\n",
              "                 new LDAvis(\"#\" + \"ldavis_el4691406619537065762443817195\", ldavis_el4691406619537065762443817195_data);\n",
              "            })\n",
              "         });\n",
              "}\n",
              "</script>"
            ],
            "text/plain": [
              "PreparedData(topic_coordinates=               x          y  topics  cluster       Freq\n",
              "topic                                                  \n",
              "0      32.420952   8.115230       1        1  15.948105\n",
              "9       0.648955  71.707100       2        1  15.264159\n",
              "8      71.019684   9.971006       3        1  11.867274\n",
              "4       3.785981  33.185135       4        1  10.586591\n",
              "1     -42.666500  -9.222070       5        1   9.806441\n",
              "5      -3.621689 -43.526516       6        1   7.931194\n",
              "7      -3.632402  -4.171708       7        1   7.747505\n",
              "2     -36.584400  35.804413       8        1   7.603232\n",
              "3      44.391380  50.615383       9        1   6.667136\n",
              "6      40.235809 -31.591665      10        1   6.578363, topic_info=       Term         Freq        Total Category  logprob  loglift\n",
              "119     বছর  1165.000000  1165.000000  Default  30.0000  30.0000\n",
              "494     শহর  1007.000000  1007.000000  Default  29.0000  29.0000\n",
              "427     আইন   580.000000   580.000000  Default  28.0000  28.0000\n",
              "30619   জনস   633.000000   633.000000  Default  27.0000  27.0000\n",
              "3961    দশক   608.000000   608.000000  Default  26.0000  26.0000\n",
              "...     ...          ...          ...      ...      ...      ...\n",
              "4997   ১৯১৭     4.973539    12.770880  Topic10  -6.3442   1.7783\n",
              "5933   ১৯১৪     6.875776    39.564603  Topic10  -6.0203   0.9715\n",
              "5540   ১৯৩৯     5.266511    30.527064  Topic10  -6.2869   0.9641\n",
              "14971  ১৮৫৩     4.973613    26.820672  Topic10  -6.3441   1.0364\n",
              "6786    আগত     4.973603    34.430527  Topic10  -6.3441   0.7866\n",
              "\n",
              "[589 rows x 6 columns], token_table=       Topic      Freq   Term\n",
              "term                         \n",
              "30903      7  0.923509    অপর\n",
              "30903      8  0.072149    অপর\n",
              "7043       4  0.090184  অবতরণ\n",
              "7043      10  0.901844  অবতরণ\n",
              "24461      6  0.905950   অবতল\n",
              "...      ...       ...    ...\n",
              "13800     10  0.724515   ৯৫১০\n",
              "3041       7  0.920538    ৯৮০\n",
              "23180      8  0.692697    ৯৮৯\n",
              "33629      5  0.941981   ৯৮৯৬\n",
              "31011      7  0.958794    ৯৯০\n",
              "\n",
              "[904 rows x 3 columns], R=30, lambda_step=0.01, plot_opts={'xlab': 'PC1', 'ylab': 'PC2'}, topic_order=[1, 10, 9, 5, 2, 6, 8, 3, 4, 7])"
            ]
          },
          "metadata": {
            "tags": []
          },
          "execution_count": 27
        }
      ]
    },
    {
      "cell_type": "code",
      "metadata": {
        "colab": {
          "base_uri": "https://localhost:8080/",
          "height": 244
        },
        "id": "ahAglNAGxU8i",
        "outputId": "5d40b5d0-b045-4606-947d-0cf96b07565e"
      },
      "source": [
        "# Topic-Keyword Matrix\n",
        "df_topic_keywords = pd.DataFrame(best_lda_model.components_)\n",
        "\n",
        "# Assign Column and Index\n",
        "df_topic_keywords.columns = vectorizer.get_feature_names()\n",
        "df_topic_keywords.index = topicnames\n",
        "\n",
        "# V\n",
        "df_topic_keywords.head()"
      ],
      "execution_count": null,
      "outputs": [
        {
          "output_type": "execute_result",
          "data": {
            "text/html": [
              "<div>\n",
              "<style scoped>\n",
              "    .dataframe tbody tr th:only-of-type {\n",
              "        vertical-align: middle;\n",
              "    }\n",
              "\n",
              "    .dataframe tbody tr th {\n",
              "        vertical-align: top;\n",
              "    }\n",
              "\n",
              "    .dataframe thead th {\n",
              "        text-align: right;\n",
              "    }\n",
              "</style>\n",
              "<table border=\"1\" class=\"dataframe\">\n",
              "  <thead>\n",
              "    <tr style=\"text-align: right;\">\n",
              "      <th></th>\n",
              "      <th>ইচ্ছাকৃত</th>\n",
              "      <th>সাম্রাজ্য</th>\n",
              "      <th>গঠনের</th>\n",
              "      <th>বিষয়</th>\n",
              "      <th>পশ্চিমা</th>\n",
              "      <th>দেশগুলির</th>\n",
              "      <th>পূর্বদিকে</th>\n",
              "      <th>ক্রমবর্ধমান</th>\n",
              "      <th>রোমানদের</th>\n",
              "      <th>প্রভাব</th>\n",
              "      <th>দেখছেন</th>\n",
              "      <th>ধ্রুবক</th>\n",
              "      <th>সংকট</th>\n",
              "      <th>ব্যবস্থাপনার</th>\n",
              "      <th>স্বল্প</th>\n",
              "      <th>অস্থির</th>\n",
              "      <th>অবিশ্বাস্য</th>\n",
              "      <th>জোটের</th>\n",
              "      <th>আন্তঃনির্ভরশীল</th>\n",
              "      <th>নেটওয়ার্কের</th>\n",
              "      <th>মেয়াদী</th>\n",
              "      <th>লক্ষ্যগুলিতে</th>\n",
              "      <th>দৃষ্টি</th>\n",
              "      <th>নিবদ্ধ</th>\n",
              "      <th>নির্ভরতা</th>\n",
              "      <th>সুস্পষ্ট</th>\n",
              "      <th>সামরিক</th>\n",
              "      <th>শাসনের</th>\n",
              "      <th>বড়</th>\n",
              "      <th>ব্যতিক্রম</th>\n",
              "      <th>ব্যতীত</th>\n",
              "      <th>রোমান</th>\n",
              "      <th>প্রজাতন্ত্র</th>\n",
              "      <th>স্বাধীন</th>\n",
              "      <th>নগর</th>\n",
              "      <th>রাজ্য</th>\n",
              "      <th>রাজ্যগুলির</th>\n",
              "      <th>জোট</th>\n",
              "      <th>রইল</th>\n",
              "      <th>স্বাধীনতার</th>\n",
              "      <th>...</th>\n",
              "      <th>ডেলানিজ</th>\n",
              "      <th>১৯১৬</th>\n",
              "      <th>রাইজিংয়ে</th>\n",
              "      <th>পানামার</th>\n",
              "      <th>ডালিয়া</th>\n",
              "      <th>মাদুরো</th>\n",
              "      <th>পানামি</th>\n",
              "      <th>ফিগালি</th>\n",
              "      <th>ড্যান্টি</th>\n",
              "      <th>সিয়ার্স</th>\n",
              "      <th>গ্রান</th>\n",
              "      <th>বিনি</th>\n",
              "      <th>কোকোস</th>\n",
              "      <th>লিডার</th>\n",
              "      <th>পিককোলো</th>\n",
              "      <th>ক্লাবম্যানের</th>\n",
              "      <th>দন্ত</th>\n",
              "      <th>ম্যাসি</th>\n",
              "      <th>ক্রার্ট</th>\n",
              "      <th>মার্শালস</th>\n",
              "      <th>বার্লিংটন</th>\n",
              "      <th>ম্যাক্সেক্স</th>\n",
              "      <th>কস্টকো</th>\n",
              "      <th>স্যামস</th>\n",
              "      <th>টোপেকা</th>\n",
              "      <th>ক্যাপ্রি</th>\n",
              "      <th>পিতুসা</th>\n",
              "      <th>হাইপারমার্কেট</th>\n",
              "      <th>নর্ডস্ট্রোম</th>\n",
              "      <th>স্যাক্স</th>\n",
              "      <th>ভাড়াটিয়া</th>\n",
              "      <th>মলের</th>\n",
              "      <th>জিইএম</th>\n",
              "      <th>সুম</th>\n",
              "      <th>পেট্রোভস্কি</th>\n",
              "      <th>মার্ক্ট</th>\n",
              "      <th>টেকনোসিলা</th>\n",
              "      <th>উইন্ড</th>\n",
              "      <th>বেলিয়ে</th>\n",
              "      <th>ভেটর</th>\n",
              "    </tr>\n",
              "  </thead>\n",
              "  <tbody>\n",
              "    <tr>\n",
              "      <th>Topic0</th>\n",
              "      <td>0.1</td>\n",
              "      <td>0.1</td>\n",
              "      <td>0.1</td>\n",
              "      <td>0.1</td>\n",
              "      <td>0.1</td>\n",
              "      <td>0.1</td>\n",
              "      <td>0.1</td>\n",
              "      <td>0.1</td>\n",
              "      <td>0.1</td>\n",
              "      <td>0.1</td>\n",
              "      <td>0.1</td>\n",
              "      <td>0.1</td>\n",
              "      <td>0.1</td>\n",
              "      <td>0.1</td>\n",
              "      <td>0.1</td>\n",
              "      <td>0.1</td>\n",
              "      <td>0.1</td>\n",
              "      <td>0.1</td>\n",
              "      <td>0.1</td>\n",
              "      <td>0.1</td>\n",
              "      <td>0.1</td>\n",
              "      <td>0.1</td>\n",
              "      <td>0.1</td>\n",
              "      <td>0.1</td>\n",
              "      <td>0.1</td>\n",
              "      <td>0.1</td>\n",
              "      <td>0.1</td>\n",
              "      <td>0.1</td>\n",
              "      <td>0.1</td>\n",
              "      <td>0.1</td>\n",
              "      <td>0.1</td>\n",
              "      <td>0.1</td>\n",
              "      <td>0.1</td>\n",
              "      <td>0.1</td>\n",
              "      <td>334.222740</td>\n",
              "      <td>0.1</td>\n",
              "      <td>0.1</td>\n",
              "      <td>0.1</td>\n",
              "      <td>0.100011</td>\n",
              "      <td>0.1</td>\n",
              "      <td>...</td>\n",
              "      <td>0.1</td>\n",
              "      <td>0.1</td>\n",
              "      <td>0.1</td>\n",
              "      <td>0.1</td>\n",
              "      <td>0.1</td>\n",
              "      <td>0.1</td>\n",
              "      <td>0.1</td>\n",
              "      <td>0.1</td>\n",
              "      <td>0.1</td>\n",
              "      <td>0.1</td>\n",
              "      <td>0.1</td>\n",
              "      <td>0.1</td>\n",
              "      <td>0.1</td>\n",
              "      <td>0.1</td>\n",
              "      <td>0.1</td>\n",
              "      <td>0.1</td>\n",
              "      <td>0.1</td>\n",
              "      <td>0.1</td>\n",
              "      <td>0.1</td>\n",
              "      <td>0.1</td>\n",
              "      <td>0.1</td>\n",
              "      <td>0.1</td>\n",
              "      <td>0.1</td>\n",
              "      <td>0.1</td>\n",
              "      <td>0.1</td>\n",
              "      <td>0.1</td>\n",
              "      <td>0.1</td>\n",
              "      <td>0.1</td>\n",
              "      <td>0.1</td>\n",
              "      <td>0.1</td>\n",
              "      <td>0.1</td>\n",
              "      <td>0.1</td>\n",
              "      <td>0.1</td>\n",
              "      <td>0.1</td>\n",
              "      <td>0.1</td>\n",
              "      <td>0.1</td>\n",
              "      <td>0.1</td>\n",
              "      <td>0.1</td>\n",
              "      <td>0.1</td>\n",
              "      <td>0.1</td>\n",
              "    </tr>\n",
              "    <tr>\n",
              "      <th>Topic1</th>\n",
              "      <td>0.1</td>\n",
              "      <td>0.1</td>\n",
              "      <td>0.1</td>\n",
              "      <td>0.1</td>\n",
              "      <td>0.1</td>\n",
              "      <td>0.1</td>\n",
              "      <td>0.1</td>\n",
              "      <td>0.1</td>\n",
              "      <td>0.1</td>\n",
              "      <td>0.1</td>\n",
              "      <td>0.1</td>\n",
              "      <td>0.1</td>\n",
              "      <td>0.1</td>\n",
              "      <td>0.1</td>\n",
              "      <td>0.1</td>\n",
              "      <td>0.1</td>\n",
              "      <td>0.1</td>\n",
              "      <td>0.1</td>\n",
              "      <td>0.1</td>\n",
              "      <td>0.1</td>\n",
              "      <td>0.1</td>\n",
              "      <td>0.1</td>\n",
              "      <td>0.1</td>\n",
              "      <td>0.1</td>\n",
              "      <td>0.1</td>\n",
              "      <td>0.1</td>\n",
              "      <td>0.1</td>\n",
              "      <td>0.1</td>\n",
              "      <td>0.1</td>\n",
              "      <td>0.1</td>\n",
              "      <td>0.1</td>\n",
              "      <td>0.1</td>\n",
              "      <td>0.1</td>\n",
              "      <td>0.1</td>\n",
              "      <td>52.949989</td>\n",
              "      <td>0.1</td>\n",
              "      <td>0.1</td>\n",
              "      <td>0.1</td>\n",
              "      <td>0.100000</td>\n",
              "      <td>0.1</td>\n",
              "      <td>...</td>\n",
              "      <td>0.1</td>\n",
              "      <td>0.1</td>\n",
              "      <td>0.1</td>\n",
              "      <td>0.1</td>\n",
              "      <td>0.1</td>\n",
              "      <td>0.1</td>\n",
              "      <td>0.1</td>\n",
              "      <td>0.1</td>\n",
              "      <td>0.1</td>\n",
              "      <td>0.1</td>\n",
              "      <td>0.1</td>\n",
              "      <td>0.1</td>\n",
              "      <td>0.1</td>\n",
              "      <td>0.1</td>\n",
              "      <td>0.1</td>\n",
              "      <td>0.1</td>\n",
              "      <td>0.1</td>\n",
              "      <td>0.1</td>\n",
              "      <td>0.1</td>\n",
              "      <td>0.1</td>\n",
              "      <td>0.1</td>\n",
              "      <td>0.1</td>\n",
              "      <td>0.1</td>\n",
              "      <td>0.1</td>\n",
              "      <td>0.1</td>\n",
              "      <td>0.1</td>\n",
              "      <td>0.1</td>\n",
              "      <td>0.1</td>\n",
              "      <td>0.1</td>\n",
              "      <td>0.1</td>\n",
              "      <td>0.1</td>\n",
              "      <td>0.1</td>\n",
              "      <td>0.1</td>\n",
              "      <td>0.1</td>\n",
              "      <td>0.1</td>\n",
              "      <td>0.1</td>\n",
              "      <td>0.1</td>\n",
              "      <td>0.1</td>\n",
              "      <td>0.1</td>\n",
              "      <td>0.1</td>\n",
              "    </tr>\n",
              "    <tr>\n",
              "      <th>Topic2</th>\n",
              "      <td>0.1</td>\n",
              "      <td>0.1</td>\n",
              "      <td>0.1</td>\n",
              "      <td>0.1</td>\n",
              "      <td>0.1</td>\n",
              "      <td>0.1</td>\n",
              "      <td>0.1</td>\n",
              "      <td>0.1</td>\n",
              "      <td>0.1</td>\n",
              "      <td>0.1</td>\n",
              "      <td>0.1</td>\n",
              "      <td>0.1</td>\n",
              "      <td>0.1</td>\n",
              "      <td>0.1</td>\n",
              "      <td>0.1</td>\n",
              "      <td>0.1</td>\n",
              "      <td>0.1</td>\n",
              "      <td>0.1</td>\n",
              "      <td>0.1</td>\n",
              "      <td>0.1</td>\n",
              "      <td>0.1</td>\n",
              "      <td>0.1</td>\n",
              "      <td>0.1</td>\n",
              "      <td>0.1</td>\n",
              "      <td>0.1</td>\n",
              "      <td>0.1</td>\n",
              "      <td>0.1</td>\n",
              "      <td>0.1</td>\n",
              "      <td>0.1</td>\n",
              "      <td>0.1</td>\n",
              "      <td>0.1</td>\n",
              "      <td>0.1</td>\n",
              "      <td>0.1</td>\n",
              "      <td>0.1</td>\n",
              "      <td>0.100006</td>\n",
              "      <td>0.1</td>\n",
              "      <td>0.1</td>\n",
              "      <td>0.1</td>\n",
              "      <td>0.100000</td>\n",
              "      <td>0.1</td>\n",
              "      <td>...</td>\n",
              "      <td>0.1</td>\n",
              "      <td>0.1</td>\n",
              "      <td>0.1</td>\n",
              "      <td>0.1</td>\n",
              "      <td>0.1</td>\n",
              "      <td>0.1</td>\n",
              "      <td>0.1</td>\n",
              "      <td>0.1</td>\n",
              "      <td>0.1</td>\n",
              "      <td>0.1</td>\n",
              "      <td>0.1</td>\n",
              "      <td>0.1</td>\n",
              "      <td>0.1</td>\n",
              "      <td>0.1</td>\n",
              "      <td>0.1</td>\n",
              "      <td>0.1</td>\n",
              "      <td>0.1</td>\n",
              "      <td>0.1</td>\n",
              "      <td>0.1</td>\n",
              "      <td>0.1</td>\n",
              "      <td>0.1</td>\n",
              "      <td>0.1</td>\n",
              "      <td>0.1</td>\n",
              "      <td>0.1</td>\n",
              "      <td>0.1</td>\n",
              "      <td>0.1</td>\n",
              "      <td>0.1</td>\n",
              "      <td>0.1</td>\n",
              "      <td>0.1</td>\n",
              "      <td>0.1</td>\n",
              "      <td>0.1</td>\n",
              "      <td>0.1</td>\n",
              "      <td>0.1</td>\n",
              "      <td>0.1</td>\n",
              "      <td>0.1</td>\n",
              "      <td>0.1</td>\n",
              "      <td>0.1</td>\n",
              "      <td>0.1</td>\n",
              "      <td>0.1</td>\n",
              "      <td>0.1</td>\n",
              "    </tr>\n",
              "    <tr>\n",
              "      <th>Topic3</th>\n",
              "      <td>0.1</td>\n",
              "      <td>0.1</td>\n",
              "      <td>0.1</td>\n",
              "      <td>0.1</td>\n",
              "      <td>0.1</td>\n",
              "      <td>0.1</td>\n",
              "      <td>0.1</td>\n",
              "      <td>0.1</td>\n",
              "      <td>0.1</td>\n",
              "      <td>0.1</td>\n",
              "      <td>0.1</td>\n",
              "      <td>0.1</td>\n",
              "      <td>0.1</td>\n",
              "      <td>0.1</td>\n",
              "      <td>0.1</td>\n",
              "      <td>0.1</td>\n",
              "      <td>0.1</td>\n",
              "      <td>0.1</td>\n",
              "      <td>0.1</td>\n",
              "      <td>0.1</td>\n",
              "      <td>0.1</td>\n",
              "      <td>0.1</td>\n",
              "      <td>0.1</td>\n",
              "      <td>0.1</td>\n",
              "      <td>0.1</td>\n",
              "      <td>0.1</td>\n",
              "      <td>0.1</td>\n",
              "      <td>0.1</td>\n",
              "      <td>0.1</td>\n",
              "      <td>0.1</td>\n",
              "      <td>0.1</td>\n",
              "      <td>0.1</td>\n",
              "      <td>0.1</td>\n",
              "      <td>0.1</td>\n",
              "      <td>0.100011</td>\n",
              "      <td>0.1</td>\n",
              "      <td>0.1</td>\n",
              "      <td>0.1</td>\n",
              "      <td>0.100000</td>\n",
              "      <td>0.1</td>\n",
              "      <td>...</td>\n",
              "      <td>0.1</td>\n",
              "      <td>0.1</td>\n",
              "      <td>0.1</td>\n",
              "      <td>0.1</td>\n",
              "      <td>0.1</td>\n",
              "      <td>0.1</td>\n",
              "      <td>0.1</td>\n",
              "      <td>0.1</td>\n",
              "      <td>0.1</td>\n",
              "      <td>0.1</td>\n",
              "      <td>0.1</td>\n",
              "      <td>0.1</td>\n",
              "      <td>0.1</td>\n",
              "      <td>0.1</td>\n",
              "      <td>0.1</td>\n",
              "      <td>0.1</td>\n",
              "      <td>0.1</td>\n",
              "      <td>0.1</td>\n",
              "      <td>0.1</td>\n",
              "      <td>0.1</td>\n",
              "      <td>0.1</td>\n",
              "      <td>0.1</td>\n",
              "      <td>0.1</td>\n",
              "      <td>0.1</td>\n",
              "      <td>0.1</td>\n",
              "      <td>0.1</td>\n",
              "      <td>0.1</td>\n",
              "      <td>0.1</td>\n",
              "      <td>0.1</td>\n",
              "      <td>0.1</td>\n",
              "      <td>0.1</td>\n",
              "      <td>0.1</td>\n",
              "      <td>0.1</td>\n",
              "      <td>0.1</td>\n",
              "      <td>0.1</td>\n",
              "      <td>0.1</td>\n",
              "      <td>0.1</td>\n",
              "      <td>0.1</td>\n",
              "      <td>0.1</td>\n",
              "      <td>0.1</td>\n",
              "    </tr>\n",
              "    <tr>\n",
              "      <th>Topic4</th>\n",
              "      <td>0.1</td>\n",
              "      <td>0.1</td>\n",
              "      <td>0.1</td>\n",
              "      <td>0.1</td>\n",
              "      <td>0.1</td>\n",
              "      <td>0.1</td>\n",
              "      <td>0.1</td>\n",
              "      <td>0.1</td>\n",
              "      <td>0.1</td>\n",
              "      <td>0.1</td>\n",
              "      <td>0.1</td>\n",
              "      <td>0.1</td>\n",
              "      <td>0.1</td>\n",
              "      <td>0.1</td>\n",
              "      <td>0.1</td>\n",
              "      <td>0.1</td>\n",
              "      <td>0.1</td>\n",
              "      <td>0.1</td>\n",
              "      <td>0.1</td>\n",
              "      <td>0.1</td>\n",
              "      <td>0.1</td>\n",
              "      <td>0.1</td>\n",
              "      <td>0.1</td>\n",
              "      <td>0.1</td>\n",
              "      <td>0.1</td>\n",
              "      <td>0.1</td>\n",
              "      <td>0.1</td>\n",
              "      <td>0.1</td>\n",
              "      <td>0.1</td>\n",
              "      <td>0.1</td>\n",
              "      <td>0.1</td>\n",
              "      <td>0.1</td>\n",
              "      <td>0.1</td>\n",
              "      <td>0.1</td>\n",
              "      <td>11.095507</td>\n",
              "      <td>0.1</td>\n",
              "      <td>0.1</td>\n",
              "      <td>0.1</td>\n",
              "      <td>8.099971</td>\n",
              "      <td>0.1</td>\n",
              "      <td>...</td>\n",
              "      <td>0.1</td>\n",
              "      <td>5.1</td>\n",
              "      <td>0.1</td>\n",
              "      <td>0.1</td>\n",
              "      <td>0.1</td>\n",
              "      <td>0.1</td>\n",
              "      <td>0.1</td>\n",
              "      <td>0.1</td>\n",
              "      <td>0.1</td>\n",
              "      <td>0.1</td>\n",
              "      <td>0.1</td>\n",
              "      <td>0.1</td>\n",
              "      <td>0.1</td>\n",
              "      <td>0.1</td>\n",
              "      <td>0.1</td>\n",
              "      <td>0.1</td>\n",
              "      <td>0.1</td>\n",
              "      <td>0.1</td>\n",
              "      <td>0.1</td>\n",
              "      <td>0.1</td>\n",
              "      <td>0.1</td>\n",
              "      <td>0.1</td>\n",
              "      <td>0.1</td>\n",
              "      <td>0.1</td>\n",
              "      <td>0.1</td>\n",
              "      <td>0.1</td>\n",
              "      <td>0.1</td>\n",
              "      <td>0.1</td>\n",
              "      <td>0.1</td>\n",
              "      <td>0.1</td>\n",
              "      <td>0.1</td>\n",
              "      <td>0.1</td>\n",
              "      <td>0.1</td>\n",
              "      <td>0.1</td>\n",
              "      <td>0.1</td>\n",
              "      <td>0.1</td>\n",
              "      <td>0.1</td>\n",
              "      <td>0.1</td>\n",
              "      <td>0.1</td>\n",
              "      <td>0.1</td>\n",
              "    </tr>\n",
              "  </tbody>\n",
              "</table>\n",
              "<p>5 rows × 37836 columns</p>\n",
              "</div>"
            ],
            "text/plain": [
              "        ইচ্ছাকৃত  সাম্রাজ্য  গঠনের  বিষয়  ...  টেকনোসিলা  উইন্ড  বেলিয়ে  ভেটর\n",
              "Topic0       0.1        0.1    0.1    0.1  ...        0.1    0.1      0.1   0.1\n",
              "Topic1       0.1        0.1    0.1    0.1  ...        0.1    0.1      0.1   0.1\n",
              "Topic2       0.1        0.1    0.1    0.1  ...        0.1    0.1      0.1   0.1\n",
              "Topic3       0.1        0.1    0.1    0.1  ...        0.1    0.1      0.1   0.1\n",
              "Topic4       0.1        0.1    0.1    0.1  ...        0.1    0.1      0.1   0.1\n",
              "\n",
              "[5 rows x 37836 columns]"
            ]
          },
          "metadata": {
            "tags": []
          },
          "execution_count": 28
        }
      ]
    },
    {
      "cell_type": "code",
      "metadata": {
        "id": "BmwmTRrhxcyq"
      },
      "source": [
        "# Show top n keywords for each topic\n",
        "def show_topics(vectorizer=vectorizer, lda_model=lda_model, n_words=20):\n",
        "    keywords = np.array(vectorizer.get_feature_names())\n",
        "    topic_keywords = []\n",
        "    for topic_weights in lda_model.components_:\n",
        "        top_keyword_locs = (-topic_weights).argsort()[:n_words]\n",
        "        topic_keywords.append(keywords.take(top_keyword_locs))\n",
        "    return topic_keywords\n",
        "\n",
        "topic_keywords = show_topics(vectorizer=vectorizer, lda_model=best_lda_model, n_words=35)        \n",
        "\n",
        "# Topic - Keywords Dataframe\n",
        "df_topic_keywords = pd.DataFrame(topic_keywords)\n",
        "df_topic_keywords.columns = ['Word '+str(i) for i in range(df_topic_keywords.shape[1])]\n",
        "df_topic_keywords.index = ['Topic '+str(i) for i in range(df_topic_keywords.shape[0])]\n"
      ],
      "execution_count": null,
      "outputs": []
    },
    {
      "cell_type": "code",
      "metadata": {
        "colab": {
          "base_uri": "https://localhost:8080/",
          "height": 548
        },
        "id": "p8OQRneCxw1V",
        "outputId": "a639cb9a-08c2-4d9a-caa2-f7150c3e232f"
      },
      "source": [
        "df_topic_keywords"
      ],
      "execution_count": null,
      "outputs": [
        {
          "output_type": "execute_result",
          "data": {
            "text/html": [
              "<div>\n",
              "<style scoped>\n",
              "    .dataframe tbody tr th:only-of-type {\n",
              "        vertical-align: middle;\n",
              "    }\n",
              "\n",
              "    .dataframe tbody tr th {\n",
              "        vertical-align: top;\n",
              "    }\n",
              "\n",
              "    .dataframe thead th {\n",
              "        text-align: right;\n",
              "    }\n",
              "</style>\n",
              "<table border=\"1\" class=\"dataframe\">\n",
              "  <thead>\n",
              "    <tr style=\"text-align: right;\">\n",
              "      <th></th>\n",
              "      <th>Word 0</th>\n",
              "      <th>Word 1</th>\n",
              "      <th>Word 2</th>\n",
              "      <th>Word 3</th>\n",
              "      <th>Word 4</th>\n",
              "      <th>Word 5</th>\n",
              "      <th>Word 6</th>\n",
              "      <th>Word 7</th>\n",
              "      <th>Word 8</th>\n",
              "      <th>Word 9</th>\n",
              "      <th>Word 10</th>\n",
              "      <th>Word 11</th>\n",
              "      <th>Word 12</th>\n",
              "      <th>Word 13</th>\n",
              "      <th>Word 14</th>\n",
              "      <th>Word 15</th>\n",
              "      <th>Word 16</th>\n",
              "      <th>Word 17</th>\n",
              "      <th>Word 18</th>\n",
              "      <th>Word 19</th>\n",
              "      <th>Word 20</th>\n",
              "      <th>Word 21</th>\n",
              "      <th>Word 22</th>\n",
              "      <th>Word 23</th>\n",
              "      <th>Word 24</th>\n",
              "      <th>Word 25</th>\n",
              "      <th>Word 26</th>\n",
              "      <th>Word 27</th>\n",
              "      <th>Word 28</th>\n",
              "      <th>Word 29</th>\n",
              "      <th>Word 30</th>\n",
              "      <th>Word 31</th>\n",
              "      <th>Word 32</th>\n",
              "      <th>Word 33</th>\n",
              "      <th>Word 34</th>\n",
              "    </tr>\n",
              "  </thead>\n",
              "  <tbody>\n",
              "    <tr>\n",
              "      <th>Topic 0</th>\n",
              "      <td>শহর</td>\n",
              "      <td>০০০</td>\n",
              "      <td>ইনস</td>\n",
              "      <td>একজন</td>\n",
              "      <td>নগর</td>\n",
              "      <td>৫০০</td>\n",
              "      <td>দফতর</td>\n",
              "      <td>সদর</td>\n",
              "      <td>২০০</td>\n",
              "      <td>আবদ</td>\n",
              "      <td>২০১২</td>\n",
              "      <td>৪০০</td>\n",
              "      <td>৩০০</td>\n",
              "      <td>৮০০</td>\n",
              "      <td>২০১৪</td>\n",
              "      <td>১৯৪২</td>\n",
              "      <td>৯০০</td>\n",
              "      <td>দখল</td>\n",
              "      <td>আইক</td>\n",
              "      <td>২০১১</td>\n",
              "      <td>দশম</td>\n",
              "      <td>২০১০</td>\n",
              "      <td>১৯২৪</td>\n",
              "      <td>ভবন</td>\n",
              "      <td>বসত</td>\n",
              "      <td>১০০</td>\n",
              "      <td>আপস</td>\n",
              "      <td>আহত</td>\n",
              "      <td>৭০০</td>\n",
              "      <td>২০০৮</td>\n",
              "      <td>খবর</td>\n",
              "      <td>২৫০</td>\n",
              "      <td>আইকন</td>\n",
              "      <td>বছর</td>\n",
              "      <td>পরপরই</td>\n",
              "    </tr>\n",
              "    <tr>\n",
              "      <th>Topic 1</th>\n",
              "      <td>জনস</td>\n",
              "      <td>২০০৯</td>\n",
              "      <td>১৯৯৯</td>\n",
              "      <td>২০১০</td>\n",
              "      <td>২০০০</td>\n",
              "      <td>২০০৫</td>\n",
              "      <td>১০০</td>\n",
              "      <td>গরম</td>\n",
              "      <td>২০০৮</td>\n",
              "      <td>তরল</td>\n",
              "      <td>নগর</td>\n",
              "      <td>২০০২</td>\n",
              "      <td>একজন</td>\n",
              "      <td>২০০১</td>\n",
              "      <td>১৯৪৯</td>\n",
              "      <td>রজন</td>\n",
              "      <td>১৯৯০</td>\n",
              "      <td>কমই</td>\n",
              "      <td>১৯৪০</td>\n",
              "      <td>১৮৫৪</td>\n",
              "      <td>জনসন</td>\n",
              "      <td>সফল</td>\n",
              "      <td>এআর</td>\n",
              "      <td>জনক</td>\n",
              "      <td>১৮৫৭</td>\n",
              "      <td>২০০</td>\n",
              "      <td>ইনক</td>\n",
              "      <td>১৯৫৯</td>\n",
              "      <td>সহজ</td>\n",
              "      <td>১৯৫৪</td>\n",
              "      <td>১৯৪৬</td>\n",
              "      <td>১৯৩২</td>\n",
              "      <td>১৯৪৪৫</td>\n",
              "      <td>লসন</td>\n",
              "      <td>১৪০</td>\n",
              "    </tr>\n",
              "    <tr>\n",
              "      <th>Topic 2</th>\n",
              "      <td>আইন</td>\n",
              "      <td>ধরণ</td>\n",
              "      <td>উইল</td>\n",
              "      <td>জনক</td>\n",
              "      <td>আইল</td>\n",
              "      <td>আলব</td>\n",
              "      <td>এমএস</td>\n",
              "      <td>সমন</td>\n",
              "      <td>সকল</td>\n",
              "      <td>ডসন</td>\n",
              "      <td>অপর</td>\n",
              "      <td>বহর</td>\n",
              "      <td>কলস</td>\n",
              "      <td>১০৮০</td>\n",
              "      <td>আবদ</td>\n",
              "      <td>১৯৮৬</td>\n",
              "      <td>হডসন</td>\n",
              "      <td>২৪০</td>\n",
              "      <td>১৮০৬</td>\n",
              "      <td>সটন</td>\n",
              "      <td>১৯৪</td>\n",
              "      <td>৭২০</td>\n",
              "      <td>কমই</td>\n",
              "      <td>১৮১৮</td>\n",
              "      <td>১৯৫৬</td>\n",
              "      <td>কবর</td>\n",
              "      <td>১৮৯০</td>\n",
              "      <td>টরর</td>\n",
              "      <td>আচরণগত</td>\n",
              "      <td>ওইউ</td>\n",
              "      <td>১৮১২</td>\n",
              "      <td>৩০৫</td>\n",
              "      <td>৭৪৪</td>\n",
              "      <td>১৮৫০</td>\n",
              "      <td>শপথ</td>\n",
              "    </tr>\n",
              "    <tr>\n",
              "      <th>Topic 3</th>\n",
              "      <td>হ৩৯</td>\n",
              "      <td>আরব</td>\n",
              "      <td>২০০৪</td>\n",
              "      <td>২০০১</td>\n",
              "      <td>সরল</td>\n",
              "      <td>২০০২</td>\n",
              "      <td>টটল</td>\n",
              "      <td>১৯৯</td>\n",
              "      <td>মনস</td>\n",
              "      <td>শরত</td>\n",
              "      <td>১৯৩৩</td>\n",
              "      <td>১৯৯৭</td>\n",
              "      <td>ডজন</td>\n",
              "      <td>১৯৩৯</td>\n",
              "      <td>এসএসআর</td>\n",
              "      <td>১৯৪৩</td>\n",
              "      <td>১৫৮২</td>\n",
              "      <td>আইএমএফ</td>\n",
              "      <td>১৮২৪</td>\n",
              "      <td>১৯৩৮</td>\n",
              "      <td>আরএসএফএসআর</td>\n",
              "      <td>১৯৯৮</td>\n",
              "      <td>১৯৯৪</td>\n",
              "      <td>৩৬০০</td>\n",
              "      <td>একর</td>\n",
              "      <td>২০১০</td>\n",
              "      <td>৪০০</td>\n",
              "      <td>১৪৯২</td>\n",
              "      <td>২০১৩</td>\n",
              "      <td>৩৬০</td>\n",
              "      <td>২৯০</td>\n",
              "      <td>৩৯৯</td>\n",
              "      <td>৮০০</td>\n",
              "      <td>ইটস</td>\n",
              "      <td>কলম</td>\n",
              "    </tr>\n",
              "    <tr>\n",
              "      <th>Topic 4</th>\n",
              "      <td>করণ</td>\n",
              "      <td>১৯৯১</td>\n",
              "      <td>নমন</td>\n",
              "      <td>দখল</td>\n",
              "      <td>শতক</td>\n",
              "      <td>করত</td>\n",
              "      <td>২০০৮</td>\n",
              "      <td>আইস</td>\n",
              "      <td>এইচ</td>\n",
              "      <td>খরচ</td>\n",
              "      <td>১৯৪৪</td>\n",
              "      <td>১৯৯২</td>\n",
              "      <td>ইটস</td>\n",
              "      <td>১৯১৪</td>\n",
              "      <td>পতন</td>\n",
              "      <td>১৮৪০</td>\n",
              "      <td>১৮৯৮</td>\n",
              "      <td>আইজ</td>\n",
              "      <td>১৯১২</td>\n",
              "      <td>উঠল</td>\n",
              "      <td>১৫০</td>\n",
              "      <td>চরম</td>\n",
              "      <td>২০০৩</td>\n",
              "      <td>১৯০৯</td>\n",
              "      <td>১০০</td>\n",
              "      <td>২০০৪</td>\n",
              "      <td>১৮৩৫</td>\n",
              "      <td>১৯০১</td>\n",
              "      <td>১৯০৪</td>\n",
              "      <td>১৯৭৫</td>\n",
              "      <td>১০০০</td>\n",
              "      <td>১৯১১</td>\n",
              "      <td>সমন</td>\n",
              "      <td>আইকন</td>\n",
              "      <td>১৮৯৯</td>\n",
              "    </tr>\n",
              "    <tr>\n",
              "      <th>Topic 5</th>\n",
              "      <td>২০১৫</td>\n",
              "      <td>২০১৩</td>\n",
              "      <td>আদর</td>\n",
              "      <td>জনগণ</td>\n",
              "      <td>আইডল</td>\n",
              "      <td>২০১</td>\n",
              "      <td>আসন</td>\n",
              "      <td>রজন</td>\n",
              "      <td>ওজন</td>\n",
              "      <td>বসত</td>\n",
              "      <td>১৯১০</td>\n",
              "      <td>২০১৪</td>\n",
              "      <td>২০১৬</td>\n",
              "      <td>ইইউ</td>\n",
              "      <td>২০১২</td>\n",
              "      <td>পরম</td>\n",
              "      <td>আরএএফ</td>\n",
              "      <td>বরফ</td>\n",
              "      <td>২০১০</td>\n",
              "      <td>আবদ</td>\n",
              "      <td>১২০</td>\n",
              "      <td>সমতল</td>\n",
              "      <td>২০১১</td>\n",
              "      <td>সমন</td>\n",
              "      <td>ইউএস</td>\n",
              "      <td>১৯৮৯</td>\n",
              "      <td>১৯০০</td>\n",
              "      <td>নবম</td>\n",
              "      <td>১৮০</td>\n",
              "      <td>নগর</td>\n",
              "      <td>সনদ</td>\n",
              "      <td>৩০০</td>\n",
              "      <td>আসল</td>\n",
              "      <td>আলব</td>\n",
              "      <td>১০০</td>\n",
              "    </tr>\n",
              "    <tr>\n",
              "      <th>Topic 6</th>\n",
              "      <td>গঠন</td>\n",
              "      <td>একক</td>\n",
              "      <td>২০১২</td>\n",
              "      <td>১৯১৮</td>\n",
              "      <td>কলম</td>\n",
              "      <td>অবতরণ</td>\n",
              "      <td>আসল</td>\n",
              "      <td>একর</td>\n",
              "      <td>সফল</td>\n",
              "      <td>১৮৪৮</td>\n",
              "      <td>আসন</td>\n",
              "      <td>আটক</td>\n",
              "      <td>১৯৬৬</td>\n",
              "      <td>১১০</td>\n",
              "      <td>১৮১৫</td>\n",
              "      <td>১৯১</td>\n",
              "      <td>১৮৭১</td>\n",
              "      <td>১৯০৮</td>\n",
              "      <td>১৯১৪</td>\n",
              "      <td>১৮৪৪</td>\n",
              "      <td>১৮২১</td>\n",
              "      <td>১৮৪৫</td>\n",
              "      <td>থমসন</td>\n",
              "      <td>১৮৮৮৮</td>\n",
              "      <td>১৯৩৯</td>\n",
              "      <td>১৮৫৩</td>\n",
              "      <td>আগত</td>\n",
              "      <td>১১৮</td>\n",
              "      <td>১৮৭৯</td>\n",
              "      <td>১৯১৭</td>\n",
              "      <td>১৮৯৫</td>\n",
              "      <td>১৯৯৪</td>\n",
              "      <td>১৭৫</td>\n",
              "      <td>৭০০</td>\n",
              "      <td>১৮৫৪</td>\n",
              "    </tr>\n",
              "    <tr>\n",
              "      <th>Topic 7</th>\n",
              "      <td>ফলস</td>\n",
              "      <td>অপর</td>\n",
              "      <td>পদক</td>\n",
              "      <td>ইনফ</td>\n",
              "      <td>আচরণ</td>\n",
              "      <td>সফর</td>\n",
              "      <td>নরম</td>\n",
              "      <td>আরস</td>\n",
              "      <td>এএফএল</td>\n",
              "      <td>সহজ</td>\n",
              "      <td>সফল</td>\n",
              "      <td>অসম</td>\n",
              "      <td>ইউএসএসআর</td>\n",
              "      <td>দখল</td>\n",
              "      <td>১৮৫৩</td>\n",
              "      <td>খনন</td>\n",
              "      <td>জনক</td>\n",
              "      <td>১৯৭৩</td>\n",
              "      <td>ফলন</td>\n",
              "      <td>১৯৬০০</td>\n",
              "      <td>১৯৭৪</td>\n",
              "      <td>বসত</td>\n",
              "      <td>১৯৮</td>\n",
              "      <td>এনএফএল</td>\n",
              "      <td>১৯৯৩</td>\n",
              "      <td>উইল</td>\n",
              "      <td>১৮৩৩</td>\n",
              "      <td>ইওন</td>\n",
              "      <td>একমত</td>\n",
              "      <td>আগত</td>\n",
              "      <td>১৯৬৫</td>\n",
              "      <td>১২৮</td>\n",
              "      <td>১৯৭০০</td>\n",
              "      <td>১৯৬৯৯</td>\n",
              "      <td>১৯৮৮</td>\n",
              "    </tr>\n",
              "    <tr>\n",
              "      <th>Topic 8</th>\n",
              "      <td>দশক</td>\n",
              "      <td>শতক</td>\n",
              "      <td>১৯৮০</td>\n",
              "      <td>১৯৯০</td>\n",
              "      <td>১৯৫০</td>\n",
              "      <td>১৯৩০</td>\n",
              "      <td>পতন</td>\n",
              "      <td>১৯৪০</td>\n",
              "      <td>১৯৬০</td>\n",
              "      <td>১৯৮৮</td>\n",
              "      <td>১৯৭০০</td>\n",
              "      <td>দমন</td>\n",
              "      <td>জনগণ</td>\n",
              "      <td>ভবন</td>\n",
              "      <td>১৯২০</td>\n",
              "      <td>১৯৮৯</td>\n",
              "      <td>১৯৭০</td>\n",
              "      <td>১৯৭৯</td>\n",
              "      <td>২০০০</td>\n",
              "      <td>১৯৪১</td>\n",
              "      <td>আমল</td>\n",
              "      <td>আরএনএ</td>\n",
              "      <td>জনস</td>\n",
              "      <td>১৯৯</td>\n",
              "      <td>বহন</td>\n",
              "      <td>আগমন</td>\n",
              "      <td>১৯৪৮</td>\n",
              "      <td>১৯৯১</td>\n",
              "      <td>১৯৮৭</td>\n",
              "      <td>দখল</td>\n",
              "      <td>১৮৯০</td>\n",
              "      <td>১৮৮০</td>\n",
              "      <td>১৯৯৫</td>\n",
              "      <td>১৮০০</td>\n",
              "      <td>১৯৭২</td>\n",
              "    </tr>\n",
              "    <tr>\n",
              "      <th>Topic 9</th>\n",
              "      <td>বছর</td>\n",
              "      <td>২০০</td>\n",
              "      <td>২০১১</td>\n",
              "      <td>বহন</td>\n",
              "      <td>২০১৪</td>\n",
              "      <td>সমন</td>\n",
              "      <td>২০০৭</td>\n",
              "      <td>২০০৬</td>\n",
              "      <td>একজন</td>\n",
              "      <td>২০১২</td>\n",
              "      <td>হজম</td>\n",
              "      <td>এফএ</td>\n",
              "      <td>২০০৮</td>\n",
              "      <td>২০১৩</td>\n",
              "      <td>২০০৩</td>\n",
              "      <td>২০০৪</td>\n",
              "      <td>২০১০</td>\n",
              "      <td>১০০</td>\n",
              "      <td>ফসল</td>\n",
              "      <td>উপকরণ</td>\n",
              "      <td>১৯৯৯</td>\n",
              "      <td>২০০৫</td>\n",
              "      <td>২০০০</td>\n",
              "      <td>১৯৮৫</td>\n",
              "      <td>নগর</td>\n",
              "      <td>১৯৮৪</td>\n",
              "      <td>২০০২</td>\n",
              "      <td>আসন</td>\n",
              "      <td>১৯৮২</td>\n",
              "      <td>একক</td>\n",
              "      <td>১৯৯</td>\n",
              "      <td>উইক</td>\n",
              "      <td>১৯৮৯</td>\n",
              "      <td>সফল</td>\n",
              "      <td>১৯৯৬</td>\n",
              "    </tr>\n",
              "  </tbody>\n",
              "</table>\n",
              "</div>"
            ],
            "text/plain": [
              "        Word 0 Word 1 Word 2 Word 3  ... Word 31 Word 32 Word 33 Word 34\n",
              "Topic 0    শহর    ০০০    ইনস   একজন  ...     ২৫০    আইকন     বছর   পরপরই\n",
              "Topic 1    জনস   ২০০৯   ১৯৯৯   ২০১০  ...    ১৯৩২   ১৯৪৪৫     লসন     ১৪০\n",
              "Topic 2    আইন    ধরণ    উইল    জনক  ...     ৩০৫     ৭৪৪    ১৮৫০     শপথ\n",
              "Topic 3    হ৩৯    আরব   ২০০৪   ২০০১  ...     ৩৯৯     ৮০০     ইটস     কলম\n",
              "Topic 4    করণ   ১৯৯১    নমন    দখল  ...    ১৯১১     সমন    আইকন    ১৮৯৯\n",
              "Topic 5   ২০১৫   ২০১৩    আদর   জনগণ  ...     ৩০০     আসল     আলব     ১০০\n",
              "Topic 6    গঠন    একক   ২০১২   ১৯১৮  ...    ১৯৯৪     ১৭৫     ৭০০    ১৮৫৪\n",
              "Topic 7    ফলস    অপর    পদক    ইনফ  ...     ১২৮   ১৯৭০০   ১৯৬৯৯    ১৯৮৮\n",
              "Topic 8    দশক    শতক   ১৯৮০   ১৯৯০  ...    ১৮৮০    ১৯৯৫    ১৮০০    ১৯৭২\n",
              "Topic 9    বছর    ২০০   ২০১১    বহন  ...     উইক    ১৯৮৯     সফল    ১৯৯৬\n",
              "\n",
              "[10 rows x 35 columns]"
            ]
          },
          "metadata": {
            "tags": []
          },
          "execution_count": 48
        }
      ]
    }
  ]
}